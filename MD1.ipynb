{
  "nbformat": 4,
  "nbformat_minor": 0,
  "metadata": {
    "colab": {
      "provenance": [],
      "include_colab_link": true
    },
    "kernelspec": {
      "name": "python3",
      "display_name": "Python 3"
    },
    "language_info": {
      "name": "python"
    }
  },
  "cells": [
    {
      "cell_type": "markdown",
      "metadata": {
        "id": "view-in-github",
        "colab_type": "text"
      },
      "source": [
        "<a href=\"https://colab.research.google.com/github/kikofers/Machine-Learning/blob/main/notebooks/HFST.ipynb\" target=\"_parent\"><img src=\"https://colab.research.google.com/assets/colab-badge.svg\" alt=\"Open In Colab\"/></a>"
      ]
    },
    {
      "cell_type": "markdown",
      "source": [
        "# 1. Mājasdarbs: Galīgo automātu lietojums morfoloģijā."
      ],
      "metadata": {
        "id": "4doVwHqc84g3"
      }
    },
    {
      "cell_type": "code",
      "source": [
        "!pip install hfst"
      ],
      "metadata": {
        "id": "5pLt3IA-nDRz",
        "colab": {
          "base_uri": "https://localhost:8080/"
        },
        "outputId": "9c9df7e7-cb44-459b-c080-f78d8bc9653f"
      },
      "execution_count": 5,
      "outputs": [
        {
          "output_type": "stream",
          "name": "stdout",
          "text": [
            "Collecting hfst\n",
            "  Downloading hfst-3.16.0.1-cp311-cp311-manylinux_2_28_x86_64.whl.metadata (14 kB)\n",
            "Downloading hfst-3.16.0.1-cp311-cp311-manylinux_2_28_x86_64.whl (66.8 MB)\n",
            "\u001b[2K   \u001b[90m━━━━━━━━━━━━━━━━━━━━━━━━━━━━━━━━━━━━━━━━\u001b[0m \u001b[32m66.8/66.8 MB\u001b[0m \u001b[31m13.3 MB/s\u001b[0m eta \u001b[36m0:00:00\u001b[0m\n",
            "\u001b[?25hInstalling collected packages: hfst\n",
            "Successfully installed hfst-3.16.0.1\n"
          ]
        }
      ]
    },
    {
      "cell_type": "code",
      "source": [
        "import hfst\n",
        "from IPython.display import Image"
      ],
      "metadata": {
        "id": "rr99fLiiBQox"
      },
      "execution_count": 6,
      "outputs": []
    },
    {
      "cell_type": "markdown",
      "source": [
        "## Leksikona izveide\n",
        "```\n",
        "Multichar_Symbols\n",
        "        +N      ! Noun tag\n",
        "        +Sg     ! Singular\n",
        "        +Pl     ! Plural\n",
        "        +Nom\n",
        "        +Gen\n",
        "        +Dat\n",
        "        +Acc\n",
        "        +Loc\n",
        "\n",
        "!Define root lexicon\n",
        "LEXICON Root\n",
        "  Nouns ; ! No input, no output\n",
        "\n",
        "!Define noun lexicon\n",
        "LEXICON Nouns\n",
        "  kūk N4dekl ;\n",
        "  paziņ N4dekl ;\n",
        "  mašīn N4dekl ;\n",
        "\n",
        "  kartupel N2dekl ;\n",
        "  džemper N2dekl ;\n",
        "  kām N2dekl;\n",
        "\n",
        "  salāt N1dekl ;\n",
        "  gald N1dekl ;\n",
        "  zēn N1dekl ;\n",
        "\n",
        "\n",
        "! Define 4th declension paradigm\n",
        "LEXICON N4dekl\n",
        "+N+Sg+Nom:^a  # ;\n",
        "+N+Sg+Gen:^as # ;\n",
        "+N+Sg+Dat:^ai # ;\n",
        "+N+Sg+Acc:^u # ;\n",
        "+N+Sg+Loc:^ā # ;\n",
        "+N+Pl+Nom:^as  # ;\n",
        "+N+Pl+Gen:^u  # ;\n",
        "+N+Pl+Dat:^ām # ;\n",
        "+N+Pl+Acc:^as # ;\n",
        "+N+Pl+Loc:^ās # ;\n",
        "\n",
        "! Define 2th declension paradigm\n",
        "LEXICON N2dekl\n",
        "+N+Sg+Nom:^is  #;\n",
        "+N+Sg+Gen:^Ma  #;\n",
        "+N+Sg+Dat:^im #;\n",
        "+N+Sg+Acc:^i #;\n",
        "+N+Sg+Loc:^ī #;\n",
        "+N+Pl+Nom:^Mi  #;\n",
        "+N+Pl+Gen:^Mu  #;\n",
        "+N+Pl+Dat:^Miem #;\n",
        "+N+Pl+Acc:^Mus #;\n",
        "+N+Pl+Loc:^Mos #;\n",
        "\n",
        "! Define 1th declension paradigm\n",
        "LEXICON N1dekl\n",
        "+N+Sg+Nom:^s  # ;\n",
        "+N+Sg+Gen:^a # ;\n",
        "+N+Sg+Dat:^am # ;\n",
        "+N+Sg+Acc:^u # ;\n",
        "+N+Sg+Loc:^ā # ;\n",
        "+N+Pl+Nom:^i  # ;\n",
        "+N+Pl+Gen:^u  # ;\n",
        "+N+Pl+Dat:^iem # ;\n",
        "+N+Pl+Acc:^us # ;\n",
        "+N+Pl+Loc:^os # ;\n",
        "\n",
        "```\n",
        "\n"
      ],
      "metadata": {
        "id": "JEZ2O8sjGHJF"
      }
    },
    {
      "cell_type": "code",
      "source": [
        "# Leksikona augšuplāde no faila (pēctam ieliekam manis augšā nodefinēto leksikona saturu!).\n",
        "!wget https://raw.githubusercontent.com/kikofers/Machine-Learning/refs/heads/main/notebooks/Latvian.lexc"
      ],
      "metadata": {
        "id": "Nb_KEu95Hoy2",
        "outputId": "75ac1dbc-afe7-4730-916b-892d3e74c8f1",
        "colab": {
          "base_uri": "https://localhost:8080/"
        }
      },
      "execution_count": 9,
      "outputs": [
        {
          "output_type": "stream",
          "name": "stdout",
          "text": [
            "--2025-05-15 17:45:09--  https://raw.githubusercontent.com/kikofers/Machine-Learning/refs/heads/main/notebooks/Latvian.lexc\n",
            "Resolving raw.githubusercontent.com (raw.githubusercontent.com)... 185.199.108.133, 185.199.109.133, 185.199.110.133, ...\n",
            "Connecting to raw.githubusercontent.com (raw.githubusercontent.com)|185.199.108.133|:443... connected.\n",
            "HTTP request sent, awaiting response... 200 OK\n",
            "Length: 1176 (1.1K) [text/plain]\n",
            "Saving to: ‘Latvian.lexc’\n",
            "\n",
            "\rLatvian.lexc          0%[                    ]       0  --.-KB/s               \rLatvian.lexc        100%[===================>]   1.15K  --.-KB/s    in 0s      \n",
            "\n",
            "2025-05-15 17:45:09 (70.6 MB/s) - ‘Latvian.lexc’ saved [1176/1176]\n",
            "\n"
          ]
        }
      ]
    },
    {
      "cell_type": "markdown",
      "source": [
        "![generator.png](data:image/png;base64,iVBORw0KGgoAAAANSUhEUgAAA6gAAAHlCAIAAAB3ekbkAAAABmJLR0QA/wD/AP+gvaeTAAAgAElEQVR4nOzdeTyUa/8H8HvGjJ0QQtlF0gkh2xSylCylRbt2okV1Eo86hVZ0KqRsT0QllCwVsqeyJEuWNlvZIuFYxzIzvz/mefw82hjDbfm+/ziv3HPf1/XR8jrfrq77e2EoFAoCAAAAAADAVIdFOwAAAAAAAADjAQpfAAAAAAAwLUDhCwAAAAAApgUofAEAAAAAwLQAhS8AAAAAAJgWcGgHAAAAAMAkQyKRCgoK0tLSiouLS0pKamtru7q6WltbWVlZWVlZ+fn5ZWVl582bRyAQCAQCOzs72nkB+A8MtDMDAAAAwDBlZmYGBweHhYW1tLTw8PBISUmJiIgICAgwMTFxcHB0d3cTicTm5ubq6uqqqqqqqio8Hq+np2dhYbF69WpmZma049NIWVm5uLiYSCSiHQSMFqz4AgAAAOA3yGRyTEzMuXPncnNzJSUlzc3N1dTUxMTEMBjML55qbm5+/fp1SkrK1q1beXh4jhw5sn//fk5OznGLDcAQsOILAAAAgF8pKCiwtrbOyckhEAibNm2SlZUd6QjNzc0PHjyIiopiZWV1d3e3sLD4dcWMFhwOFxAQsGPHjiHXYcV3yoCX2wAAAADwYyQS6dSpUyoqKl1dXf7+/i4uLjRUvQiC8PDw7N279969ewQCYffu3Xp6evX19XRPi6LOzk4HBwcpKSlGRkZubm5DQ8OXL18OvqG3t/fs2bOKioqcnJyzZs0yMDBITk7+fpyAgAAMBqOmpvb9R11dXX/99ZeMjAx1F/Xq1auLiorG6vuZuqDwBQAAAMAPNDY2Llu2zN3d/eDBgx4eHpKSkqMckIODw9bW9saNG2VlZQoKCqmpqXTJibq+vj59ff2AgAAPD4+mpqbc3Fw2NjZtbe1nz55RbyCTySYmJlevXj1z5szXr19zc3P5+PgMDAyioqKGP8uePXuCg4Nv3brV3Nycn5/Pzs6upaX1+fPnsfmepiwofAEAAAAwVGVlpaamZkVFhbe396pVq+i4M0FaWtrHx0dOTm758uVhYWH0GhZFoaGhmZmZrq6uRkZGnJyckpKSQUFBLCwsjo6O1BsiIiKePn3q7u5ubGzMxMQkLCwcGBjIz89/5cqVYU5BIpEePny4Zs0aNTU1Zmbm2bNnX7t2DYPBJCYmjtm3NTXBHl8AAAAA/A9q1cvBweHq6srNzT0WU1AoFG9v78jIyKCgoG3bto3FFMPEy8v77du3H3708OHD1atXI7/b47tp06Z79+41Njby8fENXDQxMXny5ElbWxsbG9uWLVvu3r075IaR4ufnZ2Rk9PPzMzAwwOGgOQGNYMUXAAAAAP+vsbHRwMCAg4PjypUrY1T1IgiCwWAOHDiwYcOG3bt3P3nyZIxmGY6mpibKfzEwMAQGBg58Sa16f6u6uhqPxw8paoWEhMhkMnUr8+fPn3E4HC8v72hyhoWFkclkIyMjLi6u5cuXe3h4tLa2jmbA6QkKXwAAAAD8B4lEWr9+PZFIdHV1ZWNjG+vpLC0t9fT0NmzY8PHjx7Gea5yRyWQEQbBYLIIgTExMZDJ5lP/GrqOjU1VVFRcXZ21t3dDQcPjw4blz5+bl5dEn7rQBhS8AAAAA/sPJySk7O9vZ2Xns1noHw2AwR48enTNnjrm5eU9PzzjMOBbExMT6+voaGhoGX6ytrcXj8YKCggiCiIuLk8nkxsbGUU7EyMi4YsUKd3f3goKCnJyc7u5ue3v7UY453UDhCwAAAAAEQZCCgoKLFy/a2NiMvoHD8OHx+FOnTn38+PHixYvjNil9GRkZIQgSGxs7cKWtrS0jI2PZsmUsLCwIgujq6iIIEh0dPXADmUwWERFRVVUdMtTP2pllZGQICwuXlpYOXFFRUZGWlu7u7qb3dzPFQeELAAAAAIRMJu/bt09WVtbU1HScpxYSErKwsLhw4UJ5efk4Tz1Ef3//96dX/Ja5ufmSJUscHR0TEhI6Ozs/fvy4bds2CoXi5uY2cMOyZcscHBwePXrU09NTU1Ozd+/empqaY8eODXMKJSUlLBa7Z8+e0tLSvr6+1tZWb2/vN2/e7N+/f6RppzkofAEAAACAREdHv3r1ytbWFpUz1dauXSsoKOjk5DT+Uw9TT08P5ju5ubkIgjAwMMTHx+/cuXPfvn1cXFxqampYLDYzM3PhwoXUZ7FY7KNHj2xtbY8dOzZjxgwlJaWampqUlJT169cPc3ZWVtbnz59LS0vr6+uzs7NLS0tHRERERERs2rRprL7hKQramQEAAAAAUVdXZ2RkdHFxQStAYmLixYsX3759O3fuXLQygCkPVnwBAACA6S4zMzMrKwvd5UNdXd1Zs2b5+PigmAFMeVD4AgAAANPdrVu3JCQkZGVlUcyAxWINDAxu377d39+PYgwwtcFWBwAAAGBaI5FI/Pz869evp2HFt7e318DA4PvrBw4cWLdu3UhHq6ur27x5c1JSErUNAg1aW1s7Ozs7Ojo6OjpaW1s7Ojp6e3u7u7uph6719vZ2dnYOeQSPx7Ozs1N/zMLCws7OzsHBwcXFxc7Ozs7OzsbGNj6d3cD4gCPvAAAAgGmtoKCgubn5+xZaw9He3o4gyLZt23bv3j36JEJCQiIiIikpKT8sfHt7e2tra6urqz9//lxXV9fY2NjU1PTt2zfqfxsbG//5558fDsvIyEg9jIOBgYGTk3PIp0QicaApWGdnZ29v7/cj8PLyzpo1a9asWYKCgvz8/EJCQtQfi4uLi4qKwgHCkwj8UgEAAADTWlpaGg8Pj5iYGA3PdnR0IAhC7VZLFwoKCgkJCcbGxjU1NTU1NZ8+faqurq6pqamurv7y5Qv1n6kZGRkFBQUFBARmzpzJy8s7d+5cXl5ePj4+Li4uLi4uNjY2NjY2Dg6OGTNmsLGxMTMzjyhAX19fR0dHS0sLdeW4s7OzpaWlsbGxsbHxy5cvX758KSsro5bd1BM38Hi8mJiYpKSk1H9JS0tLSUmh0hwD/BYUvgAAAMC0VlRUNHfuXNoKNWrhS8fDjWVkZB4/fqyhoYHFYgUEBERFRefMmaOpqSkqKiosLDxnzhxhYWEBAYGxKyvxeDw3N/dwtjc0NTVVVFSUlZWVl5eXlZXl5eVFRERQz2/j5OSUl5dftGjRokWLFBUVZWVlYVV4goBfBgAAAGBaKy0tFRUVpe1ZauHLyspKrzDCwsIkEikrK2vRokV4PJ5ew44FXl5eXl7exYsXD77Y3t7+7t27/Pz8169fv3z50tfXl0gkMjMzL1y4UFVVddmyZVpaWrBpGEVQ+AIAAADTWm1t7ZDqbfiohe/Xr18dHBwKCgoQBJGRkdm1a5e8vDxtAwoICCAIQiaTJ3jV+zMcHBwqKioqKirUL/v6+kpLS/Pz8/Py8p4/f+7t7Y0giIKCwrJly3R0dJYuXTrwXh0YH9DODAAAAJjW2tvbaV6ypTZJyM7O3rlzZ0xMjI+PDzs7u62tbUpKCm0DUndNUN+ZmwLweLy8vPyOHTs8PT3z8vK+fv16//59DQ2NuLg4IyMjbm5uTU3NixcvlpWVoZ10uoB2ZgAAAMC0hsPhHB0dae4gNkRfX9/27ds7OjoiIyNp2NhKJpOXLVv24MGDNWvW0CXPhPXly5fU1NTk5OTo6OimpiYFBYV169atW7dORkYG7WhTGaz4AgAAANMaIyNjX18fvUbD4/FKSkptbW01NTU0PE7tJjbSVgyTkYCAwKZNmwICAr58+ZKUlKSmpubl5TVv3ryFCxe6uLi8e/cO7YBTExS+AAAAwLTGzs4+0MiWLqh9vhgZGWl4tqurC0EQDg4OOuaZ4BgYGHR1dW/cuFFXV5eRkaGjo+Pn5ycrK6usrOzn50fdRQ3oBQpfAAAAYFrj4+Nrbm6m7VlPT08jI6Nv374NXCESiXl5eQICAkJCQjQMSE3Cx8dHW55JDYvFEggEDw+Pz58/P336VFJS8tChQ7Nnzz5w4MCHDx/QTjdFQOELAAAATGvz5s2rrq6m7dkVK1aQSKTTp09//Pixp6enoqLi9OnTLS0thw8fpm3Az58/43A4CQkJ2h6fGrBYrL6+flhYWE1NzenTp+Pi4mRlZY2NjZOSktCONulB4QsAAABMa7KyslVVVbQ9Ky0t7e3tzc/Pb2dnZ2hoeOTIETwef+3aNdoOQEYQpLKyUlxcnLZtElMPLy/v0aNHP378mJCQgMFgDAwMFBUVIyIioDMBzaCrAwAAADCtxcfHr1y58sGDBzw8PGhnQQ4dOqSqqurn54d2kIkoJyfn7Nmzjx49UlBQcHZ2NjExQTvR5AMrvgAAAMC0RiAQcDjc69ev0Q6CdHZ2lpaW6ujooB1kglq8eHFMTExeXp6YmNiqVauWLl2alZWFdqhJBgpfAAAAYKycPHkS818LFixAO86PsbOz6+rqpqamoh0EefbsGRaLNTAwQDvIhKagoBAZGZmZmYnBYDQ0NNavX//p0ye0Q00aUPgCAAAAtHBycsIMwsHBoaGhcfPmzcF7CM+ePUuhUCgUygQ/lcDMzCwrKys8PPyff/5BMUZiYqKxsfHMmTNRzDBZqKqqpqenx8TEvHnzZv78+efPn6e2QAa/BoUvAAAAQLu4uDgKhdLf319YWKimprZ79+5Dhw7RcfysrKzB5fWcOXNGOWBfX9/79++jo6Pd3Nx2796trKzMyclpZWVFJpOzsrJmzJhBl9g0+PDhQ15enqWlJVoBJiNjY+OioqITJ06cO3du4cKFGRkZaCea6EZ8liAAAAAw3eBwuICAgB07dvzsBgYGBgkJicuXL797987b2/vIkSP0asilpqY2mtfQW1pa3r9///btW+p/i4uLP336RCKREARhZmYmk8kDy4RaWlqvX79ub29H6/CIkJAQJSWl5cuXozL75MXIyOjo6Lhly5YDBw5oa2sfOnTo/PnzLCwsaOeaoGDFFwAAAKAbLS0tCoXy6tWrET0VEBCAwWB+2AKsvr7e2tpaUFCQkZFRTEzM0tKysbFxmMOWl5fz8/Orq6vv2bPn6tWrsbGxFRUV1KoXQRAikUitehkYGHbu3BkdHc3CwnLz5s0RJaeX/Pz858+fu7i4oDL7FCAqKhobG3vz5s2goCAFBYXs7Gy0E01QUPgCAAAAdEM9+5de6239/f2GhobR0dGxsbFtbW137tyJiopas2bNMNeAJSUld+zYgcPhyGRyT0/PD5/C4XBGRkb+/v4zZsxwd3ePiYl5//49XcIPX19fn4eHh5GR0cqVK8d56ilm+/btxcXFEhISS5Ys+fvvv6Fl7feg8AUAAADog0KhxMbGsrCwEAgEugxYWFhYV1dnY2OjrKzMzMysqam5a9euFy9elJWVDXMEZ2dnBgaGn32Kx+PV1NTCwsKo91hYWGhpaZ07d66rq4su+Yfp+vXr37598/LyGs9Jp6rZs2c/efLk7NmzDg4Opqamg0+TBggUvgAAAMAP8fLyDrxSRiKRdu7cOfBlVFTUkJtJJNL79++3b9+el5d34cKFkZ4EsWfPHgqF8n1PViUlpcbGxpMnTw5cERERQRBk+AetCQkJ2dra4vH47z/C4/HS0tKxsbHMzMzUKxgM5vbt293d3e7u7mQyeUTfAs2Sk5OjoqICAgLExMTGZ8YpD4PBHD9+/OXLlyUlJYqKivn5+WgnmkCg8AUAAAB+oKmpifJfDAwMgYGBA1+uXr164DZDQ0MMBoPD4ZSVlT99+hQdHW1ra0vHGPHx8WZmZmJiYqysrHg8fv/+/QiCDOzTHQ55efnvTwDG4/FCQkLJyclcXFyDrwsKCoaFhT1//vz69eujD/9beXl5rq6uhw8fNjc3H4fpphUVFZVXr15JSkouXbo0Ojoa7TgTBRS+AAAAAO2o7cwoFEp7e3t6erqpqSkdBw8PDzc0NGxtbQ0NDa2rq+vq6hpRPVpUVKSnp7d161YCgTB4wwMOh+Pi4kpLS5s1a9b3T+no6ISEhERGRvr5+Y3pJtG8vLyTJ0+amZldunRp7GaZzmbOnJmQkGBubr527VpPT0+040wI0M4MAAAAmKD8/f0xGExkZCQ3Nzf1Sk1NzXAebG5udnZ2vn79ury8fHp6urKysri4eGNjI3X1mpmZOTEx8RdbCzZs2NDb27t79+6WlpajR4/+cKfEKKWkpFy8eJHaUo1MJmOxsBI3JhgZGf/973/LyMgcPny4q6vLwcEB7UQog99nAAAAAMp+1s6st7cXj8cP7EYgEomhoaEIgvxiIbavr8/Pz09GRiYiIsLb2zs7O3vJkiUsLCwuLi4YDAaLxeLx+MTERHl5+V9H2rZtW3R0dEZGxsGDB+vq6kb3/Q1N6OHh4eLisn///piYGOpejp6eHjpOAYY4fvz4tWvXHB0dz5w5g3YWlEHhCwAAAPxGf3//L06vGDva2tq9vb1eXl5EIrG0tNTY2NjGxgZBkNzc3P7+/u/vT0pKUlRUPHjw4ObNm9+9e2dpaTmww2HXrl2ioqJYLDYqKuqHDYO/Z2hoWFRUxMHBsWvXrqCgoL6+vtF/R4WFhVZWVomJiXfv3r18+bKWllZcXNyzZ8/WrFlDJBJHPz74GRsbGx8fn9OnT6PVqnmCgK0OAAAAwJjQ1tZOT08ffAWDwVB/EBISsnXr1t+OYG9v39DQcP78eUdHR3l5+QsXLmhoaCQmJp45cyYzM/PJkycDd5aVlR08eDA+Pn79+vWPHj36fhsDDodzd3fv6+sb0dFoYmJiz549c3V1vXDhQlpa2pYtW3R1dWnblvDhw4eQkJCMjAxjY+Pk5OSBhJqamsnJyQYGBmZmZg8fPhxoMQHoztLSsrq6et++fSIiInp6emjHQQcGmhsDAAAAkxeRSHR1db148eLcuXOvXbu2dOnSsZilvLzcycnp3r17/Pz8BgYGBgYGQkJCw3mws7MzIyPj6dOneXl5SkpKzs7ORkZG39/2+vVrAwMDZWXlqKgoOG537FAolK1bt8bFxeXn54uKiqIdBwVQ+AIAAACTVVpamo2NzadPn+zs7BwdHb9vW0Zf5eXl3t7ed+/ebWhoEBERUVBQkJGRERYWFhAQYGFh4eDgIBKJ3d3dTU1N1dXVlZWVhYWFpaWlWCzW2NjY0tLy14vN+fn5+vr6cnJyjx8/ZmdnH9NvZDojEonq6uqMjIwZGRlj/RtmAoLCFwAAAJh8vnz5cvz48ZCQEGNj42vXro3n6h2JREpLS0tOTk5NTS0qKurs7Pz+HhwOJy4urqWlpaOjY2hoONCV4tcKCgr09fXnz58fExMzY8YMegcH//H27VsVFRUbGxs3Nze0s4w3KHwBAACAyYRMJgcEBNjZ2c2cOfPatWsrV65EN09NTU11dXVHR0draysbGxs7Ozs/P7+kpCRtTdCKi4uXL1/Ox8cXFxcnKChI97Q0cHJycnZ2RhCEgYGBm5tbXl5+48aNO3bswOFG9qJUdna2pqbmD99KHH9BQUG7d+9OT0+n1/HakwW83AYAAABMGjk5OdbW1sXFxXZ2didOnJgI22HnzJkzZ84ceo22YMGCly9fLl++XENDIyEhQVpaml4jj1JcXJy+vn5tbW1kZOTRo0dDQkLi4uJYWVmHP0JRUdHYxRupHTt2REVF7d69u6CgYCL8Lho30M4MAAAAmAS6u7vt7Ow0NDRmzJhRWFh49uzZqVqviIqKZmRk8PHxLVmyJDc3dzynxuFwQUFBP/uUgYFBRETk8OHDMTExGRkZIz0MYkIVvgiCXL9+vbGxkbqYPX1A4QsAAABMdC9fvly0aJG/v//169eTk5PnzZuHdqKxxcfHl5KSoqioqK2tHR0djXacobS1tZcuXRoQENDR0UG9Ul9fb21tLSgoyMjIKCYmZmlp2djYOHD/8+fPMRiMp6cniUTCDPL9yD88yqStrQ2DwQQHB+vp6bGzszs4ONTW1qqrq3Nych44cIDm70JISOjChQt///13SUkJzYNMOlD4AgAAABMX9ZjZJUuWiIuLFxUVWVpa/rBgmnrY2dkfP368Y8cOMzMzJycntOMMpaWl1d3dnZ2djSBIf3+/oaFhdHR0bGxsW1vbnTt3oqKi1qxZM/AaFYFAoFAoa9euZWBgoAwyzLmovRfc3NycnZ3Pnz/v5uZ24MCBwMBABwcHb2/v0SwkW1paLlq06NChQzSPMOlA4QsAAABMUBkZGQoKCr6+vjdu3Hjy5ImwsDDaicYVAwPDtWvXrly5cubMmb1799Ll6Dh6ERERQRDk8+fPCIIUFhbW1dXZ2NgoKyszMzNramru2rXrxYsXZWVldJxx5syZmpqaRkZGFAqFhYVl3rx51I7Ioyl8sVjs1atXU1NTHz58SL+kExoUvgAAAMCE09bWZmtrq62tLSMjU1xcbGlpiXYi1Nja2t6/f//u3bt6enqD9w/QCy8v78DeAxKJtHPnzoEvo6KifvYU9YS5rq4uBEGUlJQaGxtPnjw58Cm1LK6qqhppmD179lAolKysrO8/kpGRQRCEk5MTQRDquXfUH//zzz8jnWUwdXX1TZs2HTt2rLe3dzTjTBZQ+AIAAAATS1xc3IIFC+7duxcaGhobGzt79my0E6HMzMzs+fPnnz59UlNTKygooO/gTU1NA3sPGBgYAgMDB75cvXr1z56i7u6llp4IgsTHx5uZmYmJibGysuLx+P379yMIQiKR6JiTOhd1owu1mwT1x6Of5cKFC7W1tf7+/qPOOAlA4QsAAABMFEQi0dbW1sjISE1Nrbi42NzcHO1EE4WiouLr168lJSXV1dV/0Xhh3FRUVCAIQu22Fh4ebmho2NraGhoaWldX19XVdf36dbQDjoCIiMi+ffvOnTtHXcCe2qDwBQAAACaEkpISVVXVW7duhYSEhIeH8/HxoZ1oYpk5c2ZcXJy1tfWuXbtsbW17enpQDJOSkjJz5kxFRUUEQfz9/TEYTGRkpLq6OhcXFx6Pr6mpQTEbDU6cONHR0XHt2jW0g4w5KHwBAAAAlFEoFA8PDyUlJTY2try8vC1btqCdaILC4XCXL1++e/duUFCQhobGx48fUYmRkJCQm5t74MABar+F3t5ePB7PxcVF/ZRIJIaGhiIIMqRvAysrK4VC+fXOhB+2MxsHfHx8Bw8edHd3n/KLvlD4AgAAAGhqbGw0NjY+duyYg4NDRkaGhIQE2okmuo0bN75584aRkVFJSen27dt0HLm/v3/Hjh2/uOHbt28BAQEbNmzQ09NzdHSkXtTW1u7t7fXy8iISiaWlpcbGxjY2NgiC5ObmDj6gWEVFhUwmBwYG9vT0dHV1ffjwobq6mo7hR+no0aPd3d2BgYFoBxlbUPgCAAAAqElISJCXly8tLU1LS3NycmJgYEA70eQgKiqanp6+e/duCwuL7du3t7a2jvWMhoaGGAxGVFTU19f3zJkzT548oS73Ighib29vZWV1/vx5Xl7evXv3njp16vDhwwYGBmfOnDE1NR0YYd++fQcPHjx16hQbG5uAgICJicmrV6/GOvbwzZw508LC4u+//x5crE89mOH3TwYAAAAAvRCJRHt7ey8vr61bt16/fp2dnR3tRJPS48eP9+zZw8DA4O/vb2hoiHacya2iokJaWjo0NHT9+vVoZxkrUPgCAAAA443aseHLly++vr5TuMgYH62trfb29n5+fuvXr/fx8eHh4UE70SS2bt26T58+TailaPqCrQ4AAADAuLp7966amtrMmTMLCwuh6h09Li4uX1/fyMjIZ8+eLVy4MDw8HO1Ek5i9vX1ubm56ejraQcYKFL4AAADAOOnv73dwcNiyZcuWLVtSUlKm2xHEY8rMzKy4uNjAwGDjxo26urpv375FO9GkpKKismTJEnd3d7SDjBUofAEAAIDxUFdXp62t7e3tfe/ePV9fXzwej3aiqYaXl/fmzZsvX75sbW2Vl5e3s7Mb5XG+05Odnd2TJ09KSkrQDjImYI8vAAAAMOYyMjI2bNjAwcHx4MGDBQsWoB1niiORSH5+fidPnsRgMPb29gcOHGBhYUE71KRBoVDk5OQIBIKfnx/aWegPVnwBAACAseXn56erq6uiopKdnQ1V7zhgYGCwtrYuLy+3srJydnaWkpK6du1ad3c32rkmBwwGY2VlFRoa2t7ejnYW+oPCFwAAABgrHR0dGzZssLGxcXR0jIqKGjjcC4wDLi6uc+fOlZeXr1u37vjx46KiomfPnm1ubkY71ySwbdu2/v7+KfmaIGx1AAAAAMbE+/fvzczMvn37du/ePR0dHbTjTGtfv3719vb28vLq6uoyMTGxtbXV1NREO9SEtnnz5qqqqpcvX6IdhM6g8AUAAADoLykpydzcXEZG5v79+7Nnz0Y7DkAQBGlvb79165aPj09JSYmysrKFhYW5ufmsWbPQzjURJScn6+npFRcXy8nJoZ2FnqDwBQAAAOjM399///79ZmZmQUFBU/K1KhKJVFBQkJaWVlxcXFJSUltb29XV1draysrKysrKys/PLysrO2/ePAKBQCAQJuChdM+ePQsICIiKiurq6tLT0zMxMTEwMJg7dy7auSYQCoUiLS1tYmJy+fJltLPQExS+AAAAAN2QSKQTJ064ubkdP378woULGAwG7UR0lpmZGRwcHBYW1tLSwsPDIyUlJSIiIiAgwMTExMHB0d3dTSQSm5ubq6urq6qqqqqq8Hi8np6ehYXF6tWrmZmZ0Y7/P7q7u2NiYsLDw5OSktra2sTFxQ0MDAwMDHR1dWfMmIF2OvSdO3fuypUrtbW1TExMaGehGyh8AQAAAPqgvsqWmpoaFBRkbm6Odhx6IpPJMTEx586dy83NlZSU1NPTU1NTExMT+3Vl39zc/Pr165SUlJycHB4eniNHjuzfv5+Tk3PcYg9Tf39/VlbW06dPnz59mpubi8Fg5s2bJy8vv3DhQgUFBXl5+em5HeLLly/CwsK3b9/esGED2lnoBgpfAAAAgA4aGhqMjY0/f/4cGxu7ePFitJ4CsRQAACAASURBVOPQU0FBgbW1dU5ODoFA2LRpk6ys7EhHaG5ufvDgQVRUFCsrq7u7u4WFxYRdC29ubk5LS8vNzS0sLCwsLKytrUUQhJ+fX0JCYvbs2XPmzJkzZ87s2bOFhIQ4ODi4uLhmzJjBwcHByMiIdvAxYWpqSiQSnz59inYQuoHCFwAAABitioqKFStW9Pf3x8fHS0tLox2HbkgkkrOz84ULF+bPn29rayspKTma0drb22/evBkTE6OlpXX79m1BQUF65Rw7TU1NhYWFxcXFVVVVtbW1tbW11dXV9fX1/f39g29jZmambuZmY2OjFsE4HI6Dg4P66YwZM7BYLB6PZ2dnZ2RkZGNjY2Ji4ubm5uXlnTlzJi8vLz8//+zZs/n4+Mb/G/y1mJgYMzOzyspKERERtLPQBxS+AAAAwKi8evXK2NhYRETk8ePH/Pz8aMehm8bGxvXr1+fk5FhbW5uamtJrjfbDhw9nz54lEomTt8sbmUxuampqa2v7559/Wltb29vb29raiEQigiBtbW0kEglBkJ6enq6uLur9LS0tCIL09vZ2dnZS/9vX1/ft27empqampqaBGpqbm1taWnrevHnS0tILFiwgEAg8PDwofYv/0dfXJygoaG9vb2dnh24SeoHCFwAAAKBdQkLC2rVrly5dGh4ePgHbF9CssrLSwMCASCQ6OzuPcqH3e11dXe7u7s+fPw8JCZlK+0dp09LS0tjYWF1d/eHDhw8fPrx///7Dhw9VVVUIgixcuFBLS0tbW3vp0qVoFcGWlpZ5eXm5ubmozE53UPgCAAAANIqMjNy8ebO5ufnNmzdxOBzaceimsrJSU1OTg4PD1dWVm5t7LKagUCje3t6RkZFBQUHbtm0biykmtZaWloyMjNTU1PT09MLCQgwGo62tvX79+nXr1s2cOXM8k1Ab+n748GFqtHuDwhcAAACgxd27d7dv375nzx5vb28sFot2HLppbGzU1NTEYrFXrlxhY2Mb07l8fX3v378fFRW1cuXKMZ1oUmtpaUlOTg4PD3/8+DGJRFq7dq2VldXSpUvHZ3YSiTR79uyDBw+eOHFifGYcU1PnDyoAAAAwbnx8fLZt2/bnn3/euHFjKlW9JBJp/fr1RCLR1dV1rKteBEEsLS319PQ2bNjw8ePHsZ5r8uLm5l63bl14eHhjY+P169fLysq0tLSUlZUfPHhAJpPHenYGBoZ169aFhYWN9UTjY+r8WQUAAADGx6VLl2xsbM6dO3fx4kW0s9CZk5NTdna2s7PzGO1wGAKDwRw9enTOnDnm5uY9PT3jMOOkxsbGtmvXruzs7FevXomJiZmbmy9YsCA6Onqs592wYUNRUVFJSclYTzQOoPAFAAAARuDKlSvHjx+/evWqg4MD2lnorKCg4OLFizY2NnR/m+0X8Hj8qVOnPn78OPX+FjF2lJWV79+/X1JS8scff5iZmWlpab1+/XrspiMQCCIiIuHh4WM3xbiBwhcAAAAYLg8Pj6NHj164cOHQoUNoZ6EzMpm8b98+WVlZU1PTcZ5aSEjIwsLiwoUL5eXl4zz1pDZv3rywsLDMzEwSiaSqqnrkyJGOjo6xmAiDwaxdu3Zq7HaAwhcAAAAYFn9//yNHjly4cMHe3h7tLPQXHR396tUrW1tbVM5UW7t2raCgoJOT0/hPPdmpqqpmZGT4+fkFBwfLycklJSWNxSwbNmx4//59QUHBWAw+nqDwBQAAAH7Pz8/PysrK1dV16u1woHJzcyMQCFJSUqjMjsPhtmzZEhoaCm+50QCDwezatevt27eqqqrLly+3s7Pr7e2l7xSLFy8WExO7f/8+fYcdf1D4AgAAAL8RHh5uY2Pj7Ow8Zc6vGiIzMzMrK2vTpk0oZtDV1Z01a5aPjw+KGSY1fn7+8PDwgIAAHx8fdXX1yspKOg6OwWBWrVoVExNDxzFRAYUvAAAA8CspKSkWFhb79u3766+/0M4yVm7duiUhISErK4tiBiwWa2BgcPv27YEjfAENdu7cmZeXRyaTVVRUkpOT6TiyiYlJUVERfevp8QeFLwAAAPBTOTk5q1atWrdunaenJ9pZxgqJRIqIiNDX16d5hE+fPp08edLY2NjQ0PDgwYN5eXm0jWNgYNDY2Jienk5zEoAgyNy5c1+8eKGvr79ixYqrV6/Sa9ilS5dycXHFxsbSa0BUQOELAAAA/Njbt29Xrlypra0dGBg4lU6pGKKgoKC5uVlNTY22xysqKqytrclk8s2bN+/evcvHx3f8+PHi4mIahhISEhIREUlJSaEtCRjAysoaGhp6/vz5P//88/Dhw3Q55wKPxy9fvhwKXwAAAGAK+vr1q7GxsYyMTHh4OB6PRzvOGEpLS+Ph4RETE6Pt8atXr7Kysp46dYqfn5+bm/v48ePc3NzZ2dm0jaagoACFL73Y2dndv3/fz89v3bp13d3dox/QxMQkPT29tbV19EOhBQpfAAAAYKje3l5zc3Mymfzw4UMWFha044ytoqKiuXPn0tbFrLq6+s2bNytWrGBmZqZeYWZmjoiI2L17N21hZGRkioqKKBQKbY+DIczMzJ48eZKammpqajr62tfIyAhBkKdPn9IjGjqg8AUAAAD+B4VC2b17d15eXmxsLD8/P9pxxlxpaamwsDBtz7558wZBEHl5eXqFERYW7uzsrKuro9eAQFtbOzU1NT8/f/Xq1UQicTRDcXFxaWpqTurdDlD4AgAAAP/DxcUlLCzs/v37CxYsQDvLeKitrZ01axZtz1IrVGZm5r///tvMzExfX3/Pnj0vXrygOYyAgACCIJ8/f6Z5BPA9BQWFpKSk169fr1q1apS1r4mJyZMnTyZv5w0ofAEAAID/FxUV5ezsfO3atdF0OZhc2tvbWVlZaXu2q6sLQRBPT8+5c+cGBweHhIRISUmdOHEiPj6etgHZ2NiokWh7HPwMtfbNzc0d5brvqlWrmpubR/N3G3RB4QsAAAD8x8ePH3fs2GFpaWlpaYl2lvHT1dU1sEN3pBgYGBAE0dDQMDU15eDgEBAQOH78uLCw8I0bN2jrJEDdUd3R0UFbnknt3bt3W7ZsERQUZGVlVVJSun37Nn1HoNa+r169MjMzo7n2lZSUnDdv3uTd7QCFLwAAAIAgCNLZ2blmzRpxcfErV66gnWVcMTIy9vX10fbszJkzEQQZvCcEi8UqKCj8888/X758oWFA6lm7NBfitFFWVh7nGb+XnJysrq4uIyPz6tWrr1+/Ojk5OTo6nj59euAGEol07tw5GRkZJiYmXl7eDRs2lJeXj2gEBEEUFRWfPHny8uXLjRs30rxdwcjIiOYVfdRB4QsAAAAgCILY2NjU1dVFRkZO+TYOQ7Czs9P8vr+MjAyCIM3NzYMvkkgkBEFo6wFH3TvBwcFBW55Jqr6+3tzc/MaNG6dOnZozZw4bG5uJiUlSUpKbm1tBQQH1nn379rm5ubm7u7e1tWVnZ3/79k1TU7OxsXH4I1CpqqrGxcU9ffrU1taWtrT6+volJSU1NTWj+ZbRAoUvAAAAgHh6et65c+fevXvi4uJoZxlvfHx8QyrX4ZOXl+fj40tKShq4QiKRCgoKBAUF+fj4aBiQmoS2Z38Lh8MFBQWNxcijdOHChSVLlmzcuHHwRWlp6dWrV/v6+iII8ubNm4CAACcnJ1NTUyYmJklJybt377a2tp4/f36YIwymoaEREhLi4+Nz+fJlGtIuXbqUhYVl8C/6JAKFLwAAgOkuPz/fzs7Oyclp+rzQNti8efOqq6tpe5aBgeHw4cOvX7/28/Pr7OxsaGhwd3evr6+3srKibcDPnz/jcDgJCQnaHh8jnZ2dDg4OUlJSjIyM3NzchoaGL1++HHxDb2/v2bNnFRUVOTk5Z82aZWBgkJyc/P04AQEBGAxmyCF5fX19t2/fPnz4MIIgrq6uQkJCEhISz58/Z2NjW716dVpaGoIg4eHhCIKsXbt24Cl+fn4NDY2IiIhhjjDE2rVrXV1d7ezsIiMjR/qzwcLCoqmpmZiYONIHJwIofAEAAExrRCJx+/btqqqq//rXv9DOgg5ZWdmqqiqaH9fU1Lx06VJJScnatWu3b99eX1/v5uamra1N22iVlZXi4uKMjIw056G7vr4+fX39gIAADw+Ppqam3NxcNjY2bW3tZ8+eUW8gk8kmJiZXr149c+bM169fc3Nz+fj4DAwMoqKihjN+dnY2mUxesmTJ5cuXfX19ExMTw8PDd+3apaSkJC0tTd3Im5+fz8bGJiIiMvhBWVnZurq6hoaG4YzwvWPHjllbW2/dujUrK2ukPyf6+vpPnz6ly0nI4wwKXwAAANPa0aNHq6urQ0JCqA0KpiECgfDp0yeadzsgCLJo0SIPD4/4+Pj4+HgPDw8VFRWahyosLKS5aB4joaGhmZmZrq6uRkZGnJyckpKSQUFBLCwsjo6O1BsiIiKePn3q7u5ubGzMxMQkLCwcGBjIz88/zLck37x588cff/T29p45c+bSpUtycnLKysoMDAzq6uq8vLx9fX0kEqmhoYGXlxf53zVj6oaQhoaG4Yzww6k9PDz09PRMTU1/Vhz/jIGBQVNTU2Fh4Yiemgig8AUAADB9xcfH+/j43LhxQ1RUlIbHP378aGlpKSEhwczMzMbGtmjRIi8vr0l33C6BQMDhcK9fv0Y7CNLZ2VlaWqqjo0PHMXl5eTH/RSKRdu7cOfDlMFdk4+LiEAQxNTUduMLOzr506dLMzMzOzk4EQWJiYhAEMTY2HriBkZGxvr4+PT19yFB79uyhUChDVlirq6tFRUVfvHjR3d09MMi3b9/U1NT++ecfLi4uBgaG7u7u71fBqVe6urqGM8IPvzUGBoY7d+4ICQmZmZlRXyscJnl5eQEBgcl4djEUvgAAAKapxsbGnTt3bt++fcgrQcP06dOnJUuWvHr16vbt29++fXv//r2BgcGhQ4eOHTtGx5BZWVmYQebMmUPHwanY2dl1dXVTU1PpPvJIUTcPlJaW1tfX02vMpqYmyn8xMDAEBgYOfLl69erhjFBdXY3H44e8byckJEQmk6k5qfuSqSuyNOjo6ODg4KioqBAREaHWsuXl5V+/flVXV6+pqaEeqsfKykpt9Da4dO7p6aF+NJwRfoaDgyM6Orqurm7//v3Dz4zBYHR1dSfjNl8ofAEAAExTlpaWrKysnp6ev73zh90Arl+/3tDQcO3aNQ0NDTY2tjlz5ly8eHHZsmVpaWnUioQu1NTUKIPQvYdUb29vWVnZokWLsrKyqC+o0Xf8EUlMTJw3b97169dFRETMzMweP378s3+jRx11eysWi0UQhImJiUwm07zSj8fj+/r6cDjcQGPdsLCwWbNmCQgIZGVlaWhoIAgiKCjY1NQ05MGGhgYEQYSEhIYzwi+IiooGBwffunUrMDBw+LH19fUzMjLQ/Q1DAyh8AQAATEehoaExMTG+vr40t4yltlAVEBAYfDE5Ofn169dMTEzULysqKkxMTDg4OLi4uDZu3Pj161dxcfFly5YNGeqHL/tT1dfXW1tbCwoKMjIyiomJWVpaDrRuHZH+/v7KysrU1NTAwMDTp09bWFioqakJCAgwMzPPnTv3/Pnz1PVL6onBqPjw4UNeXt6lS5fq6uru3r3b0dFhYmIiIiLi4OBQWVmJVioEQcTExPr6+qhV5oDa2lo8Hi8oKIggiLi4OJlMpu3XBUEQfn7++vp6FRWVqqqqnJycjIyM9PR0VlbWr1+/BgYGUg8RVFJS6uzsHPIOYlFRkbi4OC8v73BG+LWVK1fa2dnZ2NgMafr7C8uXL+/r68vIyBj5d4wmKHwBAABMO01NTYcPH7aystLT06N5kIULFyII4urq+rP13Z6eHgMDgzdv3iQkJHz+/HnTpk2bN29ub28ffsuC/v5+Q0PD6Ojo2NjYtra2O3fuREVFrVmzZpiLi3l5eTt27CAQCEJCQszMzBISEsuWLdu7d6+bm1toaGh2dnZDQwN1KBwOZ2Fh8erVq/b29mFmo7uQkBAlJaXly5czMTGtX78+MTHxw4cPe/fuvXv3rpSUlL6+fkREBPWf+8eZkZERgiCDD+lta2vLyMhYtmwZ9awTXV1dBEGio6MHbiCTySIiIqqqqkOG+uHfcBQUFPLz8xcsWHD8+PHly5efOnUqKChISEhIWlr68OHD1Js3btyIxWKpzcuoPn36lJ2dvW3btmGO8Fvnzp1TUVExNzdva2sbzv0CAgILFiyYdNt8ofAFAAAw7Rw8eBCHw124cGE0g1haWhIIBH9/f0FBwa1btwYFBQ05pDcqKqq8vPz06dMaGhqcnJyrVq0yMjL69u3b8KcoLCysq6uzsbGhnqmrqam5a9euFy9elJWVDedxKSmphw8fvnjxor6+fmDPAIlEIhKJg4+rxWKxYWFhXl5eLCwsN2/eHH48OsrPz3/+/LmLi8vgi1JSUk5OTpWVlQkJCdzc3Js3bxYQELCysiouLqZtlv7+/h07doz0KXNz8yVLljg6OiYkJHR2dn78+HHbtm0UCsXNzW3ghmXLljk4ODx69Kinp6empmbv3r01NTXD3O2tra3d2dmZnp5+8eLFlpaW1NRUQUHB58+ft7S0HDlyhHqPjIzMoUOHXFxcHj582NPT8/79+40bN0pISFCnGM4Iv4XD4cLDw9vb24ezQkw1QbaGjwgUvgAAAKaXx48f37t378aNG1xcXL+47bfdANjY2NLT0yMiIrS1tR89erRz5845c+asWbNm4DCI7OxsBEGWLFkyMOb69et/ONcPX/ZHEERJSamxsfHkyZMDV6idXIfZdpeTk/PYsWM4HO4X92Cx2ODg4DVr1nBycrq7u8fExLx//344g9NRX1+fh4eHkZHRypUrv/+UgYFBT08vPDy8vLz80KFDcXFxCxcu1NbWvnPnDh33Uvf09GC+k5ubSw0QHx+/c+fOffv2cXFxqampYbHYzMxM6pI/giBYLPbRo0e2trbHjh2bMWOGkpJSTU1NSkrKz365h2BmZt6/f//x48d/vZ59+fJlZ2dnR0dHTk7OpUuXysrKPnv2jLpRZ5gj/JaAgMCtW7ciIiKG+fcfLS2tN2/ejOjvcqjDTLquKwAAAADN2tvbZWVldXR0QkJChv8UDocLCAj4xWIhiUTKysry9fUNCQkRFxcvLS1lZmbevHlzaGhoS0vL4AqbmZlZW1s7Pj5+mFPHx8f7+vrm5+c3Njb29fVRV2rj4uJWrFgxnMfb2tqEhYV/9o/XGAzGz89vz5491C8pFIqenl5ZWZmPjw8rK+swE46eh4dHUlLSmzdvxMTEfnsziURKSEjw9/d/9OgRFxfXjh07LC0t586dO/Yxx1B3d7eOjg4rK6ubm9vChQvb2toyMzO9vb23bNlC3cwwDiMMsLOz8/f3LyoqEhYW/vWdzc3NfHx8Dx8+HNzrbYKDFV8AAADTiJOTU3d39zBPFhg+BgYGTU3N4OBgOzu7ysrKR48eIQhCXVrCYDCD7xzy5a+Fh4cbGhq2traGhobW1dV1dXVdv359RME4OTmp+zq+/wiDwVy/fn2g6qVeuX37dnd3t7u7+7gdypWcnBwVFRUQEDCcqhdBEAYGhpUrVz58+LC6uvrYsWP379+XlpYmEAgRERF9fX1jHHassLCwpKamqqmpmZubc3BwyMnJBQQE2NjYDL9mHf0IA86ePTtnzpydO3f+dm2Uh4dnwYIF37crnsig8AUAADBdlJaWenl5nT9/nuaWqwPq6uoWL178/QbKxYsXIwhCbTo2c+ZMBEEGn4jW0NBAJBKHP4u/vz8Gg4mMjFRXV+fi4sLj8SNqZ0YkEq9evern5/f9+QUYDMbLy2vfvn1DrgsKCoaFhT1//nykFTZt8vLyXF1dDx8+bG5uPtJnBQQE7O3ty8vLExMThYSENm/eLCwsjHoLCJqxsLCcP3++oqKip6enoaEhOjp6pMuoox+BiomJ6d///ndaWlpAQMBvb9bS0oLCFwAAAJiIDhw4sHDhwsFrnDQTEhL69u1baGhoa2vr4OsvX75EEEROTg5BkEWLFiEIkpOTM/BpeHj4D0f7WTuz3t5ePB4/sFOCSCSGhoYi/11L/oW+vr7g4OD58+fb29ubmZl9v+h78eLFnx1YQN0HEhkZ6efnN6b7IfPy8v766681a9ZcunSJ5kGwWCx1B/CnT5+OHDkSGho60AJi8At8YERUVVX//PPPY8eOff78+dd3amlpFRQUDPlTMJFB4QsAAGBauHv3bnp6+rVr1352fOsv/LAbQEBAQHNz88qVK6lH1zY0NHh6enp5eRkaGlK7pK1du5aXl9fZ2bmgoKCjoyM8PDw+Pp6Tk3P482pra/f29np5eRGJxNLSUmNjYxsbGwRBcnNzf1bVkcnkiIgIOTm5PXv26OvrV1RU+Pr6njx5ktp4C0EQDAZz7ty548eP/2LeDRs2BAUFRUREuLm5jdH+gZSUFAcHB2Nj41u3blGPgRglISEhe3v7ioqKhIQEZmbmDRs2UHsAf/r0afSDT0MuLi7CwsK/3fCgpaVFJpNfvHgxbsFGCQpfAAAAU197e7udnd2uXbuG2dN0OHR0dHJycsTExLZu3Tpz5kwpKamQkBB3d/fo6GjqRt4ZM2bEx8fz8PCoq6uLi4snJCTcuXOH2i5gmFPY29tbWVlR92bs3bv31KlThw8fNjAwOHPmzPf/ik2hUB48ePDHH39s2rRJU1Pzw4cPvr6+s2fPpib5888/GRgYMBjM6dOnHR0dfzv1tm3boqOjMzIyDh48WFdXN8Kfm1+h9nBwcXHZv3//3bt3h9/VeDioLSBiY2M/fPhgYWFx8+ZNCQkJ6gLwhD0EbmKibnhIT0//9YYHXl7e+fPnT6LdDtDVAQAAwNTn6Ojo6+v7/v370e/uHSVmZmZTU9Of7Xmg2YsXL+zt7V++fLlu3bozZ87IyMgMuaG1tVVUVPTAgQPnzp0b/rBVVVXm5uZFRUUbN27csmULHo8fZc7CwkIPD4/GxkY/P79NmzaNcrTf6u3tjY6O9vPzS05OlpCQ2Lt37549e6h7r8Fw2NnZ3bx589d/cA4cOJCTkzN4S89EBiu+AAAApriamhoPD4+//vpr/KveFStWKCoqDnyZn5/f09OjoKBAxykKCgoMDQ0JBAIHB0deXl54ePj3VS+CIFxcXImJiSOqehEEERMTe/bsmYODQ2ho6N69exMTE2nu9vDhw4e//vrL1tZ2/vz5RUVF41D1IgjCyMhIPQSuuLh4xYoV586dExER2bt37/AP5p3mTp06xcLCMriT9Pe0tLTy8/OHed4b6qDwBQAAMMU5ODgICAhYW1uP/9R6enoFBQUuLi7t7e1lZWUHDx7k5ubeuXMnXQavrq62srJSVlZuampKTk6Oi4v7dUlN7TgxUszMzKdPny4pKSEQCK6urtQz6oa/+aGzszM+Pv7o0aOWlpZdXV2PHj2KjY0dZucyOpo/f/61a9dqa2uvXLmSnZ2tqKiorKzs5+c3oiYb0xAHB4erq6u/v/8vFnS1tLRIJNJk2eYLWx0AAABMZfn5+crKyhEREWvWrEElgKenp4+PT2VlJTMzM4FAuHDhwoIFC0Y5ZnNzs5ubm4eHx6xZsxwdHffs2UOX98N+q7y83Nvb++7duw0NDSIiIgoKCjIyMsLCwgICAiwsLBwcHEQisbu7u6mpqbq6urKysrCwsLS0FIvFGhsbW1paLl++fBxCDsfz5889PT2joqJ4eHh27NhhY2NDPRIP/BD1SOTs7Oyf/TabP3/+qlWrRnkG+PiAwhcAAMBUpqur293d/eLFixGdHDFhdXd3X7582c3NjYWF5dSpU3v37h39vtuRIpFIaWlpycnJqampRUVFnZ2d39+Dw+HExcW1tLR0dHQMDQ25ubnHOeRw1NfXBwcHX7t2ra6ubuXKlba2trq6ulPj9wl9FRcXKyoq+vn5/ewfK/bu3fvx48e0tLTxzUULKHwBAABMWdHR0WZmZpmZmaqqqmhnGS0KhXLnzh1HR8eWlhY7O7ujR4+ys7OjHQpBEKSmpqa6urqjo6O1tZWNjY2dnZ2fn19SUnL8K3LaDLwAl5SUJC0tvWvXLisrq8GnTAMEQQ4ePBgeHv7+/fsf/szcvHnzwIEDra2t9O3RMRag8AUAADA1kclkeXl5WVlZurdQGH/Z2dlHjx7NysrasmWLq6uroKAg2ommoPz8fB8fnzt37mCx2E2bNh08eHD0m1KmjJaWFhkZGQsLix+eNvLu3TtZWdns7Gza9pGPJ3i5DQAAwNR07969t2/fOjs7ox1kVD5//mxhYaGurs7CwpKXlxccHAxV7xhRVFT09fWtra29dOlSRkbGH3/8QSAQYmNjYYkQQRBubu6TJ096e3tXV1d//6mMjAwvLy/12MIJDgpfAAAAUxCJRHJxcdm6dausrCzaWWjU0tLi4OAgLS2dk5MTFhaWlJQkLy+Pdqipb8aMGZaWlsXFxbGxsSwsLKampnJycr6+vl1dXWhHQ9m+ffuEhIRcXFy+/4h64HZmZub4pxopKHwBAABMQYGBgRUVFX/99RfaQWjR39/v6ekpJSV18+bNK1euFBcXr1+/Hu1Q0wu1E0ViYuL79+/19fWPHDkiJCRka2v7w/XOaYKRkfHUqVOBgYFv3779/lN1dfXnz5+Pf6qRgj2+AAAAppre3t558+YtX778xo0baGcZsZSUlEOHDpWVlR0+fNjR0ZGTkxPtRAD5+vXrzZs3vby8GhsbV69efeTIEXV1dbRDoYBMJi9atEhaWvr7ffNpaWk6OjqfPn2a4I3hYMUXAADAVBMQEFBfX3/ixAm0g4xMbW2thYWFrq6uoKBgfn7+xYsXoeqdIPj4+Ozt7SsqKu7cufP582cNDQ1lZeXg4OD+/n60o40rLBbr7Ox8//797OzsIR+pqqri8fiJv80XVnwBAABMKX19fdLS0sbGxl5ec5o2wAAAIABJREFUXmhnGa7u7m5PT8+zZ88KCAhcuXLF2NgY7UTgV6jnX0RGRoqIiFhZWVlaWk7MRsVjRFNTk52dPSEhYch1FRUVdXV1T09PVFINE6z4AgAAmFKCg4Nra2uPHTuGdpDhio2NlZOTO3PmzJ9//llcXAxV78RHIBDCw8M/fPhgbm5+8eJFUVFRKyurd+/eoZ1rnJw5c+bp06ffL+5qamrCii8AAAAwfkgk0vz585cuXerv7492lt979+7doUOHkpKSqN15hYSE0E4ERqy1tTUgIODatWvV1dWrVq2ys7ObDtt/CQQCNzd3bGzs4IthYWFbt26lnmOCVrDfghVfAAAAU0doaGh5efnx48fRDvIb3d3dTk5OCgoKTU1Nz549CwkJgap3kuLi4jp27FhZWdm9e/fq6uo0NDS0tLSePHkytRcW7e3tHz9+nJ+fP/iimppaf3//69ev0Uo1HFD4AgAAmCIoFIqrq+umTZvmzp2LdpZfSUlJUVRUvHr1qqur66tXrwgEAtqJwGjhcLj169dnZWVlZGRwcnIaGxvLy8tP4bffjI2NFRQU3N3dB18UFRWdNWtWTk4OWqmGAwpfAAAAU0RMTExJScm//vUvtIP8VH19PbVvw9y5c4uKimxtbRkYGNAOBeiJethbQUGBgoLC7t27paSkPDw8pt7hFxgM5tixY+Hh4R8/fhx8XUVF5dWrV2ilGg4ofAEAAEwRly5dMjY2nj9/PtpBfoBMJvv5+c2bN+/ly5dxcXGxsbHCwsJohwJjZeHChcHBwR8/fly1apWjo6OoqKiTk1NzczPauehpw4YNEhISf//99+CLUPgCAAAA4+HVq1fPnz//888/0Q7yA3l5eWpqagcOHLC2ti4uLl6xYgXaicB4EBMT8/DwqKqq2r9/v5eXl6io6FQ6+42BgeHPP/8MCgqqq6sbuLh48eLKysrGxkYUg/0aFL4AAACmAjc3N2VlZS0tLbSD/I+2trb9+/erqKhwcHAUFRVdvHiRmZkZ7VBgXPHx8Tk5OX369Ons2bORkZGSkpIWFhalpaVo56KDHTt2cHNzX79+feDK4sWLMRhMbm4uiql+DQpfAAAAk15lZWVUVNRE690bHx//xx9/RERE3Lp1KykpSUZGBu1EADXs7Oy2trbl5eU3btzIycn5448/zMzMsrKy0M41KkxMTJaWln5+fkQikXqFh4dHQkJiIr/fBoUvAACASe/q1atz5sxZu3Yt2kH+o7W11crKauXKlaqqqiUlJVu3bsVgMGiHAuhjZGTcvXt3aWlpVFTUly9f1NXVCQRCSkoK2rlot2/fvn/++Sc8PHzgyuLFiyfyNl8ofAEAAExu7e3tQUFBhw4dwuFwaGdBEAR59OjRggULYmJi7t+/Hx4ezsfHh3YiMLFgsVgTE5PMzMykpCQsFqurq6urq/vs2TO0c9FCUFBwzZo1Hh4eA1cm+PttUPgCAACY3EJCQvr6+rZv3452EKSxsdHCwsLExERDQ6O4uHjNmjVoJwITGrXezcjIYGVl1dLSorZCQzvUiB08eDAvL29g28bixYu/fv1aWVmJbqqfgcIXAADA5Obj47NlyxYeHh50Y0RERCxYsODZs2cJCQnh4eEzZ85ENw+YLKj1bnp6OhMTk6mpqZaWVlpaGtqhRkBDQ0NZWdnLy4v65aJFi/B4/IRd9IXCFwAAwCSWnp5eVFS0b98+FDM0NDSYmppu3Lhxw4YNxcXFBgYGKIYBk9TSpUuTk5MzMjIYGRl1dHT09fUn8itiQ+zfv//+/ftfvnxBEISFhUVOTg4KXwAAAID+bty4oaampqSkhFaA6OjoP/74o6SkJC0tzcvLi52dHa0kYAogEAiJiYkvXrzo7+9XVVXV19cvKChAO9Tvbdy4kZ2dPSgoiPqlkpJSXl4eqol+CgpfAAAAk9WXL18ePnxobW2NyuxdXV22trarV69esWJFQUHBkiVLUImBChKJ9Pr167///nvnzp2LFy+ePXs2Nzc3BoNhY2Pj4+OTk5Nbt27dyZMn4+PjOzo60A47+WhoaKSmpiYmJjY3NyspKZmbmw85GXiiYWZm3rx5c2BgIIVCQRBEUVExLy+P+uOJBjMxYwEAAAC/debMGU9Pz+rq6vE/FSI7O3vbtm2tra1+fn6rV68e59lRlJmZGRwcHBYW1tLSwsPDIyUlJSIiIiAgwMTExMHB0d3dTSQSm5ubq6urq6qqqqqq8Hi8np6ehYXF6tWr4fCOkaJQKOHh4adPn66oqNizZ4+TkxM/Pz/aoX4sLy9PSUnp+fPnmpqamZmZGhoa5eXlEhISaOcaCgpfAAAAkxKJRJKUlNy4cePFixfHc97+/v6///77r7/+0tHRCQwMFBISGs/Z0UImk2NiYs6dO5ebmyspKamnp6empiYmJvbr/sTNzc2vX79OSUnJycnh4eE5cuTI/v37OTk5xy321NDf33/r1q3Tp0+3tbU5ODgcOXKEhYUF7VA/oKioqKSkFBAQ0NXVxcnJee/evXXr1qEdaigofAEAAExKkZGR69evLysrExcXH7dJ3717t23btpKSkgsXLhw6dGiaHEtRUFBgbW2dk5NDIBA2bdokKys70hGam5sfPHgQFRXFysrq7u5uYWExTX7q6Kirq8vLy+v8+fMcHBynTp3avXs3AwMD2qH+h6en54kTJ+rr69nZ2eXk5FavXn3u3Dm0Qw0Fe3wBAABMSjdu3DA0NBzPqtfHx2fRokVYLLagoMDW1nY6lG4kEunUqVMqKipdXV3+/v4uLi40VL0IgvDw8Ozdu/fevXsEAmH37t16enr19fV0Tzu1sbKy2tvbv3//fuXKlTY2NosXL05NTUU71P/YunVrX1/f/fv3EQRZtGjRxHy/DQpfAAAAk09ZWVlycvK4vdbW3t6+cePGAwcOHDt27MWLF9LS0uMzL7oaGxuXLVvm7u5+8OBBDw8PSUnJUQ7IwcFha2t748aNsrIyBQWFiVa3TQoCAgJ+fn7FxcWSkpLLli0zMTH5/Pkz2qH+g4eHx9TUNDAwEEEQRUXF3NxctBP9ABS+AAAAJh9fX19RUVFDQ8NxmKu0tFRNTS0lJeXx48cuLi4T5GDksVZZWampqVlRUeHt7b1q1So6Lm9LS0v7+PjIycktX748LCyMXsNOK/PmzQsPD3/06NHbt2/l5OQuXbrU19eHdigEQZAdO3ZkZGRUVVUtWrSoqamppqYG7URDQeELAABgkunv779z58727dux2DH/v1hwcLCKigovL29BQcHy5cvHeroJglr1YrFYr/9j780Dofq/x/9rjG3sQlmzlqJViz3Jligq+1ISEhIpXhXRSvVSVNZelaWylCUV2WNkSSKRJUvWLEl2xsz8/rjfj9+8kcZslu7jL+7ce55n5s6ce57neZ7n3LlDfKB3OggEwtPTc9++fSYmJpGRkSSX/5ewZ8+eqqqq8+fPe3h4SElJpaenz7dGgLq6OhcXV0xMzObNm6moqBZgtgPk+EJAQEBALDLS0tK+f/9ubm5O1lFGRkasra0PHz589OjRjIyMv6R6AwAAXV1d6urqzMzMt27dYmdnJ9MoVFRUDg4OhoaGVlZWr1+/JtMoSx5aWlo3Nzcw80FDQ+PQoUO9vb3zqA8cDtfT04uJiWFhYREVFYUcXwgICAgICGKJiIiQl5cnRyRykurq6m3btiUmJr569crf35+GhoZ8Yy0o0Gi0vr7+6Oior68vIyMjuYezsbFRVVU1NDRc4A0aFjiioqKvX79+/vx5RkaGlJTUq1ev5lEZQ0PDjx8/fvnyZdOmTR8/fpxHTWYEcnwhICAgIBYT/f39L168OHToEPmGCA8Pl5aWZmNj+/jxI2XSiBcOXl5eRUVF3t7e5Iv14kJFReXi4sLPz29gYDA2NkaBEZcwenp6VVVVOjo62traBgYG8xX63bFjBx8fX2xs7KZNmxZgv2XI8YWAgICAWEzExMRgsVgyFcafmJg4ceKEpaWlg4NDdnY2Pz8/OUZZsJSVlfn4+Bw/fpys0fQp0NDQeHp61tXVUbgRyZKElZU1JCQkISEhNzd348aNmZmZlNcBBoMdPHgwOjp6/fr1zc3NfX19lNdhFiDHFwICAgJiMREREaGrq8vGxkZyyb29vZqammFhYREREb6+vn9J9YZJMBjMsWPH1qxZs3fvXgoPzcvLa2Fhce3atfr6egoPvSTR1dX9/PmzjIyMhobGlStXKN+qzNDQsLq6Guyv8fnzZwqPPjuQ4wsBAQEBsWhobGzMz8+3sLAgueSKioqtW7fW1NQgkUgzMzOSy1/4JCUlvX//fr4acxw4cICHh8fLy4vyQy9JODk5Y2NjAwMDL168qKOjQ+Gwq4yMzMqVK5FIJBsbW0VFBSWH/iOQ4wsBAQEBsWgIDw/n5uZWU1Mjrdjk5GQ5OTkBAYHS0lJpaWnSCl8sXL9+XUFBQUxMbF5Gh8PhpqamT58+hXa5kRAbG5vMzMzS0tLt27dXVVVRbFwqKqp9+/YlJSVJSkpCji8EBAQEBAQhYLHYqKgoc3Nz0iYhBAYG6unpGRsbp6enc3FxkVDyIqKgoKCwsNDY2Hgeddi1a9fy5cuDg4PnUYelh4KCwocPH7i4uBQUFAoKCig27r59+z5//iwoKAg5vhAQEBAQEISQl5dXX19PwvK9WCzWy8vLwcHh/PnzoaGhf0/NsumEh4eLiIisWbNmHnWAwWDq6upRUVETExPzqMbSg4eHJzMzU0VFRVVVNTU1lTKDKikpLVu2bGxsrKKigvJJxrNAtaC0gYCAgICA+B22trbFxcWkqgw6NjZ25MiRZ8+e/ffff39nUu8kaDSam5tbX1+fgIhvaGjokydPph9nZWVNSkqaq7T29nYTE5OMjIxdu3bN9VqI2UGj0TY2NlFRUZGRkQYGBhQY0czM7PPnz+Xl5c3NzQICAhQYER+giC8EBAQExCJgYmIiISHByMiIJNL6+/s1NTVfv36dkpJCVq/3/PnzVP+HlJQU+QYihrKyst7eXhkZGQKutbGxyflfEhMTWVhYduzYQYA0Xl5eQUHBrKwsAq6FmB1qaur79+87OjqamJiEhYVRYEQw24GKimpBZTtAji8EBAQExCIgOzu7u7ubJOV7u7u7VVRUampqcnNzVVRUCJbj5eVFhQMzM7OcnNyDBw9wl1IvX76MxWKxWOzq1auJ15xM5OTkcHBwCAkJkURaYGAgAABHjx4l7PKNGzdCji+ZoKKiunnzpoeHh62trZ+fH7mH2717Nw0NDTs7+6dPn8g9Fv5Aji8EBAQExCIgLi5OWlqa+MYK7e3tKioqP378yM3NXbduHfGKpaSkYLHYiYmJ8vJyGRkZKyurEydOEC+WklRUVIiLi5Okill5eXlaWpqVlRULCwthElavXr3QskKXGBcuXPDz83N1dQWnKOSDiYlJWVmZlpYWivhCQEBAQEDMgYmJiaSkJH19fSLlVFdXy8rKYjAYJBI5p7pdcDj80aNHs5xATU0tIiLi5+e3e/fue/fuNTQ0EKkqJamqqiJVCmZYWNjy5cv37NlDsAQBAYGhoaH29naS6AMxIydPnvz3338dHBzInfOgqan58+dPKOILAQEBAQExB7Kzs7u6ug4cOECMkE+fPikpKfHx8SGRSD4+PlLpNoUdO3Zgsdj379/P6ar79+9TUVFNz7JNTU2loqK6f/8+7kEmJiZVVVViFcWhra1t+fLlxMspKyv7/PmzgYEBMfXmVqxYAQBAc3Mz8fosOqqrq01NTXl4eBAIhLS0dFRUFPkkODs7nzt3zs7O7unTp8RpPRsaGhpjY2PV1dXj4+PkG2VOQI4vBAQEBMRCB8xzIKa3wsePH1VUVCQlJdPT09nZ2Umo2xRGRkYAAGBgYCDfECRnYGAAgUAQLycqKoqFhYWYcC8AAIyMjKBKxOuDPxgMJigoSFpampGRkYmJSUNDo6ysjJIKAACQmZkpKyu7evXq9+/fd3d3e3l5nT179sKFC5MnoNHoK1eurF69mo6OjpOT09DQcEqH5z9KmMKlS5dOnTplbm4eFxdHpjclISHBx8c3MTFRW1tLpiHmCuT4QkBAQEAsaIjPcygtLVVTU5OSkkpOTgb9KjKBxWKTk5MZGBgUFBTINwrJGR4epqenJ1JIT0/Phw8flJSUiBQFzhkGBweJ1GdO2NnZOTo6mpubt7e3f/nyhZ6efvv27YWFhRRToKOjw8DAICgoyNPTk5+fn5GRUUdHJyMj4/r165Mu+LFjx65fv37jxo3+/v6ioqIfP37Iy8t3dXXhL2E6Pj4+R48eNTc3z8zMJNNb271794Iq7AA5vhAQEBAQCxoi8xxKSkrU1NS2bt2akpLCxMSE/4WcnJyTFRvQaLSlpeXkv4mJiVNORqPRNTU1hw4dKi0tvXbtGgcHx5yUPHr0KBaLpaSnhQstLS0KhSJSSF5eHhaLJd7jB9fEiXfEZ2TGXO38/PzQ0NDjx4+fPHmSlZVVQEDgyZMnnJycVlZW5NBhRq5du6aoqDilWt+qVat0dXVDQkIAAPj06dP9+/e9vLz27t1LR0cnKir65MmTvr6+q1ev4ilhRqioqAIDAw8cOHDgwIHPnz+T4Z0Bu3fvxmKxRUVF5BBOAJDjCwEBAQGxoImLi9u8eTNheQ5FRUW7du2Sk5NLTEyca/pBT08P9v+gpqZ++PDh5L+6urqTp4EBLTgcvmXLlm/fviUlJTk5ORGg6jzCxMQEZmgQQ15eHj09/ebNm4mUMzw8DAAAMzMzkXLwJyIiAgCAQ4cOTR5hZGS0srISFxf/+fMneGR0dPTChQsbNmxgYmJiZ2fX0tJ69+7d5Pnx8fFUVFSZmZn//fff2rVrGRgYxMXF7969O32sGZO5UShUVFTUyZMnAQDw9fXl5eUVERFBIpGMjIy6uro5OTkAAMTGxgIAgDv94+bmlpOTA7MU8JHwO2Aw2MOHD6WlpTU1NVtbW+f22eGBqqoqDAbLy8sjuWTCIGW7cwgICAgICNKCRqMTExOdnZ0JuPbjx4+7d+9WVFR8/vw5LS0tyXUDSUlJ0dTUJJNwYhgcHMQzws3FxdXb20vMWBgMprKyUlxcnPjPGdSEi4uLSDn48/79eyoqqim17S5evDj5NwaD2bNnT0VFRWBgoKamZkdHh7Ozs7Ky8ps3b3bu3AkAAB0dHQAAAQEB/Pz8aWlpDAwMjo6Ojo6OoqKiu3fv/qMCRUVFGAxGUVHRz88vJCQkPT19ZGTExMREWlp61apVYCLvx48fGRkZBQUFcS9cs2ZNdnZ2Z2dnXV3dHyXMAi0tbVxcnJyc3L59+96+fTunhZE/wsLCIigoCOX4QkBAQEBA/Jl37951d3fr6enN9cKamprdu3dv3rz52bNn5PN6yQ01NTUAAGg0evLI0NDQ0NAQPtdu3ryZgYFBWFhYTk7OzMzMxcXl1q1bT548yc3NrampwRUiISHR0tJCjJ7d3d1jY2P8/PzECAFpbm6Gw+EiIiLEi8KTtrY2VlbWWb4kz58/z8rKCggIOHjwIBMTk7i4+JMnT1hYWP755x/wBPA2dXd337t3j5+ff9myZQEBAQAATE+JmZFPnz6tW7dufHz80qVLN2/elJSU3LJlCzU1taysLCcnJwqFQqPRnZ2dnJycwP/GjMHpQWdnJz4SZteBg4MjJSWltbXV0NBwYmICrw8Ob2RkZAYHB/v6+kgrljAgxxcCAgICYuGSnJwsJiYmISExp6u+fv2qoqIiKiqamJhIpmxR0vK7cmZglTHcorb4dzVTUlIaHx9vamoqKCh4+vTp3bt33dzczMzMduzYISEhwcTENOkW19bWlpaWlpSUEKx/f38/QKL8hMbGRmFhYRLOVf6Yqz02NkZDQwOejEQicbvxgVnXr1+/BgAAN3bLwsKiqqr64cMHXIdSS0sLd1AGBoZv375NUWbGZO6WlpaVK1fm5+ePjIxoa2uDB3/8+CEjI/Pr1y82NjZqauqRkZHpnwl4ZHh4GB8Jf/yghIWFExMTs7OzCVtgmQUdHR0AALKzs0krljAgxxcCAgICYuGSnJy8b9++OV3S0tKipqa2fPnyV69ekWrRdmJi4vDhwyQRNSckJCSEhITCw8PLy8uHh4ezs7PDwsJWrlyJz7VKSkqTf2MwGBQKhUKhcDuijY6Ogm7xly9fBgYG8BQ7I+Li4jk5Ofb29gRLmKS8vHzdunV/jFDizx9ztRkZGUdHR8GTFRQUwJfOnTs3KQEMh7OxseH6xDExMRMTE21tbZOngRWIJ4HBYHiGTgcHB5mZmRsaGgQFBUFftr6+vru7W1ZWtrW1FZz8IBAIcNsfrus8NjYGvoSPBHyQlZUNDw+/d+/elNLRRAJ+zsnJySSUSTCQ4wsBAQEBsUCpr6+vrq4Gw0V40tbWtnPnThYWloyMDDY2NvLphg/KysqTflJNTU1lZeXkv3j2JqClpX3+/PnKlSvB1hvBwcFhYWGsrKz4tANQVFTEYDCznwODwbZu3VpYWAiHwylfuXY6Q0NDVVVVCQkJvLy81tbWr1+/Bn07siIqKjowMAAGrWcEBoMBADA8PIydxpSkW8KgoaFBoVBwOHzSUY6JiVm+fPmKFSsKCwvl5OQAAODh4enp6ZlyYWdnJwAAvLy8+EjAE319/X/++ef48eP5+fnEvzUQBALBwsKyQAo7QI4vBAQEBMQC5cWLF6ysrPg/tru7u9XV1eFw+Js3b+ZaUIwAvLy8sFjsLDvbcnJyprtKIGZmZrhnzlLObPPmzW/fvv3169fPnz9Bb6a8vDw3N/eP6mEwmGXLlv3uVTgcTkdHd/Xq1YKCgi1btuzatWshrETn5ubCYLCSkpKzZ89++fJFW1ubg4NDR0cnIiLi169fZBoUDI3P4pYJCwsDANDY2EgmBbi5uTs6OrZu3drU1FRcXJyXl/f27VsEAtHd3f3w4UMbGxsAAKSlpYeGhpqamnAvrKioEBYW5uTkxEcC/ly6dElNTU1fX7+jo4NU71FcXJx8H+CcgBxfCAgICIgFSnJyspaW1mT+5ez09fVpamqOj49nZWVNWXT+S8BisZ8/fw4MDDQ2Nubj4xMTE2NkZJyxezAVFZWysnJNTY2bmxuY/Xno0KGioiIiazsQT3p6ura29ubNm52cnJBIZGdnZ1BQEAAA1tbWnJycCgoK/v7+JPTGQCwtLWloaEJDQ393wt69e4H/q3oGgsVid+3ahZsOgSczJnNv3Ljx48ePUlJSZ86c0dDQ8PT0fPToES8v76pVq06ePAmebGRkBIPBcFusffv2raioyNzcHE8J+AODwaKiohAIhL6+PvEFnkFkZWVHRkYWQidqyPGFgICAgFiI/Pr1C4lE4pnnMDg4qK6u3tvbm5mZycvLS27dFg5oNLqysjI0NNTAwICbm3vdunVubm49PT3W1tbp6emurq64Sb0AAMDhcCYmpuDg4LS0NNyk3n379nFwcDx//pzi7+D/B9xjhxue5OLisrCwSE5O/v79+5MnT0RERM6fP8/Pz79lyxYvL6+ampq5DjFjrraoqOjVq1efPXt2/vz5np6ewcHB58+fP3nyBEwVAABAS0tLS0vr33//DQ4OHh4e/vbt25EjR3Jzc3GzqIlBWVl5aGjo7du3Pj4+P3/+zM7O5uHhQSKRP3/+nNxntnr16hMnTly8eDEhIWFsbKympsbIyEhERMTV1RVPCXOCnZ09Pj6+rKzM3d2dJO9RQ0MDAICUlBSSSCMGyPGFgICAgFiIpKSkzJ5IMAkKhTp48GBzc3N6ejpJci4XOBMTEx8+fPD19dXR0eHk5JSSkjp9+vTPnz9dXV3z8vJ6e3vT09O9vLxUVVVVVFQmd4mBiar79u2rr6+3sbGhoqLClcnAwODi4pKUlDQwMDAPbwkAAACIjIyUlpYGPaQpsLOz6+vrR0REdHV1JSYmSktLBwUFSUhISEpKuru7I5HIKf79XHF1dQVrlgkJCfHx8V2/ft3Ozq62tlZISAgAACoqqoSEBE9Pz9u3b7Ozs8vKyvb09OTm5s6oKgHQ09Pb29ufOXNm9tRtPz8/b2/vs2fPsrCwKCkprVmzJjc3F6ykgaeEObF+/fqQkJBbt249e/aMeGkbNmwAACA9PZ14UURCReR3BQCAwcHBvLw8JBJZXV1dXV3d1dU1PDw8PDzMxsaGQCD4+fnXrl27bt06ZWXljRs3gj88CNKCRqPLyspycnI+f/5cWVnZ1tY2PDzc19eHQCAQCAQ3N/eaNWskJCQUFBQUFBRIW5gaYpKWlpbs7Ozi4uKampqGhobe3l6wTCYjIyMHB4eIiIiEhMTWrVtVVFRIUuoSYjqQLVoU4G+vHj161NnZ+cfEUywWe+TIkefPn2dnZ0tLS1PmXVCeoaGhgoICJBKZn5+PRCJHR0d5eHgUFBTk5eUVFBQ2b948xZEFwWKx7Ozsv379gsPhy5YtCwsLmyWC3t/fLyYmpqCgMC+d5z5+/Oji4vLy5UvcomCzgEajCwoK4uLi4uPjW1tbhYSE9u7dq6Ojo6ysPGN2xwJnZGRk586dCATi+vXr69ev7+/vLygouHfvnqmpKZjMQAEJM3L8+PGnT5+WlZURU/QDAAAsFktHR8fDwzO9xBuFIdzxHRkZSUxMDA8Pz8zMnJiYEBISEhISEhAQ4ODgoKenZ2BgGBgYGB0d/f79e0tLS11d3c+fPzk4OAwNDc3NzWVlZUn7Nv5aCgoKIiIiYmJiwI9XTExMUFBwxYoVdHR0zMzMIyMjo6Ojvb29LS0tTU1NTU1NNDQ0qqqqFhYWurq6i6K25cKntbU1KioqIiLiy5cvdHR04uLigoKCPDw8bGxs4Cc8Ojra19fX0dHR3NxcW1s7Pj6+du1aCwsLMzMzPj6++VZ/KQDZosXCXO0VHA7funXriRMnZrdXZ86cuX37dnJyMqnCbws7I9++AAAgAElEQVSH/v7+4uLijIwMJBL5/v378fFxERER0NOVl5eXlJTER8i+ffuSk5NtbGyuX7/OwsIy+8nh4eFWVlaBgYGrV68mxTvAFxQKZW1tLSUlRVjFq8rKyri4uLi4uKqqKk5Ozt27d+vr66urq4MN1RYLIyMjly5dio6ObmtrY2Njk5GRsbKyAtOLKSZhOqOjozIyMnR0dEgkEs9s+98hKira2NjY398/vwE4QhzfX79+BQYG3rp1q7e3d/v27SoqKtLS0uzs7LNcgsViGxsbCwsLMzIyGhoatm7deu7cub179844Q4X4IxgM5sWLF1euXCkpKREVFVVVVZWRkRESEpr98+zt7f3w4UNWVlZxcTEHB4ezs7O9vf0f7SDE76iqqvLx8Xn69CkjI6OKioqioqKkpOTsdnZsbKyysjI3Nzc7O3t4eNjY2Njd3X3NmjUU03mJAdmiRQFZ7VVgYKCDg8PDhw8PHTpEzjdBOTo6OpBIJBjZ/fjxIwaDERERUVVVlZeXV1ZWJiCR49mzZ9zc3Hhmo2KxWFVV1a9fvwYHByMQiLmrTyD+/v4ZGRmfPn0CUwsIBiyFlpCQUFpaysLCoqOjA3rAUKCHGCorK7dt23bq1CncNs4EsH///oSEhKysLLDP83wxN8cXi8WGh4efPn16dHRUV1f3wIEDsz9jZuTLly9PnjxBIpEyMjLBwcHr16+fq4S/nLKyMjs7u+LiYgUFBWNjYwLcpt7e3ufPnycmJiIQiBs3blhYWEBP/TnR19d3/vz54OBgQUFBY2PjnTt3znUejEKhsrOznzx50tLSYmdnd/nyZVZWVjJpuySBbNFigaz2KiYmxsTExNfXF9zfs3hpaGiYzGGoqqqCw+EbNmwAI7sqKiqzlCQjBx0dHRs2bJCSkvLw8KBMRlBmZubly5ejo6MNDAxIJbO5uTkxMTEuLu7du3dMTEx79+6FPGBiCAoKcnBwSE9PV1FRIVjIpUuXLl686OXlRUA1DBIyB8e3vb3d1NQ0Ly9PV1fX0tKSyEh1XV2dv79/dXX1uXPnPDw88GmmB4FGo729va9du7Z27VonJydRUVFipA0MDDx48ODFixc7duyIiori4eEhlZ5Lm/T0dHNzcxQKZWtrq6amRsyDAYPBpKWlhYaG0tLSRkZGqqqqklDPJQxkixYF5LZXOTk5mpqaVlZW9+7dI5XOlKShoQHMYXj79m1zczMCgdi0aROYw6CkpDS/M+Hs7GwNDY19+/Y5ODiQe6zS0lJ3d3d7e3s/Pz9yyO/p6Xn9+nVcXFxqaiotLa2Kioq+vv6BAwcYGRnJMdwSxsjICIlElpWVcXJyEiYhLi7O0NBQU1MTbAE9X+Dr+GZmZhoZGTEyMp47d27VqlUkGRuLxSYlJQUFBcnKysbGxnJxcZFE7FKlq6tLX1+/uLjYzs6OhCuztbW1ly9fHh0djY6Ont/Vh4UPFov19PS8evWqioqKk5MTSbrSAwAwMDBw+/bt7OxsDw+PCxcuQNH32YFs0aKA3Pbq6tWrrq6umpqajx8/Xiz7FCcmJsrLy8HIblZW1o8fP5iYmGRkZMDIrqKi4oJKSAWj6UZGRtbW1uQzSqWlpR4eHjo6OhS4j5AHTCS9vb0bN27cvn07bi3hOVFRUbF+/fply5ZNb0FHSfByfKOjoy0sLJSUlFxdXRkYGEirQX19vaenJwKBSEtLIzK5ZwnT2Niorq4+Ojrq7e1NZOBkOsPDwzdu3EAikZGRkYaGhqQVvmRAoVBWVlbR0dFOTk7a2tokl//ixYuAgABTU9P79++Te0vyxo0bBwcHv379Oo8SCAOyRYsCCtirvLw8aWnp3NxcWlpa0sonLcPDw6WlpWAOQ15e3q9fv7i5ubdt2wZGdrdv307kbiGyEhkZaWVlpaqq6uLiQg49s7KyfHx89PT0IiIiKHkfIQ+YYDIzM9XU1B4/fmxsbEzA5WNjYwgEAoPBtLW1zWOx7T87vhEREZaWlgcOHDh+/DiZpn29vb1ubm5DQ0P5+fnQ82Y6jY2N8vLyzMzMvr6+BCQy4gMWi7137158fPyjR4+IqXuyVEGj0QcPHkxLS/P29t66dSuZRnn//r2np6empmZcXBxZF9wXqeP799giLy8vb2/v7du34zaw1dbWLisra21tnZOoS5cueXp6rlmzprKykjKLCZC9GhwcLCwsBCO7eXl5Y2Nj+NQdW5ikpKQYGBjw8/N7enqS0FNBoVCBgYEJCQnOzs43b96cr5g95AETAFjdrKKigrC6nCIiIk1NTcnJyXv27CG5bnjyh2/by5cvraysjIyM7O3tyfdb5eDguH37NiMjo7q6end3N5lGWaR0dXWpq6szMzPfunWLTE8RAACoqKgcHBwMDQ2trKzmN/lmAYLFYo8dO5aamurr60s+rxcAgK1bt/r6+r5+/fr48ePkG2WR8hfaoqKionfv3hEjAYVCBQUFOTs719XVvXnzhlSKzcJfa6+6urqSk5Pd3d0VFBQ4ODjU1NQiIyN5eHgCAgIaGhra29tjY2OdnJykpaUXkdcLAMDu3bsrKiqYmZmPHDny6NEjknSvLS8vt7W1TU9Pf/LkiZ+f3zxmqnBycoJt4To6OsDGyFZWVtzc3Do6OhEREWAhdogp3Lhxg4uLy87OjrDL165di0AgysrKSKvVnJjtCwc2xNPQ0LC2tia3HoyMjL6+vsPDwwYGBpNtZiDQaLS+vv7o6Kivry8F5qA2NjaqqqqGhoZ1dXXkHmsRERAQ8PDhwwsXLqxbt47cY61fv/7ChQv//fff3bt3yT3WImIJ2yI4HP7o0aPpx2loaMTFxYnc7hMdHT0wMHDhwgU9Pb1bt24RIwof/jZ71d7eHhcX5+TktGXLlhUrVujp6SUnJ0tKSt6/f7+lpaW+vj4iIsLGxkZYWHhe1CMVQkJCubm57u7uT58+BdsgYzAYwkTV1tZ6eHg4OTmtXbu2oqKCsOVycgB5wPjDyMj46NGjlJSUhw8fEnD5mjVraGhoPn78SHLF8Oe3ju/o6KiBgcHKlStPnjxJmRkqBweHt7d3QUHBpUuXyDSEubk5CwsLBoNBIpFgDzM6Orrp1R/v379PRUUlIyNDsARS4eXlVVRU5O3tTb7YCS5UVFQuLi78/PwGBgZjY2NkGmVoaMjd3V1MTIyWlpadnX337t0zhrVmuQt4SiAJJSUlZ86csbS0pFinAzk5uUOHDp06daq0tJQyI7579w6BQGhqak7pdTnLLcBTAklYkrboj6BQKBsbm8TExKampllOm/0e+fv7Hzp0iJWV1cnJKS0trbKykiy6/h9L0l5NoaGhISIiwtbWVlRUlI+Pz8TEJD8/X15ePiYmpqurq7KyMiQkxMLCYol1Z6Snp79w4UJlZaWCgoKvr6+ZmdmjR4/a29vxvHxoaCg1NdXFxcXGxmZ4ePjly5fJyckLM60R8oDxQU5O7sSJE87Ozi0tLXO9dvXq1cPDwwvU8b169Wp9fb2HhwclU+/FxMSOHTt25cqViooKcsjfsGHDwMDAy5cvLS0tz58/39PT09fXd+PGDUpKwJ+ysjIfH5/jx4+TfHfILNDQ0Hh6etbV1fn4+JBDPgqFUlNTu3//vr+/f09PT0lJCSMjo7Kycm5uLsUkzElbS0vLdevWmZiYkFz4LJiZmUlJSVlaWk5MTJB7rKqqKh0dnS1btsTHxxO2v4R4CbOzJG0RPhgYGDAzM/v7+xN2eV5eXmlpqaOjIwAA8vLy0tLSt2/fJqmC/8OStFcAAKDR6MrKytDQUAsLC0FBQVFRUTs7u8rKSn19/fT09P7+/pKSEn9/f319fQ4ODjLpsEAQFRWNjIysrq42NDRMSUkxMTGxsLDw8/N79erVp0+furq6BgYGAAAYHR39+fNnXV1dVlbWf//9d+LEiX379vn5+QkJCaWmppaUlMxjcif+THrAzc3Nvr6+/f39lpaWPDw8pqamiYmJFJtoLViuXLmyfPlyArLyJCQkxsfHGxsbf/78SQ7F8GHmzeO1tbW+vr7W1taUr+26b9++jIwMOzu7vLw8kkd3wE7Tjo6Ob968kZCQAA/OaW848RLwBIPBHDt2bM2aNUQ2GyQAXl5eCwuLa9eumZmZkfwZ9vTp04KCgvv374O2j4WF5dGjR3x8fGfPnkUikZSRgD/+/v51dXUPHjygcBYaDAZzcXE5cuTI3bt3T548Sb6BWlpaNDQ0hIWFX758SViXJuIlzM5StUX4gEAgjh49GhIS4u3tTUCHxdu3b2toaEw2nnVycrKxsbl69So5irUtMXuFW3csMzOzt7eXmZl5+/btR44cWYB1xyiMqKion5/fjRs3cnJyMjMzs7OzMzMzZwyFwuFwYWHhHTt2uLm57d69mzLrACSHh4fHwcHBwcFhciecvr4+IyMj2BFDU1NzIdflIB8MDAyhoaE7d+4EPxD8LwRb2GCx2E+fPu3YsYNsCs7GzFUdTExMioqKwsLC5qWWe21tra2tbVJSko6ODmklp6WlaWhoGBgYxMTEzJcEPElISDh48GBoaKiYmBhZB5qRiYmJo0ePKigoREZGklaysbFxdHR0V1cX7tNXR0fn9evX/f39+OQFEi8BTwYGBgQFBXV0dKysrEglc06EhYWlpKR8+/aN5G3NwZoMYDMtGAz29u3bubaGIl4CnixJW8TJyfnjx48ZX0pISNDV1QWrOnR3dw8PD4uIiFy/ft3FxWVOVR2+ffsmKiqanJy8e/du8Mj4+LigoKC9vb2HhwfJ3gmO2ovdXk3WHcvIyMjPzx8ZGVm+fPnWrVsVFBRUVVU3bdq0WKoFzwutra0tLS2Dg4N9fX2MjIxMTEzc3NyioqJL0ikEc7vBnnAcHBwHDhwwNzeXl5dfXNsWSQK4u7SqqmpOsxouLq6xsbGLFy+SNawzCzP8khsaGuLi4szMzOarg9GqVavk5OTIkV0HWq6NGzfOowQ8uX79uoKCwrw8RQAAgMPhpqamT58+JfmukZaWFhoamikxJ15eXgwG09HRQRkJeBIUFIRCoUjYQnOuGBoajo2NhYSEkEP42NiYtrb2ly9fXFxcCPNZiZfwR5aqLerp6cH+H9TU1A8fPpz8V1dXF/dMQUHB/fv3BwQEzHWb3Z07d0RFRTU1NSeP0NLS2tnZ3bt3jxyrtIvUXg0MDGRkZHh5eampqXFwcCgqKvr7+7Ozs9++ffvz588dHR3Jyclubm7S0tKQ1zs7/Pz8srKyampq+vr6WlpaSkpKEhISS9LrBQCAl5fXyckJiUQ2NjZ6eHi8f/9eUVFx5cqV4MH51o6i3LhxA4vF/vPPP3O6SkJCgo2NbR7TfGf4Md+9e3f58uXKysoUV+b/x9TU9P3790VFReQQTvxKH7kbOxUUFBQWFs7vjtddu3YtX748ODiYAmOBe4SJ7P1LpITpAu/evautrU2q9mwEwMLCoq2tHRAQQPAe6llobW0dHx9fv369q6vr7NunyCfhjyx5W4QPJ0+e/Pbt2/Pnz+cUT7p582ZNTc2USy5cuPD9+3eSL9MvLnvV2dkJ1h3bsmULGxsbbt2xxsZGsO6YjY2NpKTkXxjAg5gToLNbWlr6+fPnI0eOvHr1SlFRUVJS0svL6y+pjMTBweHn5xcaGjonj19CQgIGgy0gx3diYuLJkycaGhrzO8Fdu3YtmEc/jzrMI+Hh4SIiImAqzHwBg8HU1dWjoqJIu79KSEgIhUJ1dnbiHmxra6OhocEziZN4CfiQnZ3d0tIy75swtLS0mpubybFvj5eXNz8/Py4uDoVCGRoaElCek3gJswPZIhA5Oblt27bdunVrweaVLnx7Ba5N29raSkpK8vDwgHXHpKWlo6Oju7u7J+uOLcw6AxALH9DZ/fr1a0lJiaqqakhIyKpVqyQlJX19fUm7DrkAMTEx0dTUtLW1xf8RsHr16v7+/i9fvoyOjoJHvn79mpOTQ/KHyO+Y+kTJysoCK5ATIAuDwURGRpqbm6upqe3du9fb2xv/cifT2bVrV0xMDDliXX8E/ypO5ACNRsfFxampqREjZHx8/NSpU8rKyjU1NQQLUVdX7+rqevv2LTGaTAF0JZOTkyeP9Pf35+XlqaioTNkj+Lu7gL8EYoiJiVmzZo2goCAB12Kx2ISEBDMzM3Dh79y5c7W1tYSpsXLlytWrV5MjoZyBgYGOjm7VqlWBgYHFxcVnzpyZfs7sPwR8JBADMbYIjUYnJCRYWVlpamru2bPH1dWVmOjCPNoikJMnTxYWFs7YJ29+jRVAInsFEhkZqaysfO7cOcIun2KvJuuOCQsLg3XHPnz4oKOjk5SU1N3dDdYd09fX5+TkJF5zCAgQaWlpf3//lpaWlJSUrVu3Xr16VUBAQF1dPSIiYnBwcL61Ixd3795taGjAs/5Ma2trb28vLS0tFosVFxdHIBAwGExcXFxPT49iuTFTHd/MzMyVK1euWLGCAFn//vtvdHT0sWPHXr9+HRwc/OvXL3t7e4IrVmzbtq2np+fTp0+EXb54KSsr6+3tJexJNjEx8f379xcvXlhaWhJfs5OXl1dQUDArK4tIObgYGBgoKiqePXv2zZs3Q0NDdXV15ubmWCz2+vXrFJOAD+np6du2bSPs2tu3b9+7d8/Y2DgpKQm0BcePHye4Kta2bdvS09MJuxYfzM3NDx06dPv27aSkpPmSMCPE2KKLFy+GhIQYGRnFx8eHhIRQU1MTUxeZrLZoYmLi8OHDs5+jr6/Px8dXXl5ODgWIhBh7hUtTU1NUVBQxEkB7FRUVpaenx8XFJSoq6uDg8O3bt6NHj+bm5g4MDJSUlPj4+Ojo6CzS8gIQiwU4HK6pqfno0aPOzs7o6GgEAmFtbb1ixQpzc/M3b94svRZdIiIibm5uFy9ebGtrm/EEFAplbW3NxcUFg8EEBASuXbvW2dmJRqNbW1tHRkbAEgsbNmygmMJTHd+cnBzCdm7V19e/evXq8OHD8vLyNDQ0vLy8Hh4eg4ODjx8/JkwzERERNja2nJwcwi5faFhbW3t7e+MT+cvJyeHg4CBs0e3WrVt2dnb5+fnm5uampqYESJjCxo0bSev4UlNTp6amWlpaHjt2jI2NTUZGBgaDFRQUrF+/ntwSIiMjraysMjIy/mh3mpubm5qaNm3ahKdKuDQ2Nr548UJbW3vPnj0IBIKXl/fcuXNYLDY6OpoAaQAAbNq0qb6+Hs+9/IRx7949CQmJw4cPE5yqi6eEnp4eNTW1hw8f9vX1/VEmwbaorKzs7du3JiYmampqCASCn58fDCK+ePGCAGnAArBFcDjcwcGBkiN6eXmdOnWqpKTkj2cSY68mwWAw169f37NnD5FpLRs3bnz//j0Wiz179mxxcXFvb29qauq5c+cUFRXp6emJkQwBQQD09PQHDx5MTEzs7OwMDAz8/v377t27BQQElt42ODc3N05OTjc3N9yDHR0dYGtiMJQLbuqd8XI4HL5lyxYK6AnyP1YGi8VWVlZO1n2cE+BTQUlJafIIOzu7lJQUwU8LMPpN2urxqqqqWCz26NGjs5929OhRLBZbWFhIsITpVFVVeXl5rV69et26dX5+fr+bGAEAUFFRIS4uTti+itOnTyckJPj6+mpqapJkI/zq1asrKip+92UlDAQC4evr29jYiEKhfvz4kZCQMGMr4FnuAp4SpvDr168HDx6oqaktX7785MmTs2xXAmN74uLic3lb/4/a2lpGRkbcNm8IBIKNjW2WOz474O+RtD+EsrIy3HVzRkbGL1++/Pz5c4r7MsstwFPCFDAYTEZGxpEjR7i4uPbt2xcXFzcyMjLjmcTYopqaGnp6ejk5uckjLCwsrKysU/LC8Ycctmh2vLy8sFgs7iq8u7s7FoudPv+Z5R4RQ0dHh5+f39atW4WFhb28vGbJmCLGXk3y7NmzHz9+EN+PevXq1U1NTQkJCc7Ozlu3boXDZy5UDwFBYdjY2CwsLNLT05uampycnFJSUia3wTU2Ns63diSAgYHBz8/v8ePHoMs3MDDg4eEhIiIyuYwzewciNBq9efNmyqgKTHF8W1pahoaGBAQECBBUV1dHT0+/fPly3IMrV67s6ekhONuBn5//y5cvhF27YKmsrHR3dxcQENi+fbu/v39XV9eUE6qqqgi7BeRAQEBgaGiImFztBQX4w/vx40dgYKCMjAwPDw+4J3fKaTU1NVxcXISVBNbQ0Hj58uX27dsnj7S1tfX29hJcCYSRkXHZsmXE5GovQCYmJl69emVkZMTGxnbw4MHk5OQp2xqIsUWGhoapqam4pbXa2tp+/fq1du1aghVekrZodsAfS1NT09WrVyUkJFatWuXl5dXQ0DDlNOLtVXt7+4MHD1xcXIjP0Z8Xe1VXV2djYyMiIkJPT8/IyLh58+Y7d+6QNlgAsWQQFBR0c3Orra0Ft8EFBgaKiYkpKCiEhoaCfe8WL7q6ulpaWvb29v7+/itXrvTx8RkdHf38+TP4qqCgoJ2d3e/icVgslrAlVsKY6vgCAEBYUl1vby8rKysAAK9evVJWVrazswMAgI2NDXyJMOVWrFjx7ds3wq5dsGCxWBQKhcVi379/f+rUKR4eHhUVlYiIiMkvfVtb25T5wzwCfhmam5vnWxESA7pZ379/Dw4OlpaWFhcX9/Lyqq+vB19taWkh7FcwHTQafe3aNSwWS0xHKx4enqV3C9BoNAaDGR8fT0pK2rt377JlyywsLDIyMkCPgRhbhMvo6Oj79+/d3d1FREQsLCwIlrMkbRGegD+Wr1+/Xr16VUxMbMqMnUh7hcVib9y4oaioiDtXJBjK26tv374pKiq+f/8+Kirqx48fNTU16urqJ06ccHV1pZgOEIuRyW1wcXFxXFxcjo6OK1asMDMzS01NXbxJwHv37v3+/buLi8vPnz/B+iq4C2Xnz5//XdAX3CdNIS2nOL6g70XYtHt8fHz6WwJXmgiul87IyLiEN0JisVjw2Z+bm3v48GFOTs49e/bExcUNDAyQo/UrYYBRz8U+E52F8fFxAAC+fv165coVMTGxDRs2+Pv7d3d3k6RABAaD8fHx+fz5s6qqqqKiIsFyGBgYlvAtAO3jwMBATEwMmIji5OQErt0TeRc8PT01NTVPnz7Nx8d35coVcGZOGEvbFuHD72bs/f39xNir5OTkhoYGUmUwk9VeweHwR48eTTkYGBjY2dl59+5dOTk5RkZGfn5+Hx8fFRWVnJwccjQKgVhi0NHR7d+/PyEhobOzMygoqLOzU0tLS1BQ0MnJiZK5VcRTUFAgKyt77Nixvr4+3AI4HR0dk5aTi4vLyclpxqCvlJQUJbsU/Y/jOzw8DBD6sKGjowMDA3v27MnJyQkKCgL+L1RAcPlJBgaG4eFhqiXB7zqUAgCARqOxWOz4+Pjr168NDAwGBgYKCgooVtBudsAvw8mTJ+f78yMB0x9auExOT0+ePPn06dP6+vrv378T89FNTExcvnw5PT1dTk5uSsr/XKGnpy8tLZ3vz48EzF5oGZyEdHd3BwQEgAEzcGMEwVy8eDEtLS04OBgOh1taWubn5xMsioGBYXBwcL4/P8rx33///e6jmJyx5+TkHDp0aHBwMDMzk7BZQVdXV0hIiKOjIzFzElxAe0XJKQoY+Z6yNJGZmfnhw4fJB19DQ4OOjg4zMzMbG5uRkVF3d7ewsLCKisoUUb+rTJeamkpFRXX//n3cg0xMTKqqqiR+MxDzB24S8IkTJ168eLF+/fotW7Ys/BSIpqamPXv2yMnJgXthp5R9xGKx1dXVk/+6ublN9zCpqakJrqFEGP+T+09LSwsAwPj4OAEbYJctWzZ9KRDM7iW4UOL4+DgtLe2TJ08Iu3xB4evrO8ur1NTUGAyGnp5+//79cXFxcnJyC6TZI+iLWFhYiIqKzrcuxFJUVDRLRSoqKipqamo0Gi0nJ4fFYicmJohZZx8bG/P09CwqKtLS0nJxcSFykw0KhRISEnJ3dydGyEKgv79/9o2hNDQ0KBSKj49PXl4+NjZWWlqayBFpaWklJCQuXrzo5OR09erVhIQE0MrNlfHxcTo6uvDwcCL1WSyEhYXNsi8ZrL0Ag8E0NTXT0tJUVFSYmJgIGMXPz09KSoqEDhxoryhZwAEsJuPr63vnzp0ZQzxjY2Pq6uooFOrNmzdSUlLZ2dkmJiYDAwOEfQ8hljxgEvDp06ezsrIiIiKcnZ2dnJx0dHRsbGx27dpFtfC6CS5fvpyamhoGg83YOwYGg3358mWyYgM7O/upU6cuX748JZ2Dkgm+wBTHFzReIyMjBBiOVatWvXv37vv377juQkNDAw8PD8Gz+eHhYWZmZn19fcIuX1Dcvn17+kEwtk9FRaWmpmZkZLR//34mJqa0tLSFs0YGLgLIy8sTs1K/QPjdpn44HD4xMSEmJmZiYnLo0CFhYWEHB4d3794RPBAajb5w4UJRUZGVlZW5uTnBciYZGRnh4+NbAj+E6Vs5QcBbwMrKamhoaG5uLi8v//bt29jYWMJskY+PDxKJjI+Pn/QtYDDYqlWrKioq2tvbCSu8NTw8zMLCsgRuAZ5kZGRMd3ypqKjAO7VlyxYTExMTExMuLi5ubm7ClqdGR0fBhJYpLanz8/OVlZUdHBwOHjw4V5mgvaJkm3EbG5v4+PiwsLBnz55paWmpqqpqamriPgQTExPr6+v/++8/sMzIvn37GhsbMzIyKKYhxGIEBoOpqqqqqqoGBATExsZGRESoqakJCAiYmJiAPVnmW8H/HwYGhoSEhOPHj4eFhU3f00lDQzNlW7Crq6u/vz9uRUs0Gk1hx/d/Uh24ubkBQvei7dq1CwaD4drKzs7OqqoqwhovgRCzF34hAwYXqaiopKWl//33346OjtevX1tYWIATDy4uLoK3A5IcUJMleRfAmDofH9+pU6eqq6tra2u9vLxAg8LFxTVLasofCQgIKCwsdHBwIInXCyzdH6cqyzkAACAASURBVAINDQ0VFRUCgTAyMnrx4kVPT09ISIiCggIVFRUxtkhYWHhwcHBKYkNdXR0cDif4Y1yqtwBPwCULcXHxS5cutbW1FRUVOTk5gR8IwfaKnp4+ZxowGExeXj4nJ4cArxcgg73i5OScTP9Ao9GWlpaT/yYmJgIAwMjI+Pbt27i4OGVl5ZcvX1paWvLz8+/fvx/cnQkAAFg2ETdw8LvpE5kq00EsatjY2GxsbJBIZGVlpYmJycOHDyerQAwNDc23dv8PamrqkJCQa9euTQ9Ij4+PTxZ2AGFiYnJ3d8et2E1NTS0lJUUJRf+P/3F8xcTE4HA4YaXyBQQE9u/fHx4enpeXh0KhWlpavL29eXl5DQ0NCVaupaVlfvu/kxzw+bF582Y/P7/29nbw+TElFURCQmLSaM47zc3NcDhcRERkvhUhDWg0GvR3ubi4Tpw4UVJS0tra6uPjM6Ve7OrVq9vb22dcuPkjpaWlSUlJ6urqhD25p4NCodrb2wmraLswgcFgMBiMlpZWR0cnPj6+t7c3MjJSR0cHNyGEGFu0f/9+YWHhgIAAJBI5NDTU09MTHBz86dMnfX19wkrUAUvRFv2RyR+LmJjYhQsXvn79WlNT4+bmNiVRe2nbK7DkPgg1NfXDhw8n/9XV1QXPgcFgBw8ejI+P//HjBxKJNDExSUhI2LFjx+joKAAA4FYBXF+cj4+P4H0vEH8ta9eu9fHxaWlpefbsGQcHh729PT8///Hjxz98+DDfqv0/3Nzc7ty5A04LJw9isdjpLSdPnDiB6/aIiYlRuL/M1BzflStXNjQ07NixgwBZ9vb23NzcYWFhFy9eZGJikpGRsba2JmbDb1NTE2GaLECoqanFxcUPHTpkbGw8u11es2YNwe3ugoKCYmJicI/Y2tqCfxC27N7Y2CgsLLxk0tFYWFgMDAxMTEwUFRVn6RG1Zs2aiYmJlpYWAlaUUlJSAABIS0tLS0ub8tLLly8JSIVsbm5Go9FLxuuCw+E7d+40NzfX1dWdZUmaGFtEQ0MTEBAQGRkZGBjY3d3NxMQkICBw5syZ3bt3E6z2UrJFeAJ2WDU2Np69lSgx9orkzK+9oqamlpeXl5eXX7FixY0bN16+fHnw4EFw8XdKJGwBZmpCLApoaWn19PT09PS+f/8eFRX14MGDoKAgaWlpGxsbY2NjSib5zIi9vT0fH5+BgQEGg5nM4m1tbR0dHcV1bRkYGM6fP+/s7Ayes3XrVgrrOXXPjZKSEsE7qamoqAwMDAwMDIjWCgAAoKenp7m5eQmkloJER0fz8vLic6aCgsLVq1d7e3s5ODjmOoqdnR1YQZlUlJeXT8nAW7wYGhra2tris2tQSkqKlZW1rKyMAMf33LlzYINcUvHx40dWVlZimi8sHNjY2Nrb2/FciSbGFjEzMx8/fvz48eOEXT6FJWaL8MHLyys4OBgf/4wYezUdIhukU9hetbe36+rqysvL37p1C/c4uEUdXK9YtmwZgFPnHgCAzs5OMBiMJ+BWENzNQENDQwtnmRtiXlixYoWrq6urq+uHDx9CQ0OdnZ1dXV2NjY1tbW0p2QJtOrq6umlpadra2mNjY+CqKQaDqa2tBbeBTmJra+vr6ws2NF2xYsXbt28HBweHh4fZ2NgYGRnZ2NjExMTIN4OdGvRSUVGprKz8XR9RSvLhwwdaWlp5efn5VoQ04On1AgCgoKAAh8MXwvrF0NBQVVXVzp0751sR0sDFxYVnrQxqamolJaWFcAsAACgtLd25cyclaxySD1paWvzzLyFbNI/w8PDgGZVcUPaqsrJyYGCAYj32eHl5f/z48fTpU9ydOgAAgFtjJSUlAQAAvZDi4uLJV2NjY2eU9rtyZmB/ENx2dERODyCWEtLS0iEhIe3t7Tdv3iwsLJSWlgaLoM1j3XFlZeXCwkIODg7wgQuDwaqqqiZfHR4eTk9P9/Lymkw8u3nzprKysra2toGBgbq6ury8vKSkJAKBEBMT09PT8/f3//TpE2lbIU51fLW0tAAAyM3NJeEYhJGVlaWmprZwWjlQDCYmpl27dmVnZ8+3IkBubi4MBiNme+LiRVdXt6ioqL+/f37V6O/vLykp0dPTm1815gXIFi0KFpS9oqKiSk9PX7t27apVq86cOYNEIknYBGtiYuLw4cNTDt6/f7+3t1dLS6ugoGBoaKizszMgIODOnTu7d+8Gy7QdOHCAk5PT29u7rKxscHAwNjY2NTWVhYUF/3ElJCSEhITCw8PLy8uHh4ezs7PDwsJWrlxJqvcFsQRgZWW1sbEpLy8vKSmRlpZ2dnbm5eW1tbUtLS2dF32kpKQKCgr4+PjAHcxVVVWTbeqXLVumrq4eHx+vpKS0du1afX399+/fd3Z2Dg4OYrHY3t7elpaWsrKyp0+fgntJL168uGHDBkFBQXd3d1wHmhimOr4cHBxaWlrT0xMpzI8fP0pKSohpMbqoOXToUFFR0bzXdkhPT9fW1gaX6v429PX14XD4LKVMKUNWVhYcDt+/f//8qjEvQLZosbBw7NXevXu7urpKSkpMTExevnypqKi4fPlyCwsLsCMmOQbduXNncXGxkJCQmZnZsmXLxMTEIiMjb9y4kZSUBIbMWVlZU1NTOTg4ZGVlhYWF37x58/jx4ykbgGaHlpb2+fPnK1euVFJS4uPjCw4ODgsLY2VlBYsWQ0DgAgaA29rabt68WVBQMI8BYBERkaKiIklJSTQanZSUJCIioqOj09HRcefOnba2turq6rCwsPT09EePHm3ZsoWbmxsMALOzs/Pz82/YsEFfX//cuXPx8fHd3d2lpaWHDh2Kjo6WlJRUUVHJzMwkUjeq6QHk1NRULS2t0NBQcXFxIqUTTGhoaEZGxrdv3yi812+BMDIysnLlSnV1dWtr6/nSoba21sbGJjU1VUNDY750mF+srKwyMzMfPnw4yzY4soLBYA4dOqSurj6ladPfA2SLFgUL1l41NDQkJyfHxcUVFBTQ0tIqKCiAy6mzdxCkAPT09Hv37v1dzgMEBEnAYrG5ubmhoaHPnz+no6MzNTU9duzYlFxbsoLBYO7du+fq6joxMeHg4ODk5ERMxRUMBpOVleXr65uRkSEnJxcQEEBwh6MZnugaGhobN26cx426/f39SUlJp06d+mufNAwMDC4uLklJSfPYqzAyMlJaWvqv9XoBAHBzc2ttbZ3HoG9WVlZ7e/sSaNhGMJAtWhQsWHslIiLi5OSERCJbW1v9/f1paWnd3d0FBATk5eUvXbpUXFw8pb0qmdDU1MStz//x48exsbGNGzdSYGiIvxkqKqodO3Y8fvy4tbXV09MzKytrw4YNO3fufP78OQlTgH5HWVmZnJzcqVOn7Ozs9PX1b9y4QWSdQbCpR3p6emFhIRwO3759u6OjI2HpiDNEfAEAePHiha6u7u3bt2cvZEMmbt26VVhYWFdXN++1OeaR/v5+sE61k5MT5Uf/+PGji4vLy5cvwTzLvxZzc/OsrKyHDx9Svu7m6OiopaWlhobGw4cPKTz0ggKyRYuCxWKvBgcH37x58/r16zdv3rS1tXFycqqpqWlqaqqrqxPTonx2bt68efr0aW9vb2dn587OzsOHD1dVVVVWVs574JlI0Gh0WVlZTk7O58+fKysr29rahoeH+/r6EAgEAoHg5uZes2aNhISEgoKCgoICYU2tIUgLEokMCAiIj4/n5ua2sbFxcHCY0kZgCg0NDUJCQnNd88RisXfv3j19+vS2bdsCAwOlpKQwGAwGg8Gt1D44OJiXl4dEIqurq6urq7u6uoaHh8GqDggEgp+ff+3atevWrVNWVt64ceN0BbBYbGRk5OnTp1lYWGJiYuZayGJmxxcAgD179lRXV4eEhOC5EZ5UfPnyxd7ePjw83MzMjJLjLkDCw8OtrKwCAwMp3LwAhUJZW1tLSUklJydTctwFSEdHh4SEhI6ODuXXcENDQ1+9elVTUwPu6f6bgWzRomDR2auGhoaMjIzk5OSMjIzR0VERERFtbW0dHR1FRUWST3QDAgKCg4MbGxvp6ekVFBSuXbtG4VZVpKWgoCAiIiImJubnz58cHBxiYmKCgoIrVqygo6NjZmYeGRkZHR0Fdyk1NTU1NTXR0NCoqqpaWFjo6upCiyfzTn19fWBg4IMHD8bGxkxNTR0dHX+X/yAvLy8qKvro0SP8fd/h4WFzc/OkpCQvL6+zZ89OuXBkZCQxMTE8PDwzM3NiYkJISEhISEhAQICDg4Oenp6BgWFgYGB0dPT79+8tLS11dXXgFwxsZS8rKztlrM7OTjMzs7y8vDt37szpGf1bx7exsXH9+vUaGhqOjo74iyOSoaEhW1vb1atXp6enQyW+sVisqqrq169fg4ODKbmj3N/fPyMj49OnT0JCQhQbdMESFBTk6Ojo5+dHyYjjx48fXV1d7927N9l/5G8GskWLgsVrr4aGhrKzs9+8efPmzRswur9r1y4NDQ0VFZVVq1aRVNnFDQaDefHixZUrV0pKSkRFRVVVVWVkZISEhGb/gfT29n748CErK6u4uJiDg8PZ2dne3n5OdS0gyMHo6GhsbOzNmzcrKirk5eXd3Ny0tbVxb2VeXp6SkhIMBjMxMXn06BE+JTV//vypra1dW1v77NmzKR1/fv36FRgYeOvWrd7e3u3bt6uoqEhLS7Ozs88iDYvFNjY2FhYWZmRkNDQ0bN269dy5c3v37sVVEoPBeHt7X7p0ydPT08vLC8/3/lvHFwCA6OhoExMTT09PylRyBd9AdXV1WVkZ+VadFhcdHR0bNmyQkpLy8PCgzBarzMzMy5cvR0dHk6oRyRJg//79SCQyKCho9lUhUtHd3W1nZ6esrBwXF0eB4RYFkC1aFCwBe1VfX//mzZvU1NTs7OzBwUEeHh5lZWUlJaUdO3Ysme6JhFFWVmZnZ1dcXKygoGBsbEzAp9Hb2/v8+fPExEQEAnHjxg0LCwtoSrkQQCKRvr6+r169Wrdunb29vYWFBRiVV1NTy8nJmZiYoKamPnDgwOPHj3FzFabT09Ozc+fO/v7+N2/eSEhITB7HYrHh4eGnT58eHR3V1dU9cODA7P7ujHz58uXJkydIJFJGRiY4OHhKiPr+/fvHjh07fvx4QEAAPtJmc3wBADh58mRQUJCvry9ubj6ZuHPnTnJyclpa2t/WGnR2srOzNTQ09u3b5+DgQO6xSktL3d3d7e3t/fz8yD3WIqKvr09OTm58fPz27dvkzvXs7+8/efIkPT39u3fvJls9QQCQLVokLBl7BSawIpHI/Pz89PT0vr4+bm7ubdu2KSgoqKqqbtq0ab6KvVAeNBrt7e197dq1tWvXOjk5iYqKEiNtYGDgwYMHL1682LFjR1RU1GJPdF4ylJeX//vvv9HR0RwcHMeOHVNWVlZRUZn0D6mpqffv3//kyZPf+b6Dg4MqKio/fvx4+/YtPz//5PH29nZTU9O8vDxdXV1LS0siU73r6ur8/f2rq6vPnTvn4eGBG4R+9uyZkZHR+fPn8Yn7/sHxxWAwxsbGr169unz5MvmeN1gsNiQkJDY2Njo6Wl9fn0yjLF5iYmJMTEyMjIysra3JN0UuLS318PDQ0dF5/Pjx32PT8aSlpUVOTo6ZmdnHx4d8/mhfX5+7u/vQ0NC7d+9wbQcEANmixcPSs1e4TnBGRsbPnz+5uLi2b9/+NzjBXV1d+vr6xcXFdnZ2U1aZiaG2tvby5cujo6PR0dFLpjnoEqClpcXf3z8sLIyLi6u5uRmFQk2+NIvvi0ajtbS0ysvLkUikmJjY5PHMzEwjIyNGRsZz586RKmsIi8UmJSUFBQXJysrGxsbitgINCwuztbUNCQn5Y77vHxxfAADGx8ctLCwSEhL++ecfcnxBUSjUv//+m5mZ+eDBA2gTye+IjIy0srJSVVV1cXEhxxafrKwsHx8fPT29iIgI8jXIXtTU1dWBTeyuXr2KfwNq/AErl1FTU6elpeHaDohJIFu0WFjC9gqNRn/8+DE3NzcnJycvL6+vr2/ZsmWKioo7duzYsWPH+vXrl0Z3cZDGxkZ1dfXR0VFvb28iA73TGR4evnHjBhKJjIyMNDQ0JK3wxUt1dfWlS5eysrJ+/fq1Zs0aZ2fnudoi4iUUFxfLyMhMdw6pqan19PSePn06xff19PS8efMmEonEra4QHR1tYWGhpKTk6urKwMAwJwX+SH19vaenJwKBSEtLw03u9/DwuHHjxrt372av8/BnxxcAAAwG4+LiEhAQsH///mPHjpHQkLW3t3t7e7e3t8fGxmpqapJK7JIkJSXFwMCAn5/f09OThI4XCoUKDAxMSEhwdna+efPmEg5dEE9HR8eePXu+fv16+vRpJSUlEkp++/btjRs3Vq1a9erVKyipdBYgW7RYILe92rZtW0FBwfzaKwwG8+XLFzAMnJ2d3dPTw8jIuHHjRgUFBXl5eTk5uUXd9rKxsVFeXp6ZmdnX15eApEx8wGKx9+7di4+Pf/Tokbm5OTmGmCv//vuvq6srNzd3W1vb7Cmt5CAzM/PgwYPOzs5HjhxhZ2fPysqyt7e3tLT09vYGT0Cj0T4+PhEREU1NTeAuzKtXr+LOSf4oAR9MTU3j4uJww72TTPd9MzIyNDQ0goKCbGxsJk+LiIiwtLQ8cODA8ePHybTs09vb6+bmNjQ0lJ+fP+n7YjAYdXX1b9++ffjwYZYNlHg5viDx8fFHjhxhZWU9ceLEli1biFQajUYnJCQ8fPhQXFw8Li4OCnHhQ1NTk4GBQUVFhZGRkampKfFP/fLycn9//66urtDQUGNjY5IoubQZGxs7c+ZMQECAnJzcyZMnubm5iRT448eP0NDQN2/emJubU3g7/OIFskWLAvLZKysrq4CAgLCwMCsrK5KoSjwYDKaysjI/P7+goODdu3dfv36FwWBr166VlZWVl5eXkZGhcJU3Iunq6pKXl4fBYLdu3QJ7yZKPkJCQZ8+eJSYmLoSy8Rs3buzr6/v27VtKSgqFJ8AdHR1SUlL37t0zMjKaPFhbW7thw4aCggKw44m1tXVsbGxkZKSGhkZra6utre3nz58/ffoEPonwkfBHGhsbxcTEZuntguv7Dg0NSUpKysjIREdHT57w8uVLPT09AwMDXFeYHAwNDZ08eRIAgPz8/Mmch87OzvXr1xsYGNy5c+d3F87B8QUAoLGx0dHR8fXr14qKimZmZoQlbaDR6KysrKioqM7Ozn/++cfNzY3y3QEWL6Ojo76+vteuXePh4TE1Nd21axdhMY/a2trIyMi8vDxtbe07d+5AlcvmxKtXrxwdHbu7u/X09A4ePEhY1u+vX7/i4uISEhK4ubnv3r27EIz+IgKyRYsC8tkrd3d3f3//nJyc7du3k1xt4vn169f79+/BtOD8/PyRkREWFpZt27bJy8srKCjIyckt5CkuGo1WUVFpaGi4c+cOmWK9uGCx2OvXr+fl5ZWWllKgOTkcDr9///7hw4env1RRUbF+/fr79++7u7traGhERUWRWxlcTpw40dzcnJiYOOW4sbExGxtbUFDQp0+fNmzY4Ofn5+zsDL7U1dUlKCh47Nix27dv4yMBHzVsbW3DwsJm9wzBOg9Pnjw5d+5cUFBQdXX15CbFmpoaaWlpZWVlV1dXClTt6O3tdXR0FBcXz8jImMwyCg8PP3LkSEFBwbZt22a8am6OL8jLly8vXLhQWlq6efNmdXV1JSUlPH/DbW1t6enpaWlpXV1dxsbGXl5eRLaw+2upr6/38vKKjo7m5uZWV1dXV1fHczFxaGgoLy8vLS2ttLRUWlra29t7z5495NZ2STIyMnL79m0/P7+hoSFlZWUNDY3169fj81DHYDDl5eVpaWk5OTmMjIynTp1ycnIieQrUXwJkixYF5LBXGAxm3759Hz58eP/+PR8fHznVJ5bx8fHS0lIwEvzu3bv29nYaGppNmzbJysrKycnJyMgICgrOt47/A5goGRgYSPK83t+BQqEcHR3p6ekLCwvJPfmcxfE9c+aMn59fR0fH2bNnnz592tnZiRvtHh8fv379+vPnz+vr6xkYGDZs2ODm5rZr1y78TwC5f/++tbX19u3bCwsLJw+iUKjly5fHx8crKyv7+vr6+/vT09NHRERo/H/s3XkgVN3/OPA7trJFJaGs2duUspc1S9nSQ6G02JJ6qKeiXZtIT6VSFAohyRZJZY2yZBfZ931fGsvMmPn9cX/PfOdjb4wZ6rz+Mveee+57kN5z7jnvo6Hh6+vr5OT048ePixcv3rx5s66ujvAXRkVFpaysrKmpaSY9TPvNQaFQurq6paWlLS0tKBQK/x2jpqbGYDBjNjreuXNnfHz83bt3bW1t4SPDw8PS0tIYDMbd3Z1s+w1VVlba2to6Ojri6zngcDhFRUUsFpuWljbhJcQkvrAPHz54eXm9e/cOi8WKi4tLSEjw8/Nzc3MvX76cnp5+8eLFAwMDQ0NDLS0tjY2NZWVleXl5DQ0NHBwcJiYmtra24L+Z2auqqvLw8AgKCmpra+Ph4ZGQkBAREeHm5ubg4KCnp2dmZh4eHh4aGurs7GxoaKipqSkoKCgpKaGiotLW1rayshqzrz1ABCQS+fz58+fPn+fm5rKwsMBFTHl5ebm4uFhZWeFqiENDQ319fc3NzbW1tcXFxQUFBX19fZKSkocPHz506NBcP0b8E4C/RQsCcX+vEAiEjo7OhH+vBgYGZGRk6OnpU1NTF9BHx+bm5pycnC9fvqSlpX379g2FQrGysm7ZskVeXl5SUlJWVpY89cInk5+fv3Xr1hMnTujp6ZHzvs3NzZaWlmfOnLly5cqc3miyxBeLxfLw8IiIiCQkJMTFxWlpaQUGBpqYmODPamlp5eTkvHjxYseOHe3t7Y6Ojq9evQoLC9PX159JA7wJE9+0tDRtbe2uri53d/dHjx5FR0cPDQ2ZmJhwcHC4u7tLS0ujUKhdu3alpKT8/PmTsDdbW9vHjx+3trZWVFRM28MvfaM6OzubmpoaGhoaGhrgL2pra+vr65ubm/FdMTExdXR04Hfju3z58t27d729vclcpS4iIsLDwyM3N3f9+vXwkczMTBkZmcTExAmXQROf+MK6u7vfv3+flJT0+fPnmpoaDAYzvg0jI+P69etVVFRUVVUVFRV/p0Wv88Ho6GhycnJCQkJSUlJRURESiRzfhoaGhp+fX1FRUVlZWUtLiwxPr/40paWlcXFxCQkJ3759a2trm7DNypUrpaSkVFVVNTU1F9aEvwUB/C1aEH7p71V7e3t+fn5dXd1kvZWXl0tLS+vo6Pj7+89l1HMFiUTm5ORk/aeurg6BQAgJCUlJSW3dulVKSkpCQmKWe/zicLjs7OytW7fOpDEWi5WTkxscHHzw4AH5d5cICQnx9fUtLi6e05HmyRLfT58+qaure3p6Wltbo9FodnZ2WVnZ2NhYfGz79u3z9fU9fPgwfASFQvHy8goLC6ekpMykAd6Eie/jx4+Dg4M/fvzIxcXl4+NjYGAAQZCYmJiuru7x48d5eHgwGIy0tHRnZ2dtbS1hD05OTlevXoVLiU3bA6n+4nV1dRUUFGhpaRkZGZ04cQKeUVBeXr5+/XpLS0vyF4LEYrEnTpxgZWVNTU3F/96qqqoiEIj4+Pjx7Web+BJCoVDV1dVtbW1IJBKJRLKysjIxMXFzc4OKpOTU2NjY0NDw8+fP3t5eRkZGJiYmdnb2NWvWkO25A9DX11dTU9PZ2Ql/NGdiYlqxYgUfHx/YkIJswN+ihWLqv1fp6elycnJFRUXr1q2brIePHz/u3Lnzzp078DKXBa23tzc7OzstLS0nJyczM7Ojo4OGhkZYWFhSUlJSUlJBQYGImsGVlZXCwsKmpqaurq7TzjCJiIj466+/nj59SpElnhgMxsLCQkFBISAggLQ9s7GxdXV1TXgqIiICHpE1MzMLCgpqaWmBl0kdPHgwKCioubkZfmlqahoUFNTe3k5YOJbQtA2mdu7cuYaGhkOHDmlra/f398NF+tjZ2b28vISEhLZt29bT07N27Vo0Gl1eXk6Y+Do7O1+4cCE9PT0qKmraHogIbDJOTk5eXl51dXX4eoImJiaZmZnPnj2jyIBCeXm5tbV1VFSUjo4OfAT+JFNSUjJ+l0FSVuugo6MTFRUl3KoOIL/Vq1eD/90pi4WFZYbrZ4E5Av4WLRRT/72Slpbm4OB4+/btFImvurq6s7Pz6dOnRUREtLS05iZMMmFlZVVTU1NTU4NfVlRUfPv2DR4MDg0NHR4eXrJkiaSk5NatWzdv3iwpKblmzZppx2Xz8vIgCAoJCXnz5s3ly5dPnjw5xRDy7du3FRQUKFXYhIaGxtTU1MXF5fLly6Rd5dbZ2Ul4l/EjvkgkMiIiQllZGZ+27tmzx9/f/9WrVydOnIAgqL6+noaGZopZKNM2mNrPnz+ZmZmrq6t5eHjgVLKqqqqjo0NWVjY/P3/lypUQBDEwMHR0dEAQZGFhYWFhAV84MjICn5pJD6SCw+Fevny5f/9+fNZbXV0dGhp6/vx5Sj1GExYWlpOTu379Oj7xVVVV5ebmDggIcHZ2HtMYFG0FAAAA5iMqKqqdO3dGR0dP3ezs2bN79+7dv39/ZWUleQIjDyEhIRMTk/v373/9+rW/vz8nJ8fV1ZWPjy8uLm7//v1CQkLLli1TVVU9e/bsq1evKioqJnx+m5eXR0tLi0ajh4eHL126xM/PP9m0kPT09IyMDMrWtVRVVV25cqWnpyeZ7xseHv7z58/4+HjEf+ApzoGBgXCDRYsWYbHYKZ6QT9tgavDPiIaGBj9HKyQkZOXKlRwcHBkZGXJychAEcXJyEmbwMHhmHRcX10x6IJWvX79WVVURll5+9OjRypUrlZSUSHiXX2Vqavrt27fMzEz4JRUV1f79+1++fDn+hwISXwAAAGCe0tHRycrKam1tnbqZt7e3oKCglpYWPCT2+6Glpd28efPR92FalgAAIABJREFUo0d9fX0LCgoGBwe/f//u7u6+bt26r1+/Hjp0SFhYmIWFRUFBwc7Ozt/fv7i4GC7Fmp2djd+JYHR0tL29/dChQ9u3by8sLBxzCz8/PwEBgfHPhcmJiopKXV395cuXE87RnzsBAQFsbGwYDAZHwMHBITMzE/40xc/Pj8Vi29vbJ+th2gZTY2dnb2lp2bp1a21tbVZWVmpqakpKCjzE+/z5c7ggrqSkJBKJrK2tJbywqKiIn5+fjY1tJj2Qyvv37wUFBTds2AC/xGAwQUFBGhoalN1QRlxcfM2aNYTzZPbs2dPQ0PD9+/cxLUHiCwAAAMxT6urqixcvfvfu3dTN6Onp3717B48Qj1n2/luipaVdu3atmZmZu7t7WlpaT09PRkaGi4uLiIhISkqKubn5unXrli5dqqysnJmZSTjiBY9KwtsZHDhwAJ+ojY6OhoaG7tixg7h4UCiUv7+/sbGxmpqarq7upUuXKioqiOtKXV29vb19zIKwOdXS0pKQkKCnpzfmMT28Pgwe9IWrkkVFReHPwlUg8GWkp22A5+3tjUAgZGRkCA9KSEjk5eWtW7fu7NmzGhoaly9ffvHiBRcXl7CwsL29Pdx43759VFRUoaGh+Kvq6uoyMzPhkdeZ9EAqiYmJKioqhC/b29vV1dVn3gMKhfrnn3+UlJTKysqIazAhVVXVkJAQ/O4bEhISS5cuTUpKGtMMJL4AAADAPMXAwKCsrDztbAcIgtjY2N6/f9/Q0LB3714yjxdSHD09vbS09LFjx3x8fPLz8wcGBjIyMuB9Q/r7+8e3h4c2X79+LSgo6OrqikKh8vPzu7u7iUuPcDjc+fPnIyIi7O3to6OjHz58ODw8fOzYsdLSUiJ64+Li4uHhSUxMJOLamcBgMGMm+AYGBmKxWDjNJSQlJcXNzQ0nvkZGRioqKo6OjjExMSMjI42NjZaWlo2NjadPn4YbT9tgakpKSkgkMiUlxcXFpaenJykpiZOTE/5Ig9+uQkRE5O+//7527VpERMTIyEhZWdm+ffsEBATgW8ykB5IYHBzMzs4mLBOWkJDAy8vLwcEx7bUYDKa1tfXt27eHDx8uLi4mosHUpKSkOjs78U8zqKmpFRUVx3+IAokvAAAAMH/p6Oh8/PhxcHBw2pYCAgIxMTEpKSk2NjZkCGzeWrx4MZwHE87CHA+FQg0MDJw/f15MTOzJkyfLli0jbgvPjIyM7OzsAwcOSEtL09PT8/Lynj9/HoPBhIWFERe/hITE3CW+4wUEBDAzM+PXFBLavXt3RUVFVlYWFRVVTEyMnZ3d6dOnWVhYJCUlGxsbExMT8aW7pm0wtcWLF9va2p49e3bqart37969evXq+fPnlyxZsn37djExsc+fPzMzM8+8h8l8/vzZyMgITqmnbllaWopGozdv3ow/kpycPMP13Pfu3bOxsfny5cuBAwdMTU2JaDA1AQEBVlbW5ORk/JFNmzaBqQ4AAADAQqKjozM8PDzDTGjLli0hISEvXry4fv36XAc2/xUUFODX3U8Gh8NVV1f7+PjgcLimpiYi7gLPwObm5sYfWbp0KSMjY2NjIxG9QRAkIiJSVFREwlqrUysoKMDX/xrD3d0dh8PBdWrp6emdnJxKS0uHh4fb2to+fPgwZi3XtA1gFhYWOByOsIgv7NKlS1RUVJqamtnZ2SgUqrOzMzo6WlNTk3DSKgKBOHXq1I8fP0ZGRtra2nx9fQnHWWfSw2SGh4dDQ0MNDAyWL19++PDh+Pj4Mfu04ZWVldHS0vLz88MvcThccXHxDCvTnzlzJiIiwtXVVVNTc8L6D9M2mBoVFZWQkFBRURH+iIiISHV19ZgPAyDxBQAAAOYvLi6uLVu2REZGzrD9rl27njx5cuXKFV9f3zkNbP7Lzc0dM+sD3n4W/nrx4sViYmKGhoaXLl0SEBDYvHkzcXsbweXPampq8Ed6enoGBweJ3hORm5sbiUQ2NzcTd/kCRU9Pn5SUJCMjY2RkxMzMvHbtWm9v72mH7UnbAwRBSCTy5cuXO3bsWL58ubW1dVpa2phPIBUVFfz8/PidARoaGpBIJOHHHspavXo14ebMwsLCGAyG8JcTIm0dXwAAAAAgub/++svFxeXx48fTjl/CLCws6urqrKys2NjYdHV15zq8eSsnJwde6ENNTc3FxSUuLi4uLi78H8IKyj4+PqKiosTtoL5+/frt27e/fPmSh4dHUlKyp6fnzp07LCwsRDyqhsGjmPX19atWrSKuhwWKnp7e2dl5fN1ZcvYAQRD8Yamvr+/58+dPnz7l4OAwMjI6ePAgPL2hp6eHsFxxQ0MD9N+PbD7g4ODAVzSDIAgOdczmHSDxBQAAAOY1Q0NDR0fH5OTkma8cv3btWlNTk7GxcUJCAmmXtP+qixcv3rx5E/567dq142cczhEsFmtjYyMoKCgqKiogIDD1Z4aBgQEGBgai7+Xo6Hj9+nVHR0f4JRsb27Vr16bdKG4ycP49MDBAdDwAScCF8FpbWz09PR88eCAoKGhqatrU1MTExIRvA/+Y6OnpKRbl/2JkZCSs6wJPgB6zxBNMdQAAAADmNX5+/s2bNxMWcpoWAoHw8vLatm3b7t27q6ur5ygwJycnBAFmZmY5OTlfX1/Cp8M3btyA68LOcB4kqVBRUZ0+fVpfX19UVHTakfLBwcEpdnSbWl9f39GjR9vb293d3ePi4sLCwpSUlE6ePPnx40fiOoSzKA0NDQRALhoaGlP8ROA5spWVlVevXg0NDc3JyYF3BIQgCF51On8SX3p6esKFsHCOPqbEIRjxBQAAAOY7Q0NDNze3J0+e0NDM9L8tWlra0NBQZWVlVVXVz58/z900xPfv32tqao6OjtbV1T169Mjc3DwvL+/hw4dzdLu5QEdHh9/n4lcFBgbW19f7+fnx8vJCELR48eLjx4//+PHD3d1dTU2NiE0N4DTr3LlzmzZtIi4k4FcVFBTgn0tMCN4Tbt26dYsXL2ZhYcH/aODPVCgUiugPTqSFQqEIP+bBRSrGxAYSXwAAAGC+MzIyOnfuXFJS0i9tssDMzBwfH6+ioqKqqpqSksLJyUl0ADQ0NN7e3mNKwBKipqYWEBC4e/duaWmph4fHyZMniV7dRX5MTExDQ0PEXVtVVUVFRcXDw0N4kJeXt7i4uKOjY+XKlb/aITxip6WltW3bNuJCAn4VCwvLhIkvvBMyFxfXgQMHDh06JCoqevz4ccKyCfCQ6tDQ0DxJfAcHB+HpDTB4kgPhEQhMdQAAAADmP35+/k2bNr158+ZXL2RlZY2Li6OhoVFXV+/q6pqL2MZQVFTE4XDfvn37pasm3NAL1tLSYmNjw8nJSUdHx8fHZ2VlRfTWuJNZsWJFd3c3cddycXFhsdgxW+lWVVUtXryYuDIRcCQrVqwgLh5g9uBB0xUrVtjY2KSmpjY2Nrq4uIiKikIQxMLC0tfXh2/Jzs4O/fcjmw+6u7sJf3PgUJcsWULYBiS+AAAAwAJgaGgYHh5OxK5s7Ozs8BYYampqY9Z3zwV46JRUsx4xGIyWllZUVFR0dHR/f39gYGBkZKSBgQFpy9yKiorCy/OJYGRkxMjIePPmzeLi4uHh4Y6OjqdPn5aVlZmams6wCscY9fX1NDQ0C2i8/LdBQ0ODQCCYmZkPHjyYlJTU2trq7u6uoKCAQCDwbXh5eaurq/G/foKCgjQ0NETXbCa5hoYGMTEx/Et4fj88CQcPTHUAAAAAFgB4tkNKSoqqquqvXrt69epPnz4pKipqaWnFxcWxsrLORYQQBOFwuOjoaHp6egUFBZJ0WFBQ0Nzc/Pfff2/ZsgWCIHl5+SNHjri6ulZWVgoJCZHkFhAEiYmJwXvzEoGbm9vLy8vPz+/KlSs9PT2LFi0SEBC4cOHCL01KIVRTU8PPz09c0gwQjZ6eXk9Pz9TUVF1dfYpvvqio6MDAQGtrKzxxiI6ODk6FFRUVp73FkydPQkJCCI9YW1vDX5ibmx84cGDaBtPeora2ljCSsrIyTk7OMf/eQeILAAAALAACAgKbNm0KDQ0lIvGFL09MTFRRUdmxY8eHDx+WLVs27SVsbGyEsyMOHz58+PBh+OuIiAh9fX3CxqOjo5WVlTdv3szNzb1///5M+idkYWFhYWEx/rikpOSYiQ3wbNra2loSJr4KCgrOzs7d3d2/GjZs9erVFy5cIFUwBQUFE+55BswdKSmpjo6OmRRyhic8fP/+HT9jfvv27fn5+TO5i42NzdTbiU/bYGqdnZ319fWEU8OLi4vhgAmBqQ4AAADAwmBoaBgREUHEbAeYkJBQWlpad3e3qqpqZ2fntO07Oztx/6Gmpn7+/Dn+JWHWq6WlhUAgaGhotmzZUldXFxUVZWdnR1yEE4qLi9u9ezcfHx8DAwMtLa2trS0EQZPtKEscBQUFGhqanJwcEvZJHCQSWVJSoqysTOlA/iysrKwz3L6EnZ1dUFDw8+fP+CMqKirFxcVEL44koZycHDo6Onl5efyR5OTk8c9eQOILAAAALAxGRkYdHR3x8fFE98DLy5uUlDQwMLB9+/aWlhaSRPX+/Xs4Gx4YGEhJSSHtXnGvX7/W0tLq7e0NDg5ubm4eHBx8/PgxCfuHMTExqaqqJiUlkbznX/X582cqKqqZ71RCZv/++y8CgVi5ciXRn75+AyoqKomJifiXO3fuhCCIMBWmlMTExB07duC3YmloaKiqqhr/IQokvgAAAMDCsGbNGllZ2YCAgNl0wsPDk5SUhEaj1dTUmpqaSBXbHHn27BkCgQgPD5eVlWVlZaWlpZ2jhUQHDx7MzMyk+PL8T58+aWtrL1++nLJhTCYgIICXl7e9vX02n74WOjU1taysLPwMnGXLlu3cuZPo/UpIpaurKzs728zMDH8kJiaGkZFRVlZ2TEuQ+AIAAAALxoEDByIiIggLKhGBm5s7OTkZgiB5efmysjLSRDY7k5UzQ6FQtLS0+NU5w8PDwcHBEASRtqoDBEF6enrLli0LCwsjbbe/pLy8PDc318rKioIx0NDQvHjxYsJTRUVFBQUFly5dYmNje/nyJXnjmke0tbUZGRlfvXqFP2JtbZ2bm1tRUUHBqMLCwpYvX074vCUgIGD37t3jCwyDxBcAAABYMPbu3YvFYiMiImbZz6pVq9LS0lavXi0nJ5eenj5tewwGM8XuFXNHSUkJhUI9fPhweHi4pKREW1v72LFjEARlZ2eT9mk7PT39qVOnoqKiBgYGSNjtLwkICJCUlJx6+1wKCggIoKam1tXV1dfXj4yMRCKRhGdRKNSNGzc2bdq0ZMmSlStXqqurJyQk/FID2BQVnQcHBy9duiQiIsLAwMDOzq6vr0+4lwTZ0NPTGxgY+Pv7449oaGhISEgQXRhk9vr7+6Oiov755x98mltZWZmRkbF///7xjUHiCwAAACwYS5cu1dbWnuVsB3xXHz9+lJWV3bFjR1xc3Ow7HE9JSQnxn7KysuLiYvzLGQ4ZOjg4WFtbOzs7s7GxWVpaXr582d7eXl1d/fr166SdTAxB0LFjx+jp6X19fUnb7Qzl5eWlpaVdu3aNInefFhaLDQoKUlRUXLFixZ49e5BIZFRUFOFZHR2d+/fvX79+vaOjIzs7e8WKFerq6pGRkTNsMBMWFhb+/v5+fn7d3d15eXlMTEyKior19fUkfqsziyQnJyclJQV+9oJAIJycnFJSUgoKCsgfDARBPj4+TExMhBUh7t27x8vLq6amNr4xguSPSwAAAABg7kRFRRkYGNTW1nJzc8++NzQabWFh8erVK19fX1NT09l3uKD5+fmZm5s/fvxYRESEnPdFo9GWlpbr1q2Ljo4m533Hm2xv6k+fPqmrq3t6elpbW6PRaHZ2dllZ2djYWPhsSEjIvn37fH198QXvUCgULy+vsLBwSkrKTBrgeXt7W1paSktLZ2RkEB4fHR1lYmI6evTovXv34CO9vb1r1qy5ffu2ubk5ib8LBNBodGtra319fVNTU1NTU319fWNjY21tbWFhIQKByMzM3LhxI9xy165dpaWlXl5etLS0cxfPeD9+/LC1tfXz88OP77a2tgoICPz7778TFkcDiS8AAACwkKDRaC4urn/++cfR0ZEkHeJwOEdHRzc3twsXLly7do1wn6o/DQ6HU1NTq6ys9PT0xK+OJwN3d/f4+PjCwkI+Pj6y3RRvTMFmQviCzWZmZkFBQS0tLfCOuAcPHgwKCmpuboZfmpqaBgUFtbe3T7bT8rQNZoKdnZ2Oju7p06fq6uo0NKTfhwGDwbx+/bqpqamxsbGhoaGurq6hoQEu6gdBEAKBgDe2QKFQOByOkZERiUSmpqbi64XV1NRs2LBBQ0PjxIkTJI9tMkgk0traWkRE5NOnT/h/ucePH4+IiID3zR5/CZjqAAAAACwktLS0e/fuJZxiOEsIBMLV1dXb2/v27duGhoaDg4Ok6nnBgedgDA0Nubm5YbFY8tw0ISEhMjLS29ubIlkvNIOCzUgkMiIiQllZGZ+27tmzB4PB4Bd4wdsss7GxTXaLaRvMREhICBaL3bVrFysrq4aGhru7e29v72w6HIOGhsbLy8vBwcHT0zMyMjI3N7ejowM/PIrD4UZGRkZGRqipqZcuXfr169edO3fa2Nig0Wi4AT8//7Nnz8LDw8lWFw+Lxd6+fRuNRr98+RKf9RYVFXl5ed28eXPCrBcCiS8AAACw4Bw4cODHjx+k3XDhyJEjiYmJqampcnJyFJk3OU9wcnKGhISkpaXNRcHg8XJzc11dXe3t7Y2MjMhwO+KEh4f//PkzPj4eP0VbT08PgiD8cq5FixZhsdgpHqFP22AmlJWVa2tr379/b2Nj09bWZm9vLyQklJubO5s+xzh//jwOh4PHdCdsQENDw8TElJKSsmHDBnd398rKyocPH+LP7tu37++//75161ZeXh4Jo5qMh4dHenp6SEgIBwcHfGR0dNTKykpGRubgwYOTXQUSXwAAAGCBkZaWFhERIckSN0Ly8vLp6eloNFpGRubr16+k7XwBUVZWDggICA8Pf/r06ZzOh8zNzb106ZKBgcGdO3fm7i6zFxAQwMbGhsFgcAQcHBwyMzMrKyshCOLn58disWM2lyY0bYMZoqOj09TUdHNzy8/Pz8rKGhoacnBwmGWfhOD6DNTU1BOepaGhYWZm/vz58/r16yEIEhQUvHjx4oULFwjT3Lt37+rr61+8eHFOc18cDufp6RkREfHy5UtFRUX88atXr+bn5z958mSKCUsg8QUAAAAWHlNT0+DgYPxjVlIREBD4+vWrpKSkkpLSnTt3/thlMHv37n3x4kVoaCj8KHkubpGYmOjo6Kitre3n50dFNX+zkZaWloSEBD09vTHpoIGBAfTfoK+qqioEQWPqPPDw8EhLS8Mvp22AN1k5s9TUVG5u7pKSEvyRrVu3CgsLk3yv4EuXLk24ITac9aakpMBZL+zcuXNycnJGRkb9/f3wESoqqoCAAG1tbQcHhzma84BGo11dXcPCwvz8/AwNDfHH4+Pjb968ef/+/XXr1k1x+fz9VQMAAACAyRw4cKCzs/Pdu3ck75mFheXt27dubm7nz5/X1dWl+GZmlHLgwIGoqKjU1NQTJ040NzeTsGc0Gu3u7n7t2jVbW9ugoCB4ydQ8Mb5gc2BgIBaLhdNcQlJSUtzc3HDia2RkpKKi4ujoGBMTMzIy0tjYaGlp2djYePr0abjxtA2mJSkpSUVFZWFhUVJSgkaje3t7PTw8CgsLbW1tZ/ueCZSWln748IGDg2PMR5ExY714VFRUgYGBSCTSwMAAhULBB+no6IKCgmxsbK5du/bw4UPSfnBqbm4+fvz4ly9f3r59S1imt7i42MjIaN++fdbW1lP3ABJfAAAAYOHh4+NTV1f38vKai84RCISdnV1aWtr3798lJCT+2GkPWlpaRUVFzMzMR44cefHiBUkymIKCAmtr60+fPgUFBd29e3c+j/XCAgICmJmZJ6wIu3v37oqKiqysLCoqqpiYGDs7u9OnT7OwsEhKSjY2NiYmJuLHI6dtMC0GBoa0tDRhYeEdO3YwMTEJCwuHhoaGhoYaGxuT5G0mJSXp6OiIi4snJyfv2bOH8FkHPuudcCSVg4Pj3bt33759MzMzwy+IpKKiun///ps3b+Lj483NzbOzs2cf4ejo6Js3bywtLenp6XNzczU1NfGnGhoaNDU1169f7+PjM20/oJwZAAAAsCBFRkYaGBiUl5cLCgrO0S06OzsPHjz48ePHCxcuXL58ef5naXNheHjY1dX11q1bnJycpqamqqqqxH0fysvLAwICUlNTtbW1Hz58SKkaDgAhNBodGRn577//ZmZmysvL29nZwWPbAgICDQ0NOBwOznpTU1PXrl07RT9JSUk7d+7U1dX19/dftGgR/nhNTc2JEydiY2O3bdu2f/9+YWFhIoIcHR1NTEx8+fJlW1vbuXPnHBwcCG9RVlampaUFT8PAb+49BZD4AgAAAAsSBoPh4+MzMzNzdnaeu7vgcLgHDx6cOXNGU1PzxYsXy5Ytm7t7zWdVVVVOTk6vXr1iZ2dXV1dXV1fn4uKayYVwtdePHz/m5uZKSkpevXp1165dcx0tMK3Ozk5vb28PD4/W1lZDQ8NTp05t2bIFf9bLy+vYsWMIBIKVlTU1NVVMTGzaDpOSkvT19bdu3RoWFsbCwkJ4KiYm5sqVK7m5uZs3b1ZXV9++ffsMq0Q3NTV9+vTp48eP7e3txsbGTk5OAgIChA0yMjJ0dHQEBQVjYmKWL18+kz5B4gsAAAAsVFeuXHny5ElDQwPhCNBc+Pz5s4mJCS0tbXBw8PiFR3+OqqoqDw+PoKCgtrY2Hh4eCQkJERERbm5uDg4Oenp6Zmbm4eHhoaGhzs7OhoaGmpqagoKCkpISKioqbW1tKysrDQ0NSr8DAMrOzn706FFISAg9Pb25ufmJEyd4eHjGtBkZGeHm5sbhcKmpqaKiojPsOS8vb9euXYyMjCEhIZs3bx5z9sOHD15eXu/evcNiseLi4hISEvz8/Nzc3MuXL6enp1+8ePHAwMDQ0FBLS0tjY2NZWVleXl5DQwMHB4eJiYmtre2YlBeCoIcPH545c0ZNTS0kJISRkXGm7x8HAAAAAAtTQ0MDNTV1SEgIGe7V3t6uqalJQ0Nz/vz5kZERMtxx3sJgMPHx8efOnZORkZks4aChoRESErKwsAgMDOzu7qZ0yABuZGTk9evX8GRlUVHR+/fv//z5c4r2fn5+P378+NW7tLS0qKqqLl68+M6dO2g0enyDrq6uly9fmpubCwkJTbb/HCMjo4yMzPnz5xMSEsZUkYM1NTXt3r2bmpr62rVro6OjvxQhGPEFAAAAFjA9Pb2fP38mJCSQ4V44HO7Zs2f//PMPHx9fQECAhIQEGW46/8E73P78+bO3t5eRkZGJiYmdnX3NmjW0tLSUDg2AIAiqqqry9fX18fHp7u7W19c/fvz49u3b5+52WCz21q1bN27cEBIS8vDw2LZt22QtUShUdXV1W1sbEolEIpGsrKxMTEzc3NyrV6+e7BI0Gv3o0aMrV66sWLHC19eXsIjvDIHEFwAAAFjAYmNjtbW1S0tLiVs3Q4SamppDhw6lp6efP3/+0qVLk1X7BwDKGh4eDg8P9/HxSUpK4uLiOnLkiLW19apVq8hz96qqqhMnTrx//15eXt7BwWHjxo0rV66czZQkFAr16tWr69ev19XV2djYODs7/8L0BgJ/4gJVAAAA4LehqanJy8v79OlTst2Rn58/KSnJzc3NxcVl27ZtFRUVZLs1AMzEjx8/HB0dubm5zczMqKioQkJCampqrl27RrasF4KgNWvWxMbGfvr0iZaWVldXV1RU1NPTE967Dt7urr+/f4Zjr7m5ufb29tzc3NbW1hoaGhUVFe7u7sRlvRAY8QUAAAAWups3b967d6+xsXHx4sXkvO/379/NzMzKysqcnZ3//vvvKXZJBQAy6O/vj4yMDAgIiI+PFxISMjExOXLkyPiFa2RWW1srJSU1MjICQdDg4KCkpGRDQ4OlpSUrKysOhzt58uT4S1AoVFVVVW5ubmJiYlJSUk1NjbCw8P79+y0sLDg5OWcZD0h8AQAAgIWttbWVh4fH19eXcCcn8hgZGbly5cqdO3fU1dU9PT0pnmQAf6acnJynT58GBQWh0WhdXV0rKytVVdX58Emsrq5OQUGhsbFRVVU1Ojr63bt3t2/f/vbtG77B+vXr4am9jIyMvb29AwMDXV1dtbW1GAyGjo5OWlpaRUVFS0tr/N7ORAOJLwAAALDgGRoatrS0pKWlUeTuX758OXLkSEtLy/Xr148fPw5m/QLk0dTUFBQU5OvrW1paumnTJnNzc1NT05ls4kAeVVVVCgoKXV1dWCz28OHDz549y8vLk5KSwmAwEAQtW7asu7v74MGDS5YsGRgYQCKRS5cuZWJiYmVlFRERERYWFhUVnYtnOBMXkgAAAACABcTGxkZVVRWukE/+u8vLy3///v3u3bsODg5+fn5Pnz4l3AsAAEirr68vLCwsMDAwOTl5yZIlxsbGgYGBFPnNn0JFRcW2bdu6u7vRaPSiRYt4eHiGh4f37duHH2/t7u6GIEhMTMzBwYGcgYHFbQAAAMCCp6KisnHjRnd3d0oFQEtL6+DgUFRUxMrKKisra2dn9/PnT0oFA/yWRkZGoqOjzczMVq1adezYMQYGhufPnzc1NT1+/Hi+Zb3l5eX4rBeCIDQazcPDc/78+erq6tHRUXwzKiqq1NRUMscGpjoAAAAAv4Pnz59bW1vX1NSQc+n6eDgcLiAg4OTJkywsLE+ePAF7lQGzhMViv379GhoaGhwc3NXVJSsra2hoaGpqysbGRunQJlZeXq6goNDT0wNPaYC5u7vb29uPzzmXLFnS09NDRUW+cViQ+AIAAAC/g5GRET4+PktLy2vXrlE6Fqi1tfXs2bMBAQGljuXTAAAgAElEQVSGhoaPHj1iZ2endETAwpObm/v69eugoKCGhoaNGzeampoaGxtPsbnDfFBWVrZt27be3l54rBePnZ29q6uLcLgXr7i4WFxcnFwBgqkOAAAAwG9h0aJF1tbWnp6eQ0NDlI4F4uDg8Pf3j4yMTE9PFxMTe/LkyYT/5QPAGFgsNj09/fTp0wICApKSkq9evdq/f39RUVF+fv6ZM2fmedZbWloKj/WOyXohCOru7p7wnwANDQ2Z16SCxBcAAAD4TRw9erS/vz8oKIjSgfx/enp6JSUlhw8ftrOz27JlC6WKTgDzHxaLTUtLs7Oz4+HhkZOTCwsL09HRSU1NrampcXZ2XrduHaUDnF5paSk81ks4wwFvwoMwMv+7AFMdAAAAgN+Hubl5enr69+/fyTlrcFoVFRX29vbw7soeHh6g3C8AQ6FQCQkJ4eHhkZGRnZ2d69evNzAw2LNnz/r16ykd2q8pLCxUUlIaGBiYIsGdzOrVqxsaGuYiqgmBxBcAAAD4fZSVlYmLi4eFhenr61M6lrGio6Pt7e1bW1vPnDlz7ty5RYsWUToigDI6OzuTkpKio6Pfvn3b19cnLi5uaGi4b98+UVFRSodGpPPnz7u5uSEQiPGTHGaioaGBbLM4QOILAAAA/FZ2797d3NycmZlJ6UAmgEKhnjx5cvHiRQ4Ojnv37mlra1M6IoB8CgoK3r17Fx0dnZWVRUdHp6SkpKOjo62t/Xs8AWhoaLhz546npycOh/ul9BeBQLx69crIyGjuYvuf24HEFwAAAPidZGVlSUtLJycnKyoqUjqWidXX158+fTo0NFRbW/v27dtiYmKUjgiYK0NDQ8nJyfBuvfX19RwcHLt27dLW1t6xYwcjIyOloyO99vZ2Q0PDjIyM0dHRGS7opKOjO3r0KNmKcIPEFwAAAPjdKCoqMjIyxsbGUjqQqSQmJp46daq4uNjCwsLJyWnlypWUjgggmbq6ug8fPsTHx8fFxQ0MDIiLi8ODu3JycvNq9jnJVVVVrV279saNG3AtthnmvmvXrv3+/ftcxwYDiS8AAADwu4GXkeXl5W3cuJHSsUwFi8WGhYWdPXu2o6Pj+PHjFy5cYGZmpnRQAJFGR0fz8/Ojo6NjYmJyc3Pp6enl5OS0tbUNDAy4ubkpHR2Z6Ovrl5eXFxYW0tDQ9PT03Lt37/bt20uXLm1ra5si4aSiourp6VmyZAkZIgSJLwAAAPC7weFwmzdvXrNmzZs3bygdy/SGhoYePHhw69YtRkbGK1eumJubU1NTUzooYKbwK9Wio6N7e3sFBATU1NS0tbXV1dX/tPWLycnJysrKcXFxhBsW9vf3f//+XV5e3sHBIT8//8OHD9TU1KOjo1RUVFgsFt9szFVzByS+AAAAwG8oPDz8r7/+ys/P37BhA6VjmZGuri43N7d79+6tWbPm6tWrhoaGlI4ImBQWi83Ly4uPj4+Ojk5PT6ejo1NQUFBTU9PV1f1jZ2xjsVgpKamVK1e+e/duzKmLFy/6+fnV19enpaVt3769oaFh+/btxsbG586d+/r1KwsLS2dnJz8/P3n2bwOJLwAAAPAbwuFwmzZtEhERCQkJoXQsv6CsrMzBwSEqKmrHjh03b97cunUrpSMC/g8SiUxMTIyJiYmJiWlubl65cqW6urqOjo6GhgZ5HtPPZz4+PkePHi0sLByf+ouLi2toaNy7d8/Dw+PixYtdXV1MTEyPHz8+dOgQ+eP8nWdYAwAAAH8sBAJx8eLFN2/eFBUVUTqWXyAiIhIZGZmSkoJEIqWlpQ0MDIqLiykd1J+urKzs9u3bioqKrKysBgYGZWVldnZ2RUVFra2t/v7+hoaGIOvt6uo6d+6cjY3N+Ky3vLz8x48fu3fvhiCoqKho48aNHR0dQ0NDvLy8lIgUJL4AAADAb2rPnj3r1q1zdnamdCC/bPv27V++fPn48WNdXd2GDRuMjIwqKiooHdSfBYfDZWZmnjt3TlxcXFRU9M6dO/z8/IGBgR0dHcnJyWfPnl0Q2wiTzenTp2loaK5duzb+VGhoKDs7u7y8PARBhYWF69evr6urgyCIUokvmOoAAAAA/LZev35tbGxcVFREnumDJIfD4d68eXPp0qXq6urDhw9fvnx51apVlA4Kgv6rYJCcnPz9+/fi4uKmpqbBwcHe3l4GBgYGBgZ2dnYxMTFRUVEFBQUFBQUmJiZKxztTo6Oj6enpoaGhYWFhTU1NfHx8urq6Ojo6ioqKtLS0lI5unvr8+bOSktKbN28MDAzGn92yZYukpKSXlxcOh2NlZXVzc1u6dOm+ffuGhobo6OjIHy1IfAEAAIDfFhaL3bRp05o1a8LDwykdC/EwGIy/v//Vq1c7OjqOHTvm6OjIxsZGqWDS09P9/f1DQkJ6enqWLVsmKCjIw8PDwcGxaNEiZmbmoaGh4eHh7u7uhoaG2tra2tpaWlpaNTU1MzMzfX39xYsXUyrsqQ0ODiYkJISGhuL3EIbL7srLyyMQCEpHN6+NjIxs2rSJn59//Jo2CILq6ur4+fljY2M1NTWrq6vXrFmTnp6elpZ2//79xsZG8kcLgcQXAAAA+L3FxMTo6Oikp6fLyMhQOpZZQaFQL168cHJy6u/vNzc3d3R05OTkJNvdsVjs27dvb968mZ2dvWbNGjU1NRkZGT4+vqnzwu7u7pycnMTExKysrGXLlp08edLW1nb+zIjt6+t7+/bt69evP336NDo6un37dn19fT09vd9jD2HyuHLlyp07d4qLi/n4+MafvXfv3tWrV9vb2+no6CIjIw0MDHp7ey9cuJCXl5eWlkb2YCEIJL4AAADAb09JSQmCoOTkZArHQQpIJNLT09PNze3nz59Hjx49c+YMGbZ8y8/Pt7GxycrKUlBQMDY2JqJiV3d3d1hYWGRkJAMDg5ubm5mZGQVHUgcGBqKjo1+/fh0XF4fD4dTV1Q0NDbW1tZctW0apkBaokpKSzZs3u7i42NvbT9hg+/bt3NzcgYGBEARdv37dz8+vsrJSV1eXmZkZPkh+IPEFAAAAfnNpaWnbtm379OmTmpoapWMhjZGRET8/v6tXr3Z1dR08ePDKlStcXFxzcaPR0dGrV6/eunVLXFzczs5uzZo1s+ltYGDA19f37du3ioqKL1++JOeINQRBQ0ND8fHxoaGhERERQ0NDMjIyhoaGJiYmK1asIGcYvw0UCiUrK0tLS/vly5cJt1ypq6sTEBCIiIjQ1dWFIMjIyAiNRkdERGzcuHHXrl2UWnUKqjoAAAAAvzkFBQUtLa1z5879NmM9ixYtsrKyqq6ufvDgwbt37/j5+a2trZuamqa45M6dO0gk8pfu0t7erqKi4ubmduLECXd391lmvRAEMTMz29nZPXnypLKyUkJCIikpaZYdzsTw8HB0dLSZmdnKlSt3795dXV1948aN5ubmtLQ0Ozs7kPUS7fLly2VlZf7+/pNtNPjy5culS5dqamrCLwsLC+HdZOrq6ihV0gECiS8AAADwJ7h582ZOTs6C2MF45uD0t7Ky8s6dO+/evRMUFDx27Fh1dfX4lmVlZWfPnlVVVe3r65th5zU1NfLy8tXV1R4eHnp6eiScmSAsLOzp6bl27VoNDY25215kZGQkKioKHtDdvXt3U1OTm5tba2srnO+ys7PP0X3/EGlpaXfu3Ll//76wsPBkbV6+fGliYgKXbhgaGqqsrFy/fn1/f39fXx8FE18w1QEAAAD4I5iZmaWlpZWUlMzb2gKzMTIy4uPjc+fOnYaGhr179zo4OKxfvx5/1tra2tfXF4IgMTGxhISEaYc54ayXmZnZ1dV16dKlcxEwDofz8PAIDw9/8eLFgQMHSNhtampqYGBgaGhoX1/ftm3bjIyM9uzZQ4aZ0H+Ovr6+jRs3SkhIREZGTtYmKytLWlo6KysL3n0wOzt769atZWVlw8PDGzduLCkpodTezmDEFwAAAPgj3Lp1q729/cGDB5QOZE4sWrTo2LFjlZWV4eHhpaWlGzZs2LFjx9evXyEI6u7u9vPzw2AwGAymtLRUVlZ26kpS7e3t6urqzMzM9+7dm6OsF4IgBAJx/PjxvXv3mpubx8bGzr7DkpISJycnISEhRUXFtLS0v//+u7KyMjk5+dixYyDrJa1jx44NDQ15eXlN0SYgIEBYWBi/53ZhYSE9Pf2aNWvg3SsoWDcDJL4AAADAH2HVqlWnT5++ceNGa2srpWOZK1RUVDo6Ot++fYuKikIikfLy8oqKivb29qOjo3ADNBpdX18vLS1dWVk5YQ+jo6OGhobDw8Ourq6MjIxzHbCVlZWamtrevXuJ3pquubnZ3d1dQUFh7dq1Pj4+u3btysnJKS4udnJy4ufnJ220AARBz58/Dw4OfvHixRQfJ9Bo9KtXrw4ePIg/UlRUtG7dOmpq6rq6OjY2NjL8ak0GJL4AAADAn8LBwWHp0qVXrlyhdCBzC4FA6Orqfv36NTU1lYmJ6dWrVxgMBn8WjUZ3dHTIyMgUFRWNv9bJySkzM/Pq1atzN9Y7JtRTp06tXr3ayMhoZGRk5hf29fX5+/vr6Ojw8vI6OTkJCAh8+vSpvr7e3d198+bNcxfwHy4vL8/W1tbR0VFLS2uKZrGxsV1dXSYmJvgj8GbFEKVXtkEg8QUAAAD+HPT09Ddu3PDx8SksLCRJhxUVFVZWVgICAosXL2ZkZNy8efPDhw/nz+IZBQUFAwMD/HAvHhqN7uvrk5eXz8zMJDyen5/v4uJy7Nix2RdwmDlaWtrLly9XVFS4uLhM2xiDwbx7927v3r0cHBzW1taLFi0KDQ1tbW319/dXU1MDu6zNqfb2dj09PXl5+evXr0/dMiAgQElJiXBLi+/fv4PEFwAAAADIbf/+/Zs3b7azs5t9elpXV7dt27Zv3769fPmyq6urrKxMXV3977//Pn36NElCJYl///13wuMYDGZwcFBZWTkxMRE+gsVijx49KiYmBlddJScuLi4zM7Nbt25VVVVN1qagoAAeG9bR0Wlra3v06FFLS8ubN2/09fUXLVpEzmj/TBgMZu/evdTU1MHBwZPVL4P19PTExMQQLlhsaWlpb2+fD7XMIJD4AgAAAH8UBALx5MkTeOH/zK+ioaF58eLFmIOPHz+GMzA5OTlGRsbVq1e7uLioqKgkJyf/0lP7uRMXF/fjxw8sFjvh2dHR0ZGRkZ07d8bFxUEQFBUV9e3bNzs7O4qMm+7Zs4eTk9PJyWnM8e7u7qdPn27ZskVCQiIsLOzQoUMVFRXJycnm5uasrKzkj/OPderUqczMzLCwMDY2tqlbhoSEUFNT79mzB38EnlSzbt06CCS+AAAAAEBmkpKSVlZWp0+f7u3tnU0/7e3tEARxcHAQHkxISMjJycGPQVZXV+vo6DAzM7Oysu7bt6+jo4Ofn19FRWVMV97e3ggEQkZGZvxdWlpabGxsODk56ejo+Pj4rKys4PvOxN27dxEIBBXVpP/XY7FYNBqtq6sbHh5++/ZtBQUFQUHBGXZOWjQ0NKampsHBwfAqt5GRkejoaCMjIw4OjrNnz4qLi3/69Km2ttbFxYWc0zAA2IsXLx49evT8+fOZzJ/28vL666+/lixZgj+Sm5u7atUqdnb24eHh9vZ2kPgCAAAAAFndunWLiorq0qVLs+kEfnTr6uo62fjuyMiIurp6YWHhhw8f6uvrjY2NTUxMBgYG4JL+M4HBYLS0tKKioqKjo/v7+wMDAyMjIw0MDGYyTwONRispKf3999/GxsbKysqioqJsbGw0NDSEbWhoaGhpadFotKGhYUZGhrGx8QwDmwuqqqorV668cuXK0aNHOTg4du/e/fPnT39//5aWFspO4XVychr/sURbW3v16tUUiYfMYmNjraysHB0d9+7dO23j1NTU/Pz848ePEx7MycmRlJSEIKi+vh6Hw1E28aWZvgkAAAAA/F5YWFhu3bp15MiRAwcOSElJEdeJlZVVeHj4s2fP3rx5s3PnTjU1NU1NTcIB4MjIyKqqKh8fHzk5OQiC9PT0ampq4uPjZ36LgoKC5ubmv//+e8uWLRAEycvLHzlyxNXVtbKyUkhIaOpraWlpz58/P/54b29vW1tbZ2dnR0dHe3t7e3t7Z2fnu3fvmpqahoaGZh4byVFRUamrqwcFBQkICNjZ2R0+fJiyGdIYmZmZX79+hX+Uf46MjAwjI6N9+/bdvHlzJu09PDykpKTw5XthOTk5hw4dgiAILuJLuOiN/MCILwAAAPAnMjMzU1BQOH78+PiiBzA2NjbEf0ZHRw8fPox/CW9YxcjImJKSEhoaqqSkFBMTc/jw4dWrVxsYGDQ0NMA9wDUTtm3bhu/T0NBwwntZWFjgcLiMjIwxxyUlJdvb2y9evIg/Alf+r62tJfqNs7KyioiIyMvL6+vrW1lZXbx48d9//+3u7jYzMyOuENjw8LCvr6+xsbGamtru3bvv3Lkz842Rx1BXV0ehUI8ePXJycqJI1jvhZG4IgmhpaYWEhO7evUv2iCjp+/fvu3btUlVV9fX1nclwe0tLS3h4uK2tLeHBnp6e2tpaeMS3rq6OmZmZPJXyJgMSXwAAAOBPBK9yKywsvH///oQNOjs7cf+hpqZ+/vw5/qW+vj7choqK6q+//goPD+/q6kpLSzMxMYmIiFBUVBweHoYgCN4pg3B/4FWrVv1qCYK4uLjdu3fz8fExMDDQ0tLCWcVkyTpx8vPzu7u7J5xhPK3h4eFjx47FxMTY2dnFxMS4uLjk5uba29ujUCgieuPi4uLh4cEXmpg/0Gi0lZVVZGTkZB85kEiko6OjoKAgHR3d0qVLtbS04G3zIAjq7+9HIBDwbA0mJiZHR8empiZZWdklS5aMmRIATTnbe3Bw8NKlSyIiIgwMDOzs7Pr6+hNWYiaV6upqdXX1DRs2hISEjJkhMxkvLy8WFhYjIyPCgzk5OTgcDp/4UnwUHyS+AAAAwB9KXFz80qVLFy5c+PHjxyy7oqamlpeX9/f3P3PmTE1NTUxMDARB8EzcMUNlvzRR9fXr11paWr29vcHBwc3NzYODg48fP55lqOMlJycvW7aMuAfQsbGx1dXV9vb2MjIyixcvFhERuXLlSk1NTVRUFHHBSEhIzMPEF4IgIyMjZmZmd3f38afQaPSOHTu8vb3d3d07Ozuzs7MZGRmVlJQ+f/4MQRA8pfv27dtXr151dna+ffv28ePHnz9/7ujo6OHhMfPk1cLCwt/f38/Pr7u7Oy8vj4mJSVFRsb6+noTvEa+5uVlDQ4OTkzMqKmrx4sUzuQSNRnt7e1tZWY1pn5OTs2rVKngKUGVlJcXXJoLEFwAAAPhzOTg4rFu3ztzc/FfHUJubm6WkpE6ePDnmODxjuLGxEYKg5cuXQxDU3d2NP9vW1gYPBs/Qs2fPEAhEeHi4rKwsKysrLS0t3DNpFRUVCQkJEbd0rKSkBIIgwjkSIiIiXFxcycnJxAUjIiJSVFQ0fzYBwWNgYLCwsPDx8env7x9zKjg4OD093dXVddeuXUuWLFmzZs2LFy/o6ekJ51gvX75cXl5+165dOByOnp5eVFR0165d0H+lvqY1OjoaERFhYGAAf8BYtWrVo0ePEAjEp0+fSPgeYdXV1du2baOlpX3//j1hcYaphYWFtba2WlpajjmOX9kGQVBVVZWAgAApY/11IPEFAAAA/lw0NDS+vr45OTkeHh6/dCEXF1dXV1dwcPCYmmjwA+61a9dC/6WDWVlZ+LOvX7+esLfJHnCjUChaWlp8wdrh4eHg4GDov7FkUikpKeHm5p5ND2PiYWFhmWIriqlxc3Mjkcjm5ubZxPNLpp3MjXfixInBwUFvb+8xPbx//x6CIMKNP5iYmLZv356eno5EIuEjIiIiEATBeSQ8uA5/PWY+9GSzvampqZmZmUNDQ2NjY+ENqFlZWbu6uszNzWf/HSBUUlKyffv2pUuXpqSksLOzz/xCDw8PXV3d8c8NsrOz8YlvdXU1GPEFAAAAAErasGGDo6PjuXPnKisrJ2uDwWDgZemEvL29u7u7d+7cCec3bW1tDx48ePjwoZaWlpqaGgRBe/bsYWNju3r1an5+/s+fP1+/fh0XFzfzITQIgpSUlFAo1MOHD4eHh0tKSrS1tY8dOwZBUHZ2Npz9kERTU9PKlSuJuxZO8XNzc/FHBgYGampqhoeHf2lsGw9+Jj5HT/AnNJPJ3DAeHh4DA4MHDx6MeT7Q0NBAS0tLOJkbgiAuLi4sFtvS0gK/hH/u8LA6AwMD/uuZP2oICQnBYrG7du1iZWXV0NBwd3efZSHq8b59+7Z9+3ZBQcHExMQxb2dqBQUFaWlpY5a1Qf+7sq2vr6+rqwskvgAAAABAYRcuXFizZs3hw4d/acKDsrJyVlYWHx/f/v37ly9fLigoGBAQ4ObmFhUVBec0LCwscXFxy5Ytk5WV5efn//DhQ2BgIDyUOMNbODg4WFtbOzs7s7GxWVpaXr582d7eXl1d/fr16yTcWHhgYABOxYigra3Ny8v74MGDrKysoaGh8vLyixcvwsN+xK3AY2RkhEMiLp65Zm9vX1dXFxYWNu0PEd4wb4rdQ36VsrJybW3t+/fvbWxs2tra7O3thYSECD9yzFJiYqKqqqqsrOwvzXCAeXh4iIqKjt+ZBV7ZBj/6gB8CUDzxBXV8AQAAgD8dHR1dcHDw1q1bb968efny5ZlfKCEhERQUNEUDSUnJtLQ0wiPDw8PMzMxjmllYWFhYWIy/nIGBwdPT09PTk/Dghw8fZh7hTAwODs5wAdN4tLS0Dx8+9PT0vHHjBgqFEhEROXLkSHR0dFlZGT09PREdwlf9/PmTuHjmmpycnJSU1L1791atWoU/yMfH9+XLl7a2NsKB86amJlpaWk5OThLenY6OTlNTU1NTE4Kgb9++KSsrOzg4kGSar7+/v6Wl5b59+3x8fGZYwwGvra0tICDg33//Hf9hAF7ZBn8TqqqqqKmpQVUHAAAAAKC8tWvXuri4XL9+HV+FiiQ0NTU3bdqEf5mXlzcyMiIhIUHCW8weHR0dGo0m+vIlS5acPXv27du3cXFx7u7uGzdubGxs5ODgIG6wE66DRnQiTgb29vYZGRmEE2PgZWrR0dH4I/39/ampqSoqKr+a/U822zs1NZWbmxteSgjbunWrsLDw7PccwWAwJ0+ePHTokL29/YsXL34164UgyN3dfcmSJYcPHx5/aszKNm5u7plvWzhHQOILAAAAABAEQSdOnNDS0tq3b19PTw+p+lRTU8vPz7927drAwEBlZeWJEyeWLl06YYpAQUxMTCTcs21wcLCyshLez5m4yyEIGj8oTh4TTuYew9DQcNWqVQUFBfgjRkZG27ZtO3/+/IcPH5BIZEVFxYEDB3A43O3bt0kVmKSkJBUVlYWFRUlJCRqN7u3t9fDwKCwsHD+t9pe0tbVpaGg8ffo0MDDQ1dWViMoe/f39T548sbOzmzDFH5P4UnyeAwQSXwAAAACAIRAIHx8fDAZjbW1Nqj5Pnz7t7u7+6tUrdnb2rVu3Ll269PPnz6R9/D17K1asIKy59kt+/Pjx119/ET5tj4mJwWAw8CAoEeBIfmllFZnR0NCM2XiCmpo6Li7u8OHDR48eZWVllZGRoaKiSk9PJzr7H4+BgSEtLU1YWHjHjh1MTEzCwsKhoaGhoaHGxsZE9xkfHy8hIVFXV/flyxei+3ny5AkWi4XXXI7R09NTU1Mz3xJfxDwslQcAAAAAlPLx40dNTU1vb+8jR45QOhYy2bNnT3d3t5OTExHXYrFYCwuLgYGBa9euCQgIfPny5fbt2zt27Pjnn3+ICyYxMdHZ2RmJRFL8mfhvbGRkxMnJ6fbt20ZGRl5eXr+6lA1veHhYQEDgwIEDrq6u488mJCSoqak1NzfDn/R4eXltbW3Pnj07q9BnDSxuAwAAAID/o66u7uDgYGtrKyEhQbgvw29MTEwsMDCQuGupqKj+/fdfLy+vCxcuDAwMrFq1ytLScvfu3UQHU1NTw8/PD7LeuZORkWFubt7Q0ODl5TXhksqZ8/b27u3ttbe3n/BsdnY2FxcXnPWOjIw0NTXNhxFfkPgCAAAAwP+4efNmXl6egYFBdnY2GxsbpcOZcwoKCs7Ozt3d3cuWLSPi8qVLlzo6OpIqmIKCAiUlJVL1BhDq7e29cuWKh4eHqqpqbGzsLAssDA8Pu7i4WFtbTzZ1JycnZ8uWLfDXtbW1o6OjFN+2DQJzfAEAAABgDCoqqqCgIAQCYWxsTFwx2oVFQUGBhoYmJyeH0oFASCSypKREWVmZ0oH8brBY7LNnz4SFhYODg589exYXFzf7smJeXl5dXV1nzpyZrAHhyraKigpoHhTxhUDiCwAAAADjLVu2LCQkJDU19fr165SOZc4xMTGpqqomJSVROhDo8+fPCATiypUrp0+fTkhIgEubAbOBw+EiIyM3bdpka2trYmJSXl4O78k8y26Hh4fd3NyOHTvGxcU1YYMxK9vKy8s5OTmJnkxMQiDxBQAAAIAJwPsUXL9+PTIyktKxzLmDBw9mZmYSXduBVD59+qSioqKnpxcbG6umpsbGxrZnzx4fHx/8xr/AzOFwuOjo6C1bthgYGAgLCxcUFNy/f5+VlZUknT958qSnp2eKlWq5ubn4PdsgCKqoqBAWFibJrWcJJL4AAAAAMDEbGxtra2sTE5Ps7GxKxzK39PT0li1bFhYWRsEYysvLc3NzT5486ebmVlJSUlNTc+fOHWpqant7ey4urrVr1zo6OsbHx2MwGAoGuSCgUCh/f/8NGzbo6uouW7YsOzs7NDRUTEyMVP339/ffunXL1taWcKe6MQhXtkEQVF5eLiQkRKoAZgMkvgAAAAAwKXd3dzk5OT09vaamJkrHMofo6elPnToVFRU1MDBAqRgCAgIkJSU1NDTgl3x8fFZWVq9fv25vb4+JiVFUVAwJCdmxYwcnJ+f+/ft9fX1ramooFb/zhl4AACAASURBVOq81dDQ4OTkxMvLa2lpKSkpWVhY+OnTJ5IXJ3F1dcVgMFOvaExPT5eVlcW/nD+JL6jjCwAAAABT6e7ulpWVZWZm/vz5MwMDA6XDmSv9/f2CgoIKCgp2dnbkv3teXt6pU6diYmJ27tw5RbPi4uLY2NgPHz58/fp1aGiIl5dX+T/c3Nxki3a+QaFQsbGxz549+/Dhw/Lly48cOXLixInJZt/OUlNTk7Cw8PXr10+dOjVFM05Ozn/++ef06dMQBA0NDTExMYWFhenr689FSL8EJL4AAAAAMI2ysjJZWVkNDQ242gOlw5krfn5+5ubmjx8/FhERIed90Wi0paXlunXroqOjZ3gJBoMpKCiIj4+Pj49PS0sbHh7m5OSUlJRUUFCQl5eXkpL6EyoBY7HYr1+/hoaGBgcHd3V1qaioWFlZ6enpzel7P3LkSFJSUmlp6aJFiyZrU1NTIyAgkJqaqqCgAEFQQUGBhIREcXGxuLj43AU2QyDxBQAAAIDpJSQkaGlpnTp1ysXFhdKxzBUcDqemplZZWenp6UnOsW13d/f4+PjCwkI+Pj4iLh8aGkpPT09LS0tPT09PT+/r62NiYpKWlpaVlZWUlNy8eTMPDw+pQ6akvr6+jx8/vnv3LjY2tqOjQ1JS0tjY2MjIiAxj3kVFRZs2bfL39zcxMZmiWVBQ0KFDh3p7e+HfotDQ0H379iGRyMWLF891hNMCiS8AAAAAzEhwcLCpqendu3cn26rqN9DS0rJx48Z169ZdunSJioocC4ESEhJu3Ljx6tUrIyOj2feGxWJLSkq+fv365cuXzMzMiooKLBbLxsa2mQA/Pz953hoJjYyMZGRkJCUlJSYmZmRkYLFYOTm5Xbt27d69m5zVElRVVQcGBjIzM6d+7mFnZ5eenp6VlQW/dHZ29vb2rq6uJkuM0wCJLwAAAADMlIuLy4ULF169emVoaEjpWOZKUlKShoaGnp7e8ePH5/peubm5jo6Otra2d+/enYv+BwYG8vLycv9TWlo6OjpKT08vJiYmJiYmLi4uJia2du1aAQEBGpr5tZctCoUqKirKzc2F4y8oKBgeHubn51dSUlJTU9PU1CRum73ZeP369b59+75+/SojIzN1SykpKRkZmQcP/l97dx4P5fr/D/weg+z7WtkqRFK2InuUtRKlBZVTqY46aTutttNykjqOSo5SnDalhEoou+xr9siWJfsWYxgz8/tjfsfXh5bBmBm8n3+Z677u63pNnfN4vLtd93VdJ320t7f/8uVLVFTU1Gf8OSh8AQAAgHFwcnLy9fWNiIgwNDSkdZap8vTp0+3bt2/dunXv3r1Tt6Y5NzfX2dl53bp1jx49os4jWAwGU1RUVFRUVFZWVlxcXFpaWlNTQyQSmZmZpaSkpKSkJEeQkpISEhKiQioEQTo7O2tra2tqampqaoqKinJzc4uKinA4HAcHx7Jly5SVlVVUVHR1dSe2FIQiMBiMvLy8gYHB3bt3f9wTi8Vyc3MHBAQML4fQ1NRUVla+cePG1Mf8OSh8AQAAgHEgEAjW1taxsbEJCQnLli2jdZyp8uDBg927dxsaGh49epSJiYni48fFxV2+fHnjxo3379+n4YtofX19ZWVlpaWllZWV1dXVpNKzvr6edFQ1KyuroKCgqKiooKCgoKCgiIiIkJCQoKAgPz//nDlzuLi4WFlZWVhYeHh45syZw87OPmpwAoHQ3d2NIEhvb29XV1dXV1d3d3fXf1paWkjT1dbW9vT0kG4RERGRk5NTVlZWUlJSVlaWlZWlk1UZZ8+evXnzZllZ2fDWvN+TkpKipaVVWVm5YMECUougoKCzs/Nvv/029TF/DgpfAAAAYHywWKypqWlJSUliYiKVN0CgpsjISGtr6/nz57u4uFBwbywcDnfr1q3Q0NAjR45cvXqVTgq7kXA4XF1dXU1NTV1dXUtLS1NTU2tra2tr65cvX0g/4HC4CQ/OzMzMw8PDw8MjKCgoKSkpMYKkpCQ9vP41VkVFxdKlS69cuUJO8Xrt2rUrV640NzeTPnZ2dvLx8UVGRhobG09xTLJA4QsAAACMGwaDMTIyqqmpSUpKkpKSonWcqVJTU2NtbV1YWLh161YbG5vJP/r98OGDt7d3S0vL7du3t23bRpGQ1Nfb2zswMNDd3Y3BYAYGBjo7OwcGBjAYzNie7OzszMzM7OzsPDw83NzcPDw8024raCKRuHr16s7OzuzsbHJWQm/evHlwcDA8PJz0MTU1VVNTs7q6mobrNEair6XcAAAAwLTAxsb2+vXr1atXr1mzJikpaYoOC6A5SUnJpKQkDw+PP//8MyEhwcbGxsDAYGLPaMvLyx88eJCcnGxubh4bG0snZdDEcHBwcHBw8PPz0zoINfj5+ZG2iiPz/b/U1NSRZ6CUlJSwsbHRz45ydPf7BQAAAGBa4ObmjoyMZGRkNDIyam9vp3WcqcLCwuLq6lpcXKylpeXh4WFraxsYGNjY2Ejm7X19fVFRUUePHnVwcMBgMK9fv3716tW0rnpnlcbGxtOnTx87dkxVVZWc/p8+fWpsbCSdW0FSWloqJydHPwtaYKkDAAAAMHH19fXa2tq8vLwxMTHU32GKyiorK318fB4/ftzc3CwuLr58+XJZWVkxMTERERFWVlZOTk4sFtvf39/W1lZXV1ddXf3hw4eSkhIGBgZzc3MHBwcjIyNafwMwPhs3biwuLv7w4QMrKys5/QMDA/fv39/d3T18rpupqamAgMD9+/enMuY4QOELAAAATMrnz5/19fW5uLhiYmJmw6+/8Xh8QkJCbGxsfHx8YWFhX1/f2D6MjIxSUlK6urr6+vomJia8vLzUzwkm6fHjx7a2tvHx8bq6umTesmfPnoqKisTExOEWSUnJffv2nT59emoyjhsUvgAAAMBkzbbad6T6+vq6ujrSjl3s7OwcHBxCQkILFy6cik3QANXU1dUpKira2tqOa/9dWVnZzZs3X7hwgfQRg8FwcnKGhIRYWFhMTcxxg8IXAAAAoIDZXPuCGYZAIKxZs+bLly85OTlkLnJAEKS1tVVYWDgiIsLExITUkpOTo6qq+vHjR2qeq/xj9LLWGAAAAJjWxMXFY2NjOzs716xZ09bWRus4YMbi4eERERGZ0imuXr2anJz877//kl/1IgiSnJyMQqE0NDSGW0pKSpiZmYdPsqAHUPgCAAAAlCEpKZmQkNDd3a2rq0v+vgeAzrm5uaFQKBQKxcjIKCgoaGho6O/vPzQ0NN5xMjIyyNwRjLby8vKcnZ0vXLigpqY2rhvfv3+vqKjIw8Mz3FJaWiojI0NX3xoKXwAAAIBiJCUlU1JSGBgYNDU1KysraR0HUExkZOTAwEBOTo65ufnRo0cNDAy+eWLFDxQWFlIkSVdXV1NTE0WGGqunp2fr1q2rVq06fvz4eO99//79yI3MEAQpLS2Vl5enXDoKgMIXAAAAoCQREZHExERBQUFtbe3i4mJaxwHjwMjIGBgY+L2raDRaXFzcycnp5cuXycnJp06dGtfglCp8pw6RSNy9e3d3d/ejR4/Gu/NuX19ffn7+qMK3pKRETk6OohknCwpfAAAAgML4+Piio6MlJCQMDAwKCgpoHQdQmJ6eno6Ojr+/f29vL6nly5cvBw4cEBUVZWZmlpSUdHBwaGlpGe7//v17FAp1/fp1PB6PGmHsyP7+/igUSl1dfewlY2Pj4RunaI2vp6dnWFhYcHDwBE4iTElJweFwIwvfwcHBqqoqeOILAAAAzHy8vLzv3r1bsmSJjo5OfHw8reMACtPV1e3v78/IyEAQZGhoyMTEJDw8/NWrVz09PY8ePQoLC7O0tBzeOEtLS4tIJFpZWaHRaOII45oxKiqKdJempiblvw+CJCQknD171sPDQ0dHZwK3x8fHy8rKzps3b7ilvLx8aGgInvgCAAAAswIHB0dkZKSpqamxsfHjx49pHQdQkri4OIIgnz9/RhDkw4cPjY2Nv/76q6qqKgsLi6am5i+//JKSkvLp0ydaxyTX58+ft27damFhceTIkYmNEBcXp6+vP7KlsLCQkZGRfjYyI4HCFwAAAJgqzMzMjx49OnLkiK2trZubG63jgG8QEBAYXkKAx+Pt7e2HP4aFhX3vLhYWFgRBSO+3qaiotLS0nDt3bvgqqSyuqakZb5g9e/YQicT09PQJfJEJ+/r167p164SEhO7du/fNBRjkjJCbmzu28F28ePHw2cV0go42mAAAAABmHhQKdfnyZVFR0aNHj3Z2dnp5eY33tSEwpUZuuszIyOjv779r166f3kVa3cvFxUX6GBUV5efnl5eX19LSgsPhSJud4fH4KUlMUXg83sbGpqWlJT09nZOTc2KDJCYm4vH4UScbFxYWLl26lBIZKQn+3wMAAACm3OHDh4ODg2/fvr1582YsFkvrOGCyqqqqEAQh/R4/ODjYxMSkq6srKCiosbERg8HcunWL1gHJ5eTkFBMTExoaKiEhMeFB4uPjFRQUhIWFRzYWFBTQYeELT3wBAAAAarCysuLn57ewsDAxMQkNDR25zz+YduLi4vj5+ZWUlBAEuXPnDgqFevHiBS8vL+lqfX09TdORy9vb+9atW0+fPv3mPhLki4+PH7XOobu7u66uTlFRcXIBKQ+e+AIAAABUoqenl5KSUllZqaWlVVdXR+s4YIKio6Ozs7MPHjzIzMyMIMjg4CATE9Pwv2SwWGxQUBCCIKP2bWBjYyMSiT9e//CD7cwo7v79+0ePHr18+fKmTZsmM05HR8eHDx/GLvAlEol0+MQXCl8AAACAepYsWZKeno5Go9XV1T98+EDrOOB/DA0N/XiBb3t7u7+//5YtWwwNDc+cOUNq1NPTGxwcvHHjBhaLLSkpMTc3//XXXxEEyc7OHnmysZqaGoFACAgIGBgYwGAw5eXlNPzHT2ho6O7duw8fPnzixIlJDpWYmIggiLa29sjGgoICbm5uMTGxSQ5OeUQAAAAAUFdHR4eOjg4nJ+fLly9pnQX8hKur63DVxM7Orqqqev369cHBweEOfX19+/btExYWZmdnX7VqVWJiIg6HW7t2LRMTk4mJyXC3wcHBQ4cOiYqKotFoTk5OGRmZkJCQUXPduXMHQZCVK1eOareysvpeIefl5TXeb/T27ds5c+Y4OjqO98ZvOnTokLKy8qjG/fv3k3Yvpjco4jj3TwYAAADA5A0MDOzfv//BgwcXL148efIkreOA2SI+Pt7MzGzr1q13796d2OZloyxZssTExOTq1asjG7W0tJYtW+bj4zP58SkLljoAAAAANDBnzpyAgIBr166dPXvWxsamv7+f1onAzPfmzRszM7P169eTXsib/ID19fUlJSVGRkYjG4lEYnFxMR0u8EWg8AUAAABo6PDhw69fv46IiDAwMGhqaqJ1HDCTkQ5StrKyevjwIRqNpsiY0dHRrKysWlpaIxs/f/7c1dUFhS8AAAAARjM2Ns7MzOzo6FBVVc3OzqZ1HDAzPXjwYPPmzXv27Pn3338ZGSm2m210dLSuri4rK+vIxoKCAhQKtWTJEkrNQkFQ+AIAAAA0JiMjk5qaunjxYm1t7UePHtE6DphpPD09d+7ceebMmZs3b1Lw4EA8Hh8bGztqnQOCIIWFheLi4vS5UzUUvgAAAADt8fHxRUVFHT582M7O7tSpUwQCgdaJwEyAw+EcHBxOnTrl5eXl7u5O2cGzsrI6OjrGFr4fPnygw6MrSODkNgAAAIAuMDIyXr58WVJS8rfffqusrAwMDGRnZ6d1KDCNff36devWrYmJiS9evNiwYQPFx4+Ojp4/f76cnNyo9pycHDs7O4pPRxHwxBcAAACgI/v373/79m1CQsLKlSvLyspoHQdMV8XFxaqqqgUFBcnJyVNR9SIIEh0dbWxsPKqxu7u7qqpKWVl5KmacPCh8AQAAAPqip6eXl5fHxcWlpqb29OlTWscB08+zZ8/U1dUFBQUzMzOVlJSmYoqurq6srKy1a9eOas/NzSUSiVD4AgAAAIBc8+fPT0pKcnR03Lp16759+wYHB2mdCEwPg4ODx44d27Jly65du+Lj40VFRadoopiYGCKRaGBgMKo9NzdXSEho3rx5UzTvJMEaXwAAAIAekZb8Llu2zMHBITc399mzZ5KSkrQOBehaaWmpra1teXn5/fv3bW1tp3SuqKgoNTU1Pj6+Ue25ubkqKipTOvVkwBNfAAAAgH5t27YtOzsbi8WqqalFR0fTOg6gU0Qi8fbt22pqamg0OicnZ6qrXgKBEBERsW7durGXoPAFAAAAwMTJysqmpaUZGhqamJjATmdgrJaWlvXr1zs6Oh48eDAlJUVGRmaqZ8zIyGhqahr7zlxvb295efkUrSqmCFjqAAAAANA7Dg6OoKAgfX39Q4cOFRYWPnjwYOyvmMHsFBUVZW9vz8LCEhcXp62tTZ1JX758uWDBgrFns+Xn5xMIBLp9sw2BJ74AAADAdOHg4JCSklJSUrJ8+fKkpCRaxwE01tLSsnPnThMTEzMzs8LCQqpVvQiCvHz58ptbpOXm5vLy8kpISFAtyXhB4QsAAABMG6qqqllZWUpKSqtXr3Zzc8Pj8bROBGiAQCD4+vouXrw4Pj4+PDzc39+fg4ODarNXVlaWlJSsX79+7CXSAl8UCkW1MOMFhS8AAAAwnQgICISHh9+7d8/T01NTU7OqqorWiQBV5efna2pq/vbbb3Z2dsXFxd8sQKdUeHg4Hx+flpbW2Et0/mYbAoUvAAAAMB3t2LEjKyurv79fWVk5KCiI1nEANXR3dx8+fFhVVZWJiSkvL8/b25uTk5P6MV6+fGlqasrIOPo9MSwWW1ZWRs9vtiFQ+AIAAADTlLy8fEZGxs6dO7dv375jx46+vj5aJwJTBY/H37t3b/HixU+ePLl3715iYqKCggJNknR0dKSkpHzzMXN+fj4Oh4MnvgAAAACYEiwsLN7e3qGhoW/evFFVVc3Pz6d1IkBhRCIxNDR06dKl+/fvt7KyKisr27FjBw0X0UZERKDRaCMjo7GX0tLS+Pn5Fy5cSP1U5IPCFwAAAJjeLCws8vLyhISENDQ0bty4QSQSaZ0IUEZqaqqurq6VlZWCgkJxcfHNmzd5eXlpGyk0NFRfX5+Li2vspYyMDHV1dXp+sw2BfXwBAACAGUBMTCwuLu7SpUtHjx599erV3bt3xcTEqDAvkUisq6urq6vDYDBdXV1sbGxsbGwiIiILFy5kZmamQoCZqri42N3d/dmzZ4aGhllZWXSyfuDr169RUVE+Pj7fvJqenr57924qRxovKHwBAACAmQCNRjs7OxsbG+/YsWPp0qVXrlxxcHAY2+3du3fq6uqTeSlqaGgoLi4uLi4uPj6+sLCwv7//m2EkJSV1dHRWr15tamoKx22QLzc39/LlyyEhIaqqqrGxsatXr6Z1ov8TFhY2NDT0zR18W1paamtr1dXVqZ9qXFDwCxEAAABgJsFisW5ubp6enhs3bvT19RUUFBy+1NbWJiMjo6enFxISMoFfSX/69MnHx+fRo0etra2SkpJKSkrS0tLi4uIiIiIsLCwcHBxYLBaLxba3t9fV1VVXV3/48KG4uBiFQpmamu7bt8/Y2JiiX3SmiY2N9fDwePfunZKS0tmzZy0tLelt2YC5uTkKhXr16tXYS2FhYZaWlh0dHTw8PNQPRj4ofAEAAIAZKCUlZefOnV+/fvXz87OwsCA1btu27fnz53g8/urVq0ePHiV/tIqKCldX1+DgYBERESMjo7Vr14qIiJBzY39/f1JS0tu3b3Nzc5ctW+bu7k79fWfpHIFAiIiIuHTpUnp6uqam5smTJ0n1Ja1zjdbV1SUsLOzv729nZzf26unTp1+9elVUVET9YOMChS8AAAAwM/X09Jw4ceL27dubN2/28/NLS0szMzMjXWJgYIiPj9fR0fnpIFgs9tKlSx4eHvPnz7e1tdXT02NgmMib8RUVFQ8fPkxKSjIxMbl586aUlNQEBplhMBjMw4cPr169WllZaWlp+fvvv6upqdE61HcFBAQcOHCgubmZm5t77FV9ff0FCxbcvXuX+sHGBQpfAAAAYCYLCwvbt28fCwsLFotta2sjEAgIgqDRaG5u7sLCwrlz5/7g3vLycmtr6/Lycjs7uy1btqDR6EmGKSgo+Pvvv1taWvz8/LZv3z7J0aavjx8//vPPP4GBgf39/Tt27Dhx4oS0tDStQ/2EsbExKytraGjo2Et4PJ6Pj8/T0/Oby8rpCmxnBgAAAMxkFhYWhYWFYmJinZ2dpKoXQRA8Hv/169eNGzficLjv3fj69WtlZWUcDnfv3r3t27dPvupFEERRUdHPz8/Y2NjW1tbJyWk4zyyBx+NfvXq1Zs0aOTm5Z8+eHT58uK6u7vbt2/Rf9ba1tcXFxVlbW3/zalFRUU9PD/2/2YZA4QsAAADMeKWlpampqaNqXBwOl5OTc+bMmW/ecv/+/Y0bN+rp6Xl7e4uKilIwDBMT08GDB11cXHx9fbdt2zY4OEjBwenW58+fXVxcxMTENm7cyMbGFhER8fnzZzc3t5GvHtKzFy9eoNHo4aUyo2RkZHByci5ZsoTKqSYAljoAAAAAM9nAwICCgkJNTc3Q0NDYqygUKjg4eNOmTSMbnzx5YmNjs3Xr1r17907dW1Z5eXnnzp0zMzMLCgqa2Lph+tfd3R0eHv7s2bPIyEgBAYFdu3bt379fUlKS1rnGTV9fn5+f//nz59+8unv37pqamtjYWCqnmoCZ+d8ZAAAAAEhcXFyqqqq+WfWS7Ny5s7y8fPhjbGzsjh07rKysHBwcpnRvASUlpQsXLoSFhY1rf4lpYXBw8OXLl9bW1iIiIvv27WNlZX3x4kVdXd3ly5enY9VbXV2dmJi4a9eu73XIyMhYsWIFFRNNHDzxBQAAAGasxsbGZcuWtbW1MTIyEolEPB4/tg8TE9OCBQtycnLY2dkbGxuXL1+uqKh47tw56uyoFR8f/8cffwQFBW3ZsoUK000pPB6fnJwcHBwcHBzc2dmpra1tZ2e3adOmb26DMI04OzvfuXOnrq6OiYlp7NWOjg5BQcGwsLB169ZRP9t4QeELAAAAzHBVVVUxMTHJyckxMTFNTU1oNBqFQo18BszIyGhpafnkyZPVq1dXV1f/888/rKysVIt348aNt2/ffvjwYZrucTYwMBATExMaGhoeHt7W1qagoGBjY7N9+3ZxcXFaR6MAAoEgJSW1bdu2y5cvf7NDWFiYlZVVa2vrtDifDwpfAAAAYBb5+PFjUlJSYmJiXFzcly9fGBgY0Gg06b03W1vboKAgX19fGRkZakbC4XD79u2Tk5N7/fo1NeedJAwGExsb++zZs5cvX3Z3d8vLy2/evNna2lpeXp7W0SgpOjra2Ni4pKRETk7umx2OHj0aHx+fl5dH5WATA4UvAAAAMEvV1NQkJSUlJSXFxsbW1NQgCKKnp+fm5kb9JPn5+UeOHHn58qW5uTn1Zx8X0uPzV69excTE4HA4dXX1devWWVlZLVq0iNbRpsTWrVvr6+vfv3//vQ4qKipaWlre3t7UTDVhUPgCAAAAADlz5oyXl9fWrVvt7OwosmXveLm4uPT29ubk5FB/6p/q6OiIiYmJjo6Ojo5uaGgQEBAwNDQ0NjY2MzMTEBCgdbop1NXVNXfu3Bs3buzevfubHbq7u/n5+YODgy0tLamcbWKg8AUAAABmu/7+fgkJCSMjoz179tAqQ3l5+b59+yIjI42MjGiVYaSenp7k5GTSspDs7GwUCrVy5UojIyMjIyNVVdWZuv/aKD4+PidPnvzy5QsnJ+c3O0RERKxbt66pqUlISIjK2SaGkdYBAAAAAEBjYWFhHR0dVlZWNMwgIyOjpKTk5+dHw8K3s7MzOTk5MTExKSkpLy+PQCDIycnp6uqeOHHCwMCAh4eHVsFoJSAgYNOmTd+rehEESUpKkpeXny5VLwKFLwAAAAACAwPV1dV5eXnJ7D84OHj69OmcnBw/Pz9ZWdmRlwgEwqNHj96+fdvU1MTKyqqiorJ37965c+eSM+zatWv/+uuv9vZ2fn7+cX+HCRkaGiouLs7IyEhPT8/MzCwtLUUQREFBQVdX99SpU9ra2tOopKO4tLS0nJyc69ev/6BPYmKirq4u1SJNHix1AAAAAGa13t5ePj6+kydPGhoa/rjn0NBQW1tbZmbm06dP29vbsVjs2MLX09MzISHhzJkzK1asaG1tvXr1anV19b1798ipqjEYzIYNGwIDA7dv3z6pr/R9RCKxqqoqLy8vMzMzIyMjJyenr6+Pk5NTVVV15cqVGhoaWlpa02JbLirYsmVLZWVldnb29zqQ/st58ODBNNqDGZ74AgAAALNacnLy0NCQsrLyT3t6eXmlpqbKyMjY2dm1trbevXt3VIfKysqIiAhHR0dNTU0EQebOnevs7Gxtbf3o0aODBw/+dHw2NjY5Obn4+HgKFr6Dg4NFRUX5//nw4UNPTw8ajZaXl1+5cuWOHTtWrFghLy9Pk/f56FlDQ0NoaGhAQMAP+qSmpuJwOG1tbaqlmjwofAEAAIBZLSUlRUJCgpzHnCdOnBj++fHjx2M7JCQkIAiio6Mz3MLLy6ugoJCQkEBO4YsgyLJlyxITE8np+U2Dg4MVFRUlJSVVVVXFxcUlJSXFxcVYLJaJiUlaWlpFRcXKykpFRUVJSYmdnX3Cs8wGN27cEBQU3Lx58w/6JCYmysjIkLmOhU5A4QsAAADMaiUlJZKSkhQZqqKigoWFRVhYeGSjhIREXl5eZ2cnOasdpKSkgoKCBgcHmZmZf9wTh8NVV1d/+vSpoqKioqKC9ENNTQ2BQGBiYlq0aNGSJUtMTEyOHz+uqKgoKysLz3TJh8Fg/P39jxw58uO/haSkpOm1wBeBwhcAAACY5crKylRVVSkyVEdHBzc3N4IgERERnp6ecnJyvr6+pM0QOjo6yCl8/7KmgQAAH01JREFUxcXFh4aGqqqqFi9eTGppamqqr69vaGiora2tr6+vr6+vq6v7/PlzY2Mj6dRlISGhRYsWSUtLa2try8rKysvLS0tLMzExUeQbzU7379/v7e398d52GAwmKytr3759VEtFEVD4AgAAALNaW1sbpV7nGhwcHFtxMjIyIggyMDBAzgikJE5OTv39/Q0NDfX19cM3CgsLz58/f/78+UpKSuvXr5eQkFi0aNGiRYu4uLgoEh4Mu3Xrlp2d3agn96PEx8cPDg4aGBhQLRVFQOELAAAAzGq9vb2srKwUGWrOnDn9/f0IgpiZmZmZmZEacTgc6RI5I7CxsSEI0tfXt3TpUiMjIzExMXFx8Xnz5omJiZE5Apik6OjowsLChw8f/rTbsmXLREVFqZOKUqDwBQAAAGa1bz6mnRh+fv7a2tpRjZ2dnQiCkHm0LynJkSNHpssRuDOPu7u7iYmJoqLij7tFR0dv3LiROpEoaFYcuAcAAACA72FjY8NisRQZSkZGBovFNjU1jWysqqoSFRUlrf39KVISDg4OiuQB4xUREZGWlubm5vbjbjU1NeXl5XRyuPS4QOELAAAAzGqcnJwYDIYiQxkYGDAwMJA2NSNpbm4uKSlZu3YtmSP09fWRIlEkDxgXIpHo7u6+YcOGFStW/LhnVFQUOzv7qlWrqBOMgmCpAwAAADCrzZ8/v7m5mSJDiYmJWVpa/vvvv/PmzVNXV29qavrzzz/nzp1L/sleX758QRBEXFycInnAuISFhWVnZ+fm5v60Z3R0tL6+/nRcdQ2FLwAAADCrycnJlZWVkdPT19f36dOnI1uGd7PavXu3nZ0dgiCOjo5CQkJ37tz5448/ODg41NXV9+7dS3pljRz19fUcHBz0diYCgUDw8/Pz9/cvKytDoVCampoeHh7Lly+ndS5KIj3u3bRp00+/19DQUHx8/IULF6gTjLKg8AUAAABmNUVFxZcvXxKJRBQK9eOeBw4cOHDgwI/7oFAoa2tra2vriYX5+PGjgoLCT5NQ2YEDB+7evXv16lV7e/uenp6DBw+uXLkyMTFRXV2d1tEoJjg4uLCw8MGDBz/tmZaW1t3dPR0X+CKwxhcAAACY5fT09Do7O6urq2kdBEEQJC8vj4ZbwzIyMgYGBo5qTElJuX379q+//urk5MTNzS0mJvb48WMBAYHdu3fTIuOUGBoacnNz27Zt29KlS3/aOTo6WkpKSlpamgrBKA4KXwAAAGBWW758OR8fX3p6Oq2DIA0NDXV1datXr6Z1kP9x//59BEF27tw53MLOzr57925paWnSTm0IgmCxWFdX12XLlnFwcPDy8pqamqampg73f/HiBQqFio2NvXv3rry8PCsrq7S09M2bN8fO5e/vj0KhvvkgGYPBODs7y8rKsrGxCQkJWVhYFBYWUuo7+vj4VFdXu7u7k9M5KirK2NiYUlNTGRS+AAAAwKzGwMBgbW397t07WgdB3r17JyQkpKOjQ+sg/yMrKwuFQo16FPrHH3+EhYWRDmEmEAhmZma+vr7Ozs5NTU2ZmZkMDAx6enrx8fGkzqSXwK5fv56bm/v27dv6+no1NbVDhw5FRkaSH2PPnj3379//999/Ozo68vLyODg4dHV1P3/+PPkv2NLS4ubmdvz48YULF/60c1tbW15e3jRd54BA4QsAAACAHTt2VFdXl5aW0jADHo9/+/atra0t6Yhj+tHQ0MDNzc3MzPy9DiEhIXFxcdevX9+0aRMHB4e0tPTjx4+5uLhOnz5N6oBGoxEEaW1t9fHxmT9/Pj8///Xr1xEECQsLIzMDHo8PDQ21tLRUV1dnYWGZN2/ezZs3USgURf65cvr0aQ4OjuG0PxYZGcnIyKivrz/5eWkCCl8AAABgttPQ0FBXVw8KCqJhhtjY2Obm5v3791N5XgEBAdR/8Hi8vb398EdSYTowMDB8st379+9RI5DWh7x58wZBEBMTk+Exubi4DA0Nc3Jy8Hj8cKOpqenISVlZWceecrdnzx4ikTh22Qkajebk5Hz27NmbN2+GhoYQBOHh4Wlvb5/8OuP4+PiAgIC//vqLnZ2dnP4vXrwwMDDg4uKa5Ly0AoUvAAAAAJBTp04lJydXVFTQZPahoaFHjx5paGhQ6gw58rW1tRH/g0ajAwIChj9aWFggCMLOzj6cSktLi3Tp7NmzwyPU1dUhCMLDwzOyJn769OnQ0FBDQ8NwNxERkZHzMjAwkEpYMj19+pS0poKHh8fIyMjb27urq2syXxxBEAwGs3fv3g0bNmzevJnM/m/fvp2OJxUPg8IXAAAAAMj69evV1dW9vb0JBAL1Z3/+/Hlzc3NfX9/y5cs3bdpUUFBA/Qzfs3Dhwq9fv/b09HyvAwMDA4IgGAyGOAYFT+LQ19evqamJjIw8cOBAc3Ozk5OTtLQ0OYdN/MDZs2c7Ojpu3bpFZv/IyEgsFrtu3brJTEpbUPgCAAAAAEGhUL6+vmVlZeHh4VSeurGx8f79+6dPn87JyXn+/PmnT5/oqvwlvWyXkZHxvQ5SUlIIglBhPzhmZmZjY2NPT8/8/PzMzMz+/v6TJ09OeLQ3b954e3t7e3uLioqSeUtoaKi2tvaoR9fTCxS+AAAAAEAQBFm2bNmZM2f++eefT58+UW1SHA7n7u4uKyt78uRJFAq1cePGvLy8kJCQysrK5cuXW1hY0HyfNXt7eyYmptu3b3+vw/r165H/dj0jIRKJBgYGI5dDkOl725klJyeLiYmVlJQMt6ipqcnIyPT39493CpKGhoZdu3bZ2dmRztsjBw6He/PmzbRe54BA4QsAAACAYS4uLurq6q6urh0dHVSYjkgkXrt2rbGxMTg4mLTnF4IgpPI3Nzc3NDS0qalJQ0NDX18/KiqKCnmGhoZ27do1qnHhwoWXLl16/vz5uXPn2traent7Q0JCHj9+LCwsTHr2aWpqampqeu3atX/++QeDwdTW1v7yyy9JSUkU3JdNRUWFgYFhz549JSUlOByuq6vLx8enoKDA0dFxAqMNDAxs2bKFj4/Px8eH/LtiYmK6urpI656nLyh8AQAAAPD/odHoZ8+esbGxnTx5sq+vb6qn8/Pzi42NDQ4OXrRo0ahLKBRqw4YN6enpycnJHBwcpqamy5Ytu3///rheCKOU48ePk/Ysk5SUnDdv3pUrVw4cOFBeXi4pKUmKGhoa6uLi8vfff/Py8mpoaLS1tSUlJVFws1s2Nrb379/LyMisWbOGg4NDRkbm2bNnz54927Zt2wRGO3jwYEFBwfPnzzk4OMi/KzQ0VEVFRUJCYgIz0g8UkUikdQYAAAAA0JGamhpNTU12dnYPDw8+Pr6pmIJAIPj4+ISGhv7777+2trY/7Z+Xl+fh4fH8+XNxcfGDBw/u3r2bm5t7KoLNeO7u7hcuXHj9+vW46nICgTBv3rxDhw6dOXNm6rJRARS+AAAAABitpqZm7dq1GAzG3d197OPYSerr67ty5UpaWtrDhw/J3EiLpLKy8vr16wEBAQiC7Ny589ChQzIyMpTNNrN5eHicPn36n3/+cXBwGNeNSUlJurq6paWlixcvnqJs1AFLHQAAAAAwmqSkZEpKirS0tKOjY2hoKAX3OCstLd23b19ZWdnbt2/HVfUiCLJw4UJvb++6ujp3d/c3b97IycmZm5u/e/cOnuKR4+LFi6dPn75x48Z4q14EQUJDQ+Xl5ad71YtA4QsAAACAbxIUFIyJiTl16pSPj8+hQ4fKy8snOWBPT4+Xl5ejo6OsrGx+fr6uru7ExuHm5j5y5EhFRUVISEhfX9/atWtlZWWvXLnS0tIyyYQz1eDgoL29vaurq4+PzwTehyMQCC9evJju+zmQwFIHAAAAAPxIQUHBr7/+mpqaumrVKhsbG3l5+fGO0NHR8fz58/DwcFZW1mPHjpF2LqNgvNu3bz98+LC/v9/CwmLv3r0GBgYUHH+6q6iosLOzKy0tffLkychzlcmXmJiop6dXVFS0ZMkSisejMih8AQAAAPATRCLx9evXFy5cyMzMlJKSWrNmzcqVK6WkpEiHln1PW1tbdnZ2QkJCVlYWPz//sWPH4uPjm5qasrKyGBkZKZsQg8EEBwffvn07LS1t4cKFe/futbW1nTdvHmVnmV6IRKKfn9/x48dlZWUfPnwoJyc3sXEcHByysrLy8vIoG48moPAFAAAAALnS09MfPHjw9OnT9vZ2Hh4eaWnp+fPni4iIsLGxcXBwYLHY/v7+9vb2+vr66urqz58/MzMzr1mzZseOHevXr2dhYamoqFBUVLx06dKRI0emKGFhYeGdO3cePHjQ09Ojr69va2traWnJxcU1RdPRraqqKkdHx3fv3p08edLNzY2JiWli4wwODoqKip45c+bYsWOUTUgTUPgCAAAAYHwIBEJBQUF8fHxRUVFJSUldXV1fX19XVxc7Ozs7O7uQkNDixYvl5OS0tLS0tLTY2NhG3uvq6url5VVSUjJ//vypS4jFYiMiIh4+fBgZGcnAwLBu3TobGxtjY2NmZuapm5RO9Pf3e3h4eHh4LFiw4M6dO6tWrZrMaCEhIdbW1rW1tVP690U1UPgCAAAAgHqwWOzSpUsVFRVDQkKoMF1nZ+ezZ88ePXqUnJzMx8dnaWlpYWFhYGAwfFDcTEIgEJ48eeLs7Nza2uri4nL48OEJP+gdtnHjxq9fv8bExFAkIc1B4QsAAAAAqnr79q2RkdGrV6/Mzc2pNmltbW1QUFBISEhOTg4HB4eJicnGjRtNTExmxkEYBALh+fPn7u7uHz9+tLW1vXTp0ty5cyc/bHNzs5iY2L1798g5ZGRagMIXAAAAANRmZ2cXFxdXWFg4RSfD/UBdXV14eHhYWFhiYiIDA8Pq1astLCzWrFmzYMECKiehiL6+vgcPHly/fv3jx49btmxxdXWVlZWl1OCenp6XLl1qbGxkZWWl1Ji0BYUvAAAAAKitq6tLUVFRR0fn4cOHtMrQ0dERERERFhYWHR3d19e3YMECAwMDQ0PD1atXCwgI0CoV+UpKSgICAvz9/bFYrI2NzZEjRyi+3Zi8vPzq1atv3rxJ2WFpCApfAAAAANDAu3fvjIyMnj59Ot7z2yhucHAwLS0tNjY2JiYmKyuLQCAsW7bMwMBAX19/xYoV9FYEf/78+enTp48fP87PzxcXF9+/f//evXunImRycrKOjk5ubq6SkhLFB6cVKHwBAAAAQBt79+4NDw8vKioSEhKidZb/r6enJyEhgVQEl5SUIAiyYMGCFStWqKmpqampKSsrs7OzUz/V0NBQampqZGTkmzdvCgoKeHl5N23aZGNjo62t/eOtlCdj586dRUVFOTk5UzQ+TUDhCwAAAADa6OnpUVRUVFZWfvHiBa2zfEN7e3tmZmZWVlZWVlZmZmZLSwsjI6O8vLySkpKMjIy0tLS0tLSMjMyo/doopba29sOHD6mpqWlpadnZ2RgMRlpa2sTExNTUVE9Pb6p3pWhpaREXF7958+aePXumdCIqg8IXAAAAADQTHx9vaGjo4+Ozf/9+Wmf5idra2szMzMzMzMLCwoqKitraWjwejyCImJgYqQgWExMTEhIS+A8/P7+AgMCPn8gODQ11dnZ2dHQ0NDTU19fX1tbW1tYWFxeXlJT09PSgUCg5OTkNDY1Vq1bp6OgsWrSIWt8VuXDhgpeXV11d3RSV9bQChS8AAAAAaMnFxeXKlSupqanKysq0zjIOAwMDlZWV5eXl5eXlFRUVFRUV9fX1ra2tPT09I7sJCAiQzo1Do9FcXFx4PJ7UAY/Hd3Z2juzMwsIiLi4uJiYmJyenoKCwZMkSBQUFHh4eKn8vBEFwONyCBQtsbGwuX75M/dmnFBS+AAAAAKAlAoFgbGxcXV2dnZ09A3bVHRwcbGtra29vb2tra21tbW1t7e3tJbX39fUxMDCQviMajeb9Dx8fn6ioKP0sdA4KCrKzs6uoqJCSkqJ1FgqDwhcAAAAANNbU1KSkpKStrR0cHEzrLABRV1efO3cufS68nqSpehMQAAAAAIBMIiIiQUFBL168uHXrFq2zzHZxcXEZGRnHjx+ndZApAU98AQAAAEAXzp8/f/Hixbdv3+ro6NA6y+xlZGQ0ODgYHx9P6yBTAgpfAAAAANAFIpG4ffv2d+/epaWlSUtL0zrObJSfn6+srBwZGWlkZETrLFMCCl8AAAAA0AsMBqOnp9fT05OWlsbLy0vrOLPO5s2bKysrc3NzaR1kqsAaXwAAAADQCzY2tvDwcAwGs2nTJhwOR+s4VFVWVmZjYyMqKsrGxqaiovLw4UMqj5CXlxcSEuLs7DzeeacRKHwBAAAAQEdERUUjIyNzcnL27dtHhenc3NxQKJS6uvrIRnNz8/nz51Nh9mGxsbEaGhqysrJZWVmtra1ubm5nzpxxdXUd7oDH4y9evCgrKztnzhwBAYEtW7ZUVlaOa4SfOnfunIqKioWFBcW+FR0iAgAAAADQmVevXqHRaGdn56meaLg0TElJGW40MzObN2/eVE89rLGxkY+PLygoaGTjx48fWVhY8vLySB/37NnDxcUVHh6OxWI/ffpkYGAgLCzc3NxM/gg/lpycjCDI27dvKfGF6Bc88QUAAAAA3TE3N79z587FixcvXLhAqTEZGRkDAwPHtjMxMUlLS//111+Ummi8/vzzT21t7a1bt45slJGRsbCw8PPzQxCkoKDA39/fzc1t/fr1c+bMWbhw4ePHj7u6ui5dukTmCD915swZfX39NWvWUOg70SkofAEAAABAj+zt7X18fFxcXDw9Pad0IhwO5+DgEBYWVlNT880OfX19p06dWrRoETMzMy8vr4mJSWpqKulST08PCoW6f/++oaEhBwfHqVOnGhoaNDQ0uLi4Dh48OGocf3//scsqcDjcw4cPnZycEATx8PCYO3fuggUL3r9/z87ObmFhkZCQgCAI6VwPKyur4buEhIRWrVr17NkzMkf4seDg4JSUlJl3QPE30PqRMwAAAADAd12/fh1BkCtXrkx+KDQaHRAQMKqRtNShtraWh4fHycmJ1DhyqcPg4KCGhgY/P//r16+7u7s/ffpkZWXFxMSUmJhIJBL7+/sRBFmyZMn79++9vb1RKJSFhUVpaenFixcRBCkoKBg51507dxAEWbly5cjG5ORkbm7uoaGha9euSUlJFRUVZWVlSUtLa2tr5+bmMjExEYlEU1NTdnb2Ucl//fVXBEGamprIGeEHMBiMpKSkvb39uP4wpyl44gsAAAAA+nXo0CFPT8+TJ0/6+vpO3SxsbGx79uy5e/duT0/PqEtBQUFpaWkeHh5mZmZcXFwLFy4MDAxkZWU9c+bMcB9+fn5NTU0zMzMikcjKyrp48WIzMzMEQQoLC386dUFBwdKlSwcHB8+fP3/16tUlS5aoqqqi0WgNDQ0BAQEcDofH45ubmwUEBJD/fWYsKCiIIEhzczM5I/wgwOXLlzs6Ov7888/x/7FNP1D4AgAAAICuHT9+/Pz5846OjlevXh3vvQICAqj/4PF4e3v74Y9hYWEjex46dAiDwfj7+48aITIyEkGQ9evXD7dwcHDo6OikpaX19fWRWmRlZREE4eLiQhBEUlJy+Ofu7u6RQ+3Zs4dIJKanp49srKurk5CQSElJ6e/vNzc3JzW2t7erq6t3d3fz8PCg0ej+/n5mZuZRwUgtGAyGnBG+9+dTUVHh6enp4uIiLCz8/T/FmQMKXwAAAADQu7Nnz3p5eZ08efL3338njufsrba2tuFfc49a6jBq3y5xcXFLS8vr16+Pej5aV1fHxMREerw6bO7cuQQC4cuXL6SPpDIXhUIhCMLGxjb8848ftZL09vZycnJWVVWJi4uTatnKysrW1lYNDY36+npSPcrGxjY4OIj8b+k8MDBAukTOCN9EIBDs7e0XL17822+//TTnzMBI6wAAAAAAAD93+PBhAQEBe3v7xsZGf39/FhYWik/h5OSkqakZEhJCKlt/gEAgIAjCwECBB4hMTEz9/f2MjIxDQ0OklqdPnwoLC4uIiKSnp69atQpBEFFR0dLS0lE3Njc3Iwgyd+5cckb4Ji8vr6ysrKysLCYmpsl/kWkBnvgCAAAAYHqwsbF58+bNmzdv9PX1m5qaKD7+qlWrVqxY4eXlNWfOnOFGSUlJHA5HqjKHNTQ0MDExiYqKTn5SISGhL1++qKmp1dTUZGZmJicnJyYmsrGxtba2BgQEODg4IAiioqLS19c3atOJwsJCKSkpAQEBckYYq7S01NnZ2dnZWVFRcfLfYrqAwhcAAAAA04ahoWFaWlp7e/uKFSsyMjIoPr6Tk1N6evqnT5+GW0ivqb169Wq4paenJzk5efXq1aysrOMa/JvbmS1fvjwvL09BQeH33383MjJycXEJDAycO3eujIyMk5MTqfPWrVsZGBhIm5eR1NbWZmRk2NnZkTnCKH19fZs3b166dOmpU6fG9RWmPSrvIgEAAAAAMEnt7e3GxsbMzMze3t6THIq0nVlrayvpIw6HmzdvHoIgw9uZDQ0NaWtrCwoKRkVF9fb2lpeXr1+/np2d/cOHD8T/tjM7duwYkUhsbW1FEOT8+fNEIrG6uhpBkBs3boyc65vbmfX393NxccXHx/84p5OTEwcHx4sXL7BYbFlZmbq6urS0dE9PD/kjjLR9+3YBAYHa2lryb5kZ4IkvAAAAAKYZPj6+iIgIFxeXo0ePWlpakipOimBkZBx18AQajY6KirK3t9+/fz8PD4+6ujoDA0NaWhqlVgiwsLA4Ojr+/vvvpNfXvuevv/5yd3c/c+YMFxeXjo6OnJxcUlISJycn+SMMu379+tOnTx8/fiwuLk6RrzCNoIjjeTUSAAAAAIB+JCQk7Ny5E4vF+vn5jdqlYRrp7+/X19dnY2O7cuWKoqJiT09PWlqaj4+PjY0NaTEDBUcICQnZsmXLhQsXZt0iBwRBoPAFAAAAwLTW09Nz5MiRe/fubdmy5dq1a6SFCtNOf3//+fPnnzx50tDQQHquvHv37pGbB1NkhNjYWDMzMwcHB9J5eLMQFL4AAAAAmPbevHlz6NCh1tZWV1fX3377bfbsz0W+uLi4DRs2rF+//sGDBxTZiG06mqVfGwAAAAAziampaVFR0dGjR8+dOycnJ/fgwQPSVruA5MmTJ6ampmZmZoGBgbO26kWg8AUAAADAzMDKyurm5lZWVqajo2Nvb6+oqBgUFDR8psOsRSQS//zzTxsbm19//fXx48ez/Fk4LHUAAAAAwExTVlb2xx9/BAcHi4uLHzt2zN7ennSS8GzT0tKyc+fO2NhYT0/Pw4cP0zoO7UHhCwAAAICZqbq6+u+///b392djY3N0dDx06BA/Pz+tQ1FPfHy8ra0tIyNjUFDQDw4unlVgqQMAAAAAZiYpKSlvb++amhpHR8cbN25ISEgcPnz48+fPtM415fB4vJub25o1a1auXJmfnw9V7zB44gsAAACAma+3t/f27dteXl7Nzc3btm07ceKEgoICrUNNidraWjs7u+zsbC8vr3379tE6Dn2BJ74AAAAAmPk4ODiOHj1aWVl5586d7OxsRUXFdevWvX//nta5KAmPx3t5eS1ZsqSjoyMjIwOq3rGg8AUAAADAbMHMzLxz586ioqLw8PDOzk5tbW1NTc3g4GAcDkfraJOVl5e3cuXK06dPnzhxIicnZ+nSpbRORI+g8AUAAADA7IJCoUiPe9+/fy8sLLx9+3ZJScnz5883NzfTOtpE9PX1HT9+fMWKFWxsbPn5+a6urnPmzKF1KDoFa3wBAAAAMKvV1tb6+vrevXu3p6dn8+bNBw8eVFdXp3UosuDx+IcPH7q6unZ3d1+5cmXPnj0oFIrWoegaFL4AAAAAAAgWiw0KCrp582Zubq6CgsIvv/xia2srKChI61zfRiQSQ0JCXFxcKioqdu3adf78eREREVqHmgag8AUAAAAA+D8ZGRn37t178uQJFos1Nzf/5ZdfjI2N0Wg0rXP9n6ioqHPnzuXl5W3ZssXd3V1aWprWiaYNKHwBAAAAAEbDYDAhISH37t1LTEwUERGxtLTcvHmzlpYWDSvgvr6+R48e+fr65ufnr1u37sKFC4qKirQKM01B4QsAAAAA8F2VlZWPHj16/vx5YWGhsLCwpaXlpk2bdHV1qVkBl5aW+vr63r9/f2BgwNra+uDBg2pqalSbfSaBwhcAAAAA4Oc+fvz4/Pnz58+f5+fn8/Dw6Ovrr1mzxtDQcOpWGhQVFb1+/frly5fp6ekLFizYv3+/vb39rDp1meKg8AUAAAAAGIdPnz5FRka+e/cuISHh69evkpKSq1evVlNTU1ZWXrp0KSsr62QGb25uzs7OjoqKev36dU1NjZCQkJmZmbW19dq1axkYYBfayYLCFwAAAABgIoaGhtLT09+9e5eYmJiXl9fT08PIyLh48WJlZeWFCxdKSEjMnz9/3rx5EhIS36yG29vbW1tb29raGhsb8//z5csXBEGWL19uZma2bt06NTU1qHcpCApfAAAAAIDJIhKJnz59ysvLy83NzcvLq6mpqaur6+/vJ11lZWVlYWEZ/plAILS1tQ0NDZFaGBkZZWVll/9HSUkJ1jNMESh8AQAAAACmRFtbW0NDQ11dXXd3d19fH6kRg8EwMDAICAgICwsLCgoKCgoKCAgwMTHRNuosAYUvAAAAAACYFWDVCAAAAAAAmBWg8AUAAAAAALMCFL4AAAAAAGBW+H8pNErPHoDDvAAAAABJRU5ErkJggg==)"
      ],
      "metadata": {
        "id": "5jXdYNdMXOKB"
      }
    },
    {
      "cell_type": "code",
      "source": [
        "from hfst import compile_lexc_file\n",
        "generator = hfst.compile_lexc_file('Latvian.lexc')\n",
        "print(generator.lookup('kām+N+Sg+Loc'))"
      ],
      "metadata": {
        "id": "l_X_GHljt2fE",
        "colab": {
          "base_uri": "https://localhost:8080/"
        },
        "outputId": "48274562-9399-4767-ca1a-cf3bb704abc8"
      },
      "execution_count": 10,
      "outputs": [
        {
          "output_type": "stream",
          "name": "stdout",
          "text": [
            "(('kām^ī@_EPSILON_SYMBOL_@', 0.0),)\n"
          ]
        }
      ]
    },
    {
      "cell_type": "markdown",
      "source": [
        "## Transdjūseri: divlīmeņu morfoloģija\n"
      ],
      "metadata": {
        "id": "7jDoF0iCTaLE"
      }
    },
    {
      "cell_type": "code",
      "source": [
        "# Sintēze.\n",
        "from hfst import HfstTransducer\n",
        "analyzer = HfstTransducer(generator)\n",
        "print(analyzer.lookup('kūk+N+Sg+Nom'))"
      ],
      "metadata": {
        "id": "T4VOK_dA57A-",
        "colab": {
          "base_uri": "https://localhost:8080/"
        },
        "outputId": "5764cb63-93e5-4d99-82b4-cd5532286a2d"
      },
      "execution_count": 11,
      "outputs": [
        {
          "output_type": "stream",
          "name": "stdout",
          "text": [
            "(('kūk^a@_EPSILON_SYMBOL_@', 0.0),)\n"
          ]
        }
      ]
    },
    {
      "cell_type": "code",
      "source": [
        "# Vārda analīze.\n",
        "analyzer.invert()\n",
        "analyzer.minimize()\n",
        "print(analyzer.lookup('kūk^ā'))"
      ],
      "metadata": {
        "id": "afcciBSg8R2S",
        "colab": {
          "base_uri": "https://localhost:8080/"
        },
        "outputId": "0c95dca3-2a40-4517-a9ed-0e1c9e140ec1"
      },
      "execution_count": 12,
      "outputs": [
        {
          "output_type": "stream",
          "name": "stdout",
          "text": [
            "(('kūk+N+Sg+Loc', 0.0),)\n"
          ]
        }
      ]
    },
    {
      "cell_type": "code",
      "source": [
        "# Salīdzināšana.\n",
        "analyzer.invert()\n",
        "analyzer.minimize()\n",
        "print(analyzer.compare(generator))"
      ],
      "metadata": {
        "id": "uMUXs84Z-311",
        "colab": {
          "base_uri": "https://localhost:8080/"
        },
        "outputId": "bfa87a39-2724-44e3-9b64-7a3869d3d97b"
      },
      "execution_count": 13,
      "outputs": [
        {
          "output_type": "stream",
          "name": "stdout",
          "text": [
            "True\n"
          ]
        }
      ]
    },
    {
      "cell_type": "markdown",
      "source": [
        "## FST kaskadēšana"
      ],
      "metadata": {
        "id": "TLEdv6EJnFyy"
      }
    },
    {
      "cell_type": "code",
      "source": [
        "from hfst import regex, HfstTransducer"
      ],
      "metadata": {
        "id": "cwMi6fVA70Gs"
      },
      "execution_count": 14,
      "outputs": []
    },
    {
      "cell_type": "markdown",
      "source": [
        "### Iespraušana"
      ],
      "metadata": {
        "id": "KmvMi9ro7fZn"
      }
    },
    {
      "cell_type": "code",
      "source": [
        "InsertJ = hfst.regex('[..] -> j || [b | f | m | p | v] _ \"^\" M')\n",
        "print(InsertJ.lookup(\"šķiv^Ma'\"))"
      ],
      "metadata": {
        "id": "DRjhHLhS7aM0",
        "colab": {
          "base_uri": "https://localhost:8080/"
        },
        "outputId": "e3687b2d-17fe-4a4a-bb36-764ebea7c2a9"
      },
      "execution_count": 15,
      "outputs": [
        {
          "output_type": "stream",
          "name": "stdout",
          "text": [
            "((\"šķivj^Ma'\", 0.0),)\n"
          ]
        }
      ]
    },
    {
      "cell_type": "markdown",
      "source": [
        "### Aizstāšana"
      ],
      "metadata": {
        "id": "vpuc2Uj6VRct"
      }
    },
    {
      "cell_type": "code",
      "source": [
        "CReplacement = hfst.regex('l -> ļ ||  _ \"^\" M')\n",
        "print(CReplacement.lookup(\"kartupel^Ma'\"))"
      ],
      "metadata": {
        "id": "iqYf8kSiGB92",
        "colab": {
          "base_uri": "https://localhost:8080/"
        },
        "outputId": "f3d6ce70-d009-4652-aff1-d3e7b5ae5ebc"
      },
      "execution_count": 16,
      "outputs": [
        {
          "output_type": "stream",
          "name": "stdout",
          "text": [
            "((\"kartupeļ^Ma'\", 0.0),)\n"
          ]
        }
      ]
    },
    {
      "cell_type": "markdown",
      "source": [
        "### Izņēmumi"
      ],
      "metadata": {
        "id": "D3TxseNWfacF"
      }
    },
    {
      "cell_type": "code",
      "source": [
        "# Izņēmums vīriešu dzimtas 4. deklinācijas vārdam \"paziņa\".\n",
        "Exceptions = hfst.regex('[[{paziņ} \"+N\" \"+Sg\" \"+Dat\" .x. {paziņam}] ]')\n",
        "Exceptions = hfst.regex('a i-> a m || p a z i ņ \"^\"  _')\n",
        "print(Exceptions.lookup(\"paziņ^ai\"))"
      ],
      "metadata": {
        "id": "6zmsbOR6fUr2",
        "outputId": "fed3ed80-df95-417b-c37e-2d5e8d08910f",
        "colab": {
          "base_uri": "https://localhost:8080/"
        }
      },
      "execution_count": 17,
      "outputs": [
        {
          "output_type": "stream",
          "name": "stdout",
          "text": [
            "(('paziņ^am', 0.0),)\n"
          ]
        }
      ]
    },
    {
      "cell_type": "markdown",
      "source": [
        "### Dzēšana"
      ],
      "metadata": {
        "id": "KC3KMPB2Wrwo"
      }
    },
    {
      "cell_type": "code",
      "source": [
        "MCleanup = hfst.regex('M -> 0')\n",
        "Cleanup = hfst.regex('\"^\" -> 0')\n",
        "print(MCleanup.lookup(\"džemper^Ma'\"))"
      ],
      "metadata": {
        "id": "-H5KwnkOWuzZ",
        "colab": {
          "base_uri": "https://localhost:8080/"
        },
        "outputId": "1a49b0db-3c82-4fde-e5d4-2c5d7d1567e8"
      },
      "execution_count": 18,
      "outputs": [
        {
          "output_type": "stream",
          "name": "stdout",
          "text": [
            "((\"džemper^@_EPSILON_SYMBOL_@a'\", 0.0),)\n"
          ]
        }
      ]
    },
    {
      "cell_type": "markdown",
      "source": [
        "## FST apvienošana"
      ],
      "metadata": {
        "id": "bOTKSh6yfmBd"
      }
    },
    {
      "cell_type": "code",
      "source": [
        "from hfst import compose\n",
        "\n",
        "# Sintēze.\n",
        "cascade = compose((generator, InsertJ, CReplacement, Exceptions, MCleanup, Cleanup))\n",
        "print(cascade.lookup(\"kūk+N+Pl+Loc\"))\n",
        "print(cascade.lookup(\"mašīn+N+Sg+Dat\"))"
      ],
      "metadata": {
        "id": "D-_iS_J0oPxL",
        "colab": {
          "base_uri": "https://localhost:8080/"
        },
        "outputId": "1071b7fc-4d60-4240-fc97-74a531689126"
      },
      "execution_count": 19,
      "outputs": [
        {
          "output_type": "stream",
          "name": "stdout",
          "text": [
            "(('kūk@_EPSILON_SYMBOL_@ās', 0.0),)\n",
            "(('mašīn@_EPSILON_SYMBOL_@ai', 0.0),)\n"
          ]
        }
      ]
    },
    {
      "cell_type": "code",
      "source": [
        "# Noņemam epsilonu.\n",
        "cascade.remove_epsilons()\n",
        "print(cascade.lookup(\"kūk+N+Pl+Loc\")[0][0].replace(\"@_EPSILON_SYMBOL_@\", \"\"))"
      ],
      "metadata": {
        "id": "NlrriBT85BQU",
        "colab": {
          "base_uri": "https://localhost:8080/"
        },
        "outputId": "4f7a3b71-35c5-440b-df6a-078d6ffd7c1f"
      },
      "execution_count": 20,
      "outputs": [
        {
          "output_type": "stream",
          "name": "stdout",
          "text": [
            "kūkās\n"
          ]
        }
      ]
    },
    {
      "cell_type": "code",
      "source": [
        "# Analīze.\n",
        "inv = hfst.HfstTransducer(cascade)\n",
        "inv.invert()\n",
        "inv.convert(hfst.ImplementationType.HFST_OL_TYPE)\n",
        "print(inv.lookup(\"kūkās\"))\n",
        "print(inv.lookup(\"džemperos\"))"
      ],
      "metadata": {
        "id": "ViiSEqs7hoZm",
        "colab": {
          "base_uri": "https://localhost:8080/"
        },
        "outputId": "60801f4a-13fe-425b-9524-60da2001cc08"
      },
      "execution_count": 21,
      "outputs": [
        {
          "output_type": "stream",
          "name": "stdout",
          "text": [
            "(('kūk+N+Pl+Loc', 0.0),)\n",
            "(('džemper+N+Pl+Loc', 0.0),)\n"
          ]
        }
      ]
    },
    {
      "cell_type": "markdown",
      "source": [
        "## FST vizualizācija"
      ],
      "metadata": {
        "id": "DYMDA8StP-BH"
      }
    },
    {
      "cell_type": "code",
      "source": [
        "import sys\n",
        "\n",
        "def hfst2png(transducer, png_name):\n",
        "    # Write the FST to a file using the att format\n",
        "    f = open(\"a.att\", \"w\", encoding=\"utf-8\")\n",
        "    transducer.minimize()\n",
        "    transducer.write_att(f, False)\n",
        "\n",
        "    # Convert the FST file to the dot format\n",
        "    # dot format is used by graphviz library for graph visualization\n",
        "    f = open(\"a.att\", \"r\", encoding=\"utf-8\")\n",
        "    with open(\"graph.dot\", \"w\", encoding=\"utf-8\") as out_f:\n",
        "        out_f.write('digraph G { rankdir=\"LR\"\\n')\n",
        "        out_f.write('node [fontname=\"Tahoma\",shape=circle,fontsize=14,fixedsize=true,fillcolor=\"grey\",style=filled]\\n')\n",
        "        out_f.write('edge [fontname=\"FreeMono\",fontsize=14]\\n')\n",
        "        for line in f.readlines():\n",
        "            line = line.strip()\n",
        "            row = line.split('\\t')\n",
        "            if len(row) >= 4:\n",
        "                out_f.write('%s [label=\"%s\"];\\n' % (row[0], row[0]))\n",
        "                out_f.write('%s -> %s [label=\"%s:%s\"];\\n' % (row[0], row[1], row[2], row[3]))\n",
        "            elif len(row) == 1: # Final state\n",
        "                out_f.write('%s [label=\"%s\",shape=doublecircle];\\n' % (row[0], row[0]))\n",
        "        out_f.write('}')\n",
        "\n",
        "    # Call graphviz dot function to generate a png file from dot file\n",
        "    !dot -Tpng graph.dot > $png_name"
      ],
      "metadata": {
        "id": "6GnxoZOvP-0N"
      },
      "execution_count": 22,
      "outputs": []
    },
    {
      "cell_type": "markdown",
      "source": [
        "Izdrukāšana"
      ],
      "metadata": {
        "id": "ZC4elcZbZqQd"
      }
    },
    {
      "cell_type": "code",
      "source": [
        "for noun in [\"kūk\", \"paziņ\", \"mašīn\", \"kartupel\", \"džemper\", \"kām\", \"salāt\", \"gald\", \"zēn\"]:\n",
        "    for number in [\"Sg\", \"Pl\"]:\n",
        "        for form in [\"Nom\", \"Gen\", \"Dat\", \"Acc\", \"Loc\"]:\n",
        "            print(noun + \"+N+\" + number + \"+\" + form + \" - \" + cascade.lookup(noun + \"+N+\" + number + \"+\" + form)[0][0].replace(\"@_EPSILON_SYMBOL_@\", \"\"))\n"
      ],
      "metadata": {
        "id": "QAq_Z9uMZuHz",
        "colab": {
          "base_uri": "https://localhost:8080/"
        },
        "outputId": "71f69dbb-523d-4e27-84af-588a8cd08740"
      },
      "execution_count": 23,
      "outputs": [
        {
          "output_type": "stream",
          "name": "stdout",
          "text": [
            "kūk+N+Sg+Nom - kūka\n",
            "kūk+N+Sg+Gen - kūkas\n",
            "kūk+N+Sg+Dat - kūkai\n",
            "kūk+N+Sg+Acc - kūku\n",
            "kūk+N+Sg+Loc - kūkā\n",
            "kūk+N+Pl+Nom - kūkas\n",
            "kūk+N+Pl+Gen - kūku\n",
            "kūk+N+Pl+Dat - kūkām\n",
            "kūk+N+Pl+Acc - kūkas\n",
            "kūk+N+Pl+Loc - kūkās\n",
            "paziņ+N+Sg+Nom - paziņa\n",
            "paziņ+N+Sg+Gen - paziņas\n",
            "paziņ+N+Sg+Dat - paziņam\n",
            "paziņ+N+Sg+Acc - paziņu\n",
            "paziņ+N+Sg+Loc - paziņā\n",
            "paziņ+N+Pl+Nom - paziņas\n",
            "paziņ+N+Pl+Gen - paziņu\n",
            "paziņ+N+Pl+Dat - paziņām\n",
            "paziņ+N+Pl+Acc - paziņas\n",
            "paziņ+N+Pl+Loc - paziņās\n",
            "mašīn+N+Sg+Nom - mašīna\n",
            "mašīn+N+Sg+Gen - mašīnas\n",
            "mašīn+N+Sg+Dat - mašīnai\n",
            "mašīn+N+Sg+Acc - mašīnu\n",
            "mašīn+N+Sg+Loc - mašīnā\n",
            "mašīn+N+Pl+Nom - mašīnas\n",
            "mašīn+N+Pl+Gen - mašīnu\n",
            "mašīn+N+Pl+Dat - mašīnām\n",
            "mašīn+N+Pl+Acc - mašīnas\n",
            "mašīn+N+Pl+Loc - mašīnās\n",
            "kartupel+N+Sg+Nom - kartupelis\n",
            "kartupel+N+Sg+Gen - kartupeļa\n",
            "kartupel+N+Sg+Dat - kartupelim\n",
            "kartupel+N+Sg+Acc - kartupeli\n",
            "kartupel+N+Sg+Loc - kartupelī\n",
            "kartupel+N+Pl+Nom - kartupeļi\n",
            "kartupel+N+Pl+Gen - kartupeļu\n",
            "kartupel+N+Pl+Dat - kartupeļiem\n",
            "kartupel+N+Pl+Acc - kartupeļus\n",
            "kartupel+N+Pl+Loc - kartupeļos\n",
            "džemper+N+Sg+Nom - džemperis\n",
            "džemper+N+Sg+Gen - džempera\n",
            "džemper+N+Sg+Dat - džemperim\n",
            "džemper+N+Sg+Acc - džemperi\n",
            "džemper+N+Sg+Loc - džemperī\n",
            "džemper+N+Pl+Nom - džemperi\n",
            "džemper+N+Pl+Gen - džemperu\n",
            "džemper+N+Pl+Dat - džemperiem\n",
            "džemper+N+Pl+Acc - džemperus\n",
            "džemper+N+Pl+Loc - džemperos\n",
            "kām+N+Sg+Nom - kāmis\n",
            "kām+N+Sg+Gen - kāmja\n",
            "kām+N+Sg+Dat - kāmim\n",
            "kām+N+Sg+Acc - kāmi\n",
            "kām+N+Sg+Loc - kāmī\n",
            "kām+N+Pl+Nom - kāmji\n",
            "kām+N+Pl+Gen - kāmju\n",
            "kām+N+Pl+Dat - kāmjiem\n",
            "kām+N+Pl+Acc - kāmjus\n",
            "kām+N+Pl+Loc - kāmjos\n",
            "salāt+N+Sg+Nom - salāts\n",
            "salāt+N+Sg+Gen - salāta\n",
            "salāt+N+Sg+Dat - salātam\n",
            "salāt+N+Sg+Acc - salātu\n",
            "salāt+N+Sg+Loc - salātā\n",
            "salāt+N+Pl+Nom - salāti\n",
            "salāt+N+Pl+Gen - salātu\n",
            "salāt+N+Pl+Dat - salātiem\n",
            "salāt+N+Pl+Acc - salātus\n",
            "salāt+N+Pl+Loc - salātos\n",
            "gald+N+Sg+Nom - galds\n",
            "gald+N+Sg+Gen - galda\n",
            "gald+N+Sg+Dat - galdam\n",
            "gald+N+Sg+Acc - galdu\n",
            "gald+N+Sg+Loc - galdā\n",
            "gald+N+Pl+Nom - galdi\n",
            "gald+N+Pl+Gen - galdu\n",
            "gald+N+Pl+Dat - galdiem\n",
            "gald+N+Pl+Acc - galdus\n",
            "gald+N+Pl+Loc - galdos\n",
            "zēn+N+Sg+Nom - zēns\n",
            "zēn+N+Sg+Gen - zēna\n",
            "zēn+N+Sg+Dat - zēnam\n",
            "zēn+N+Sg+Acc - zēnu\n",
            "zēn+N+Sg+Loc - zēnā\n",
            "zēn+N+Pl+Nom - zēni\n",
            "zēn+N+Pl+Gen - zēnu\n",
            "zēn+N+Pl+Dat - zēniem\n",
            "zēn+N+Pl+Acc - zēnus\n",
            "zēn+N+Pl+Loc - zēnos\n"
          ]
        }
      ]
    }
  ]
}